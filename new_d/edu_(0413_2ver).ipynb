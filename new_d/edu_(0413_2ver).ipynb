{
  "cells": [
    {
      "cell_type": "markdown",
      "metadata": {
        "id": "view-in-github",
        "colab_type": "text"
      },
      "source": [
        "<a href=\"https://colab.research.google.com/github/aehyj92/dev_edu/blob/main/new_d/edu_(0413_2ver).ipynb\" target=\"_parent\"><img src=\"https://colab.research.google.com/assets/colab-badge.svg\" alt=\"Open In Colab\"/></a>"
      ]
    },
    {
      "cell_type": "markdown",
      "id": "37fe97c5",
      "metadata": {
        "id": "37fe97c5"
      },
      "source": [
        "# 신경망과 딥러닝\n",
        "> - 인공 신경망 연구는 지능적인 기계를 만드는법에 대한 영감을 얻기 위해 뇌 구조를 살펴보며 시작됨. </br></br>\n",
        ">\n",
        "> - 인공 신경망은 다재다능하고 확장성이 좋아 이미지를 분류하거나, 음성인식 서비스의 성능을 높이거나, 개인화 된 추천서비스를 제공하거나, 바둑 세계 챔피언을 이기기 위해 수백만 개의 기보를 익히고 자기 자신과 게임하는 등 다양하고 복잡한 대규모 머신러닝 문제를 다룰 수 있음."
      ]
    },
    {
      "cell_type": "markdown",
      "id": "6c85e0e9",
      "metadata": {
        "id": "6c85e0e9"
      },
      "source": [
        "## Basic concept\n",
        "\n",
        "### ANN(Artificial Neural Network)의 Basic Idea** </br>\n",
        "- 아래 그림과 같이 인공신경망은 뇌 구조와 그 시스템동작 원리에서 영감을 받아 설계됨 [1]\n",
        "\n",
        "![ANN](https://mblogthumb-phinf.pstatic.net/20161003_66/12kyny_1475500967723aoj5N_PNG/%B1%E2%B0%E8%C7%D0%BD%C0%28%B8%D3%BD%C5%B7%AF%B4%D7_Machine_Learning%29_%C0%CE%B0%F8%BD%C5%B0%E6%B8%C1%28Artificial_Neural_Network%29_01.png?type=w800)\n",
        "                                                               [그림1-1]\n",
        "\n",
        "\n",
        "<!-- **학습 모식도** -->\n",
        "\n",
        "<!-- ![ANN](https://mblogthumb-phinf.pstatic.net/20161003_264/12kyny_1475503510763gIa4b_PNG/%B1%E2%B0%E8%C7%D0%BD%C0%28%B8%D3%BD%C5%B7%AF%B4%D7_Machine_Learning%29_%C0%CE%B0%F8%BD%C5%B0%E6%B8%C1%28Artificial_Neural_Network%29_02.png?type=w800) -->\n",
        "**A : Neuron의 생물학적 구조로 기본적으로 dendrites/cell body/axon 으로 구성되어 있다. </br></br>\n",
        "B :** \n",
        ">$X_1,X_2,X_3,...,X_n$ = dendrites(수상돌기)를 통해 들어오는 전기적 신호</br></br>\n",
        "  $f(x)$ = dendrites를 통해 받아들인 신호를 중요도에 따라 가중치를 두고 integral</br></br>\n",
        "&nbsp;&nbsp; &nbsp;= $input$값에 개별적 가중치를 곱하여 모두 더해주는 함수(weighted sum)</br></br>\n",
        "\n",
        "**C : 시냅스, 다음 뉴런으로 신호를 전달하기 위한 연결고리</br></br>\n",
        "D : 이전 뉴런의 output값이 다음 뉴런의 input값으로 전달**"
      ]
    },
    {
      "cell_type": "markdown",
      "id": "11df38cb",
      "metadata": {
        "id": "11df38cb"
      },
      "source": [
        "### Perceptron</br>\n",
        "- Perceptron</br>\n",
        ">- 가장 간단한 인공 신경망 구조 중 하나로 TLU(threshold logic unit)으로 불리는 인공뉴런을 기반으로 함\n",
        ">- 입력과 출력이 이진값(on/off)이 아닌 어떤 숫자이고, 각각의 입력 연결은 가중치와 연관됨\n",
        ">- TLU는 입력의 weighted sum을 구하여($z = w_1x_1+w_2x_2+...+w_nx_n = x^Tw$) 계단함수(step function)를 적용하여 결과를 출력\n",
        ">- $h_w(x) = step(z)$ \n",
        ">![](https://o.quizlet.com/aZka55O26J7A2H9gqoDYGQ.png)\n",
        "\n",
        "</br>\n",
        "\n",
        "- FC(Fully Connected)layer</br>\n",
        "\n",
        ">- 퍼셉트론은 층이 하나인 TLU로 구성되는데, TLU는 모든 입력에 연결됨.\n",
        ">\n",
        ">- 한 Layer에 있는 모든 뉴런이 이전 Layer의 모든 뉴런과 연결되어 있을 때 이를 FC(Fully Connected)layer 또는 Dense layer라고 부름.\n",
        ">\n",
        ">![](https://cdn-images-1.medium.com/max/600/1*yjy3dwRL-vmSpmUG7UNJYg@2x.png)\n",
        "\n",
        "- Digital logic gate</br>\n",
        "Digital logic gate를 이용하여 퍼셉트론의 약점을 알아보고 XOR 분류 문제를 해결해 보자.</br>\n",
        "입력값이 두개인 gate에 한해, A와 B의 값을 좌표평면에 나타내었을 때, output 값을 하나의 직선으로 구분할 수 있다면 linear gate라 하고,\n",
        "불가능하면 non-linear gate라 한다.</br>\n",
        "아래 그림은 AND gate의 Truth table과 그것을 좌표평면에 나타 내고 선을 이용하여 이진분류한 그래프이다.(빨간색 숫자는 output(Q)).</br>\n",
        "![](https://img1.daumcdn.net/thumb/R1280x0/?scode=mtistory2&fname=https%3A%2F%2Fblog.kakaocdn.net%2Fdn%2Fd8gVzh%2Fbtru1aMVgJF%2FkM03WnOtI525rxcpkzpu9k%2Fimg.png)</br>\n",
        "![](https://img1.daumcdn.net/thumb/R1280x0/?scode=mtistory2&fname=https%3A%2F%2Fblog.kakaocdn.net%2Fdn%2FxrEmo%2Fbtru6MxkmKL%2FBGqbhgqnwVw7UIV7zPooFK%2Fimg.png)\n",
        "\n",
        "> 위 그림처럼 하나의 (초록색)직선으로 gate의 output을 구분할 수 있는 linear gate에는 AND,OR,NAND,NOR gate가 있다. </br>\n",
        "> 나머지는 직접 그려보도록 하자.\n",
        "\n",
        "</br>\n",
        "아래 그래프는 XOR gate의 input과 output을 좌표평면에 나타낸것이다.\n",
        "\n",
        "![](https://img1.daumcdn.net/thumb/R1280x0/?scode=mtistory2&fname=https%3A%2F%2Fblog.kakaocdn.net%2Fdn%2FokJmg%2Fbtru1aMVqlM%2FgE0irEwdhuQmuwgxaLcCR0%2Fimg.png)\n",
        "\n",
        "</br>\n",
        "\n",
        "> linear gate와는 다르게 하나의 직선으로 0과 1을 구분지을 수 없다. 이 문제에 대한 해결방법을 생각 해 보자.\n"
      ]
    },
    {
      "cell_type": "code",
      "execution_count": null,
      "id": "4cf86555",
      "metadata": {
        "ExecuteTime": {
          "end_time": "2022-02-18T00:39:02.790395Z",
          "start_time": "2022-02-18T00:39:02.769373Z"
        },
        "id": "4cf86555"
      },
      "outputs": [],
      "source": [
        "import numpy as np\n",
        "\n",
        "def AND_Perceptron(x1,x2):\n",
        "    w = np.array([0.5,0.5])\n",
        "    b = -0.7 \n",
        "    theta = 0\n",
        "\n",
        "    x = np.array([x1,x2])\n",
        "    y = np.sum(w*x)+b\n",
        "\n",
        "    if y > theta:\n",
        "        return 1\n",
        "    elif y <= theta:\n",
        "        return 0\n",
        "\n",
        "def OR_Perceptron(x1,x2):\n",
        "    w = np.array([0.5,0.5])\n",
        "    b = 0\n",
        "    theta = 0\n",
        "\n",
        "    x = np.array([x1,x2])\n",
        "    y = np.sum(w*x)+b\n",
        "    \n",
        "    if y > theta:\n",
        "        return 1\n",
        "    elif y <= theta:\n",
        "        return 0\n",
        "\n",
        "def NAND_Perceptron(x1,x2):\n",
        "    w = np.array([0.5,0.5])\n",
        "    b = 0\n",
        "    theta = 0.5\n",
        "\n",
        "    x = np.array([x1,x2])\n",
        "    y = np.sum(w*x)+b\n",
        "    \n",
        "    if y <= theta:\n",
        "        return 1\n",
        "    elif y > theta:\n",
        "        return 0   \n",
        "\n",
        "def XOR_Perceptron(x1,x2):\n",
        "    l1_0 = OR_Perceptron(x1,x2)\n",
        "    l1_1 = NAND_Perceptron(x1,x2)\n",
        "    l2   = AND_Perceptron(l1_0,l1_1)\n",
        "    return l2\n",
        "\n",
        "\n",
        "# inputData = np.array([[0,0],[0,1],[1,0],[1,1]])\n",
        "# Perceptrons = [AND_Perceptron,OR_Perceptron,NAND_Perceptron,XOR_Perceptron]\n",
        "# for box in Perceptrons:\n",
        "#     print(f\"-{box}-\")\n",
        "#     for i in inputData:\n",
        "#         print(str(i) + \" -----> \" + str(box(i[0],i[1])))\n",
        "#     print(\"-\"*16)"
      ]
    },
    {
      "cell_type": "code",
      "execution_count": null,
      "id": "97bb6779",
      "metadata": {
        "ExecuteTime": {
          "end_time": "2022-02-18T00:38:03.224196Z",
          "start_time": "2022-02-18T00:38:03.212019Z"
        },
        "id": "97bb6779",
        "outputId": "32c86775-4470-4488-c83f-65a523dfc08d"
      },
      "outputs": [
        {
          "name": "stdout",
          "output_type": "stream",
          "text": [
            "-<function AND_Perceptron at 0x00000219FF9F5280>-\n",
            "[0 0] -----> 0\n",
            "[0 1] -----> 0\n",
            "[1 0] -----> 0\n",
            "[1 1] -----> 1\n",
            "----------------\n"
          ]
        }
      ],
      "source": [
        "inputData = np.array([[0,0],[0,1],[1,0],[1,1]])\n",
        "\n",
        "print(f\"-{AND_Perceptron}-\")\n",
        "for i in inputData:\n",
        "    print(str(i) + \" -----> \" + str(AND_Perceptron(i[0],i[1])))\n",
        "print(\"-\"*16)"
      ]
    },
    {
      "cell_type": "code",
      "execution_count": null,
      "id": "9d21b57f",
      "metadata": {
        "ExecuteTime": {
          "end_time": "2022-02-18T00:38:51.075729Z",
          "start_time": "2022-02-18T00:38:51.066607Z"
        },
        "id": "9d21b57f",
        "outputId": "45bae2a8-37e3-4891-c7de-b99e8d89e900"
      },
      "outputs": [
        {
          "name": "stdout",
          "output_type": "stream",
          "text": [
            "-<function OR_Perceptron at 0x00000219FF9F5550>-\n",
            "[0 0] -----> 0\n",
            "[0 1] -----> 1\n",
            "[1 0] -----> 1\n",
            "[1 1] -----> 1\n",
            "----------------\n"
          ]
        }
      ],
      "source": [
        "print(f\"-{OR_Perceptron}-\")\n",
        "for i in inputData:\n",
        "    print(str(i) + \" -----> \" + str(OR_Perceptron(i[0],i[1])))\n",
        "print(\"-\"*16)"
      ]
    },
    {
      "cell_type": "code",
      "execution_count": null,
      "id": "62ed2fee",
      "metadata": {
        "ExecuteTime": {
          "end_time": "2022-02-18T00:38:44.703912Z",
          "start_time": "2022-02-18T00:38:44.689535Z"
        },
        "id": "62ed2fee",
        "outputId": "0101332b-6a60-4b9d-a14d-ba427da3c7f7"
      },
      "outputs": [
        {
          "name": "stdout",
          "output_type": "stream",
          "text": [
            "-<function NAND_Perceptron at 0x00000219FF9F54C0>-\n",
            "[0 0] -----> 0\n",
            "[0 1] -----> 1\n",
            "[1 0] -----> 1\n",
            "[1 1] -----> 0\n",
            "----------------\n"
          ]
        }
      ],
      "source": [
        "print(f\"-{NAND_Perceptron}-\")\n",
        "for i in inputData:\n",
        "    print(str(i) + \" -----> \" + str(XOR_Perceptron(i[0],i[1])))\n",
        "print(\"-\"*16)"
      ]
    },
    {
      "cell_type": "code",
      "execution_count": null,
      "id": "614e03d3",
      "metadata": {
        "ExecuteTime": {
          "end_time": "2022-02-18T00:38:42.938560Z",
          "start_time": "2022-02-18T00:38:42.931504Z"
        },
        "id": "614e03d3",
        "outputId": "682a42f4-a3b3-4af0-a0bd-87d80bb8d6d4"
      },
      "outputs": [
        {
          "name": "stdout",
          "output_type": "stream",
          "text": [
            "-<function XOR_Perceptron at 0x00000219FF9F5CA0>-\n",
            "[0 0] -----> 0\n",
            "[0 1] -----> 1\n",
            "[1 0] -----> 1\n",
            "[1 1] -----> 0\n",
            "----------------\n"
          ]
        }
      ],
      "source": [
        "print(f\"-{XOR_Perceptron}-\")\n",
        "for i in inputData:\n",
        "    print(str(i) + \" -----> \" + str(XOR_Perceptron(i[0],i[1])))\n",
        "print(\"-\"*16)"
      ]
    },
    {
      "cell_type": "markdown",
      "id": "231ac831",
      "metadata": {
        "id": "231ac831"
      },
      "source": [
        "###  Affine function\n",
        "\n",
        "**Affine transformation, 인공 신경망의 forward propagation 과정에서 수행하는 행렬의 곱**\n",
        "- 딥러닝에서 앞서 배운 TLU에서 weighted sum을 구하는 수식이 Affine function이다.\n",
        "\n",
        "![e.PNG](https://img1.daumcdn.net/thumb/R1280x0/?scode=mtistory2&fname=https%3A%2F%2Fblog.kakaocdn.net%2Fdn%2FsjQll%2FbtrtydkC2KA%2FeluW3470POpOcRGUBfrhgK%2Fimg.png)\n",
        "\n",
        "-Affine layer의 Forward Propagation은 단순한 연산이므로 지금부터 backward propagation에 대해서 알아보자\n",
        "- backpropagtion이란 Feedforward Neural Networks를 훈련시키기 위해 사용되는 알고리즘이며 미분이 사용된다.\n",
        "- 위 모식도에서 나온 결과값 Z가 어떤식으로 미분이 되며 Backpropagation이 진행되는지 그 과정을 살펴보자\n",
        "\n",
        "1. dX 구하기\n",
        "- 아래 식은 일반적인 Matrix Multiplication을 나타낸 것인데, 규칙이 존재한다.</br>\n",
        "\n",
        "![](https://img1.daumcdn.net/thumb/R1280x0/?scode=mtistory2&fname=https%3A%2F%2Fblog.kakaocdn.net%2Fdn%2Fbdd3fV%2FbtrtB9Bxeq9%2FyIBGKyEce8fXQdpxsXd8CK%2Fimg.png)\n",
        "\n",
        "- 위 그림에서 $a_{i2}$ 는 오직 2행의 원소들과 상호작용하여 결과값을 낸다.\n",
        "- 원소$a_{ij}$로 편미분 연산 시 나머지는 상수항으로 취급되어 아래와 같이 전미분을 통해 간단한 결과값을 얻을 수 있다.</br>\n",
        "> $J$ , activation함수를 통과한 최종값</br>\n",
        "> X, input값\n",
        "> \n",
        ">$\\frac{\\partial J}{\\partial a_{ij}} = \\frac{\\partial J}{\\partial c_{i1}} \\frac{\\partial c_{i1}}{\\partial a_{ij}} + \n",
        "\\frac{\\partial J}{\\partial c_{i2}} \\frac{\\partial c_{i2}}{\\partial a_{ij}} + \n",
        "\\dots  +\n",
        "\\frac{\\partial J}{\\partial c_{i \\gamma}} \\frac{\\partial c_{i\\gamma}}{\\partial a_{ij}}=dc_{i1} \\cdot b_{j1} + \n",
        "dc_{i2} \\cdot b_{j2} + \n",
        "\\dots  + dc_{i\\gamma } \\cdot b_{j\\gamma } \n",
        "= dc_{i1} \\cdot (b_{T})_{1j}+ dc_{i2} \\cdot (b_{T})_{2j} + \\dots  + dc_{i\\gamma } \\cdot (b_{T})_{\\gamma j}\n",
        "=Row_{i}(dC) \\cdot Col_{j}(B^{T})$\n",
        "></br></br>\n",
        "> ** $dX = dZ \\cdot W^{T}$</br></br>\n",
        "\n",
        "\n",
        "\n",
        "\n",
        "2. dW 구하기\n",
        "![](https://img1.daumcdn.net/thumb/R1280x0/?scode=mtistory2&fname=https%3A%2F%2Fblog.kakaocdn.net%2Fdn%2FD2BbS%2FbtrtBPQOEWU%2FLNGeNk43KHJkorDnbZioKk%2Fimg.png)\n",
        ">$\\frac{\\partial J}{\\partial b_{ij}} =\\frac{\\partial J}{\\partial c_{1j}} \\frac{\\partial c_{1j}}{\\partial b_{ij}} + \n",
        "\\frac{\\partial J}{\\partial c_{2j}} \\frac{\\partial c_{2j}}{\\partial b_{ij}} + \n",
        "\\dots  +\n",
        "\\frac{\\partial J}{\\partial c_{\\alpha j}} \\frac{\\partial c_{\\alpha j}}{\\partial b_{ij}}\n",
        "=dc_{1j} \\cdot a_{1i} + \n",
        "dc_{2j} \\cdot a_{2i} + \n",
        "\\dots  +\n",
        "dc_{\\alpha j} \\cdot a_{\\alpha i}$\n",
        ">\n",
        ">$=(a_{T})_{i1} \\cdot dc_{1j}  + \n",
        "(a_{T})_{i2}  \\cdot  dc_{2j} + \n",
        "\\dots  +\n",
        "(a_{T})_{i \\alpha}  \\cdot dc_{\\alpha j}\n",
        "=Row_{i}(A^{T}) \\cdot Col_{j}(dC)$\n",
        "></br></br>\n",
        ">** $dW = X^{T} \\cdot dZ$\n",
        "\n",
        "</br>\n",
        "</br>\n",
        "</br>\n",
        "\n",
        "\n",
        "\n",
        "\n",
        "3. db구하기\n",
        "\n",
        "![](https://img1.daumcdn.net/thumb/R1280x0/?scode=mtistory2&fname=https%3A%2F%2Fblog.kakaocdn.net%2Fdn%2FbVzgb2%2FbtrtAPJY9jc%2FgvCeVkfsz0etP4XcqGa3QK%2Fimg.png)\n",
        "\n",
        "![](https://img1.daumcdn.net/thumb/R1280x0/?scode=mtistory2&fname=https%3A%2F%2Fblog.kakaocdn.net%2Fdn%2FlnHyA%2FbtrtwJqeI6c%2F20NNKLesxE1CS32FFigbL1%2Fimg.png)\n",
        "\n",
        ">$\\frac{\\partial J}{\\partial b_{i}} =\\frac{\\partial J}{\\partial c_{1i}}\\frac{\\partial c_{1i}}{\\partial b_{i}} +\n",
        "\\frac{\\partial J}{\\partial c_{2i}}\\frac{\\partial c_{2i}}{\\partial b_{i}} +\n",
        "\\dots +\n",
        "\\frac{\\partial J}{\\partial c_{\\alpha i}}\\frac{\\partial c_{\\alpha i}}{\\partial b_{i}}\n",
        "=dc_{1i} +\n",
        "dc_{2i} +\n",
        "\\dots +\n",
        "dc_{\\alpha i}\n",
        "=\\sum_{p=1 }^{\\alpha }  dc_{pi}$ \n",
        ">\n",
        ">$\\frac{\\partial J}{\\partial b_{i}} =\\sum_{p=1 }^{\\alpha }  dc_{pi}$\n",
        ">\n",
        "></br></br>\n",
        ">\n",
        ">**  $d\\vec{b}=sum\\big( dC, \\; axis=0 \\big)$\n",
        "\n",
        "\n",
        "**※ Python을 통한 구현** </br>\n",
        "```python\n",
        "class Affine:\n",
        "\n",
        "    def __init__(self, W, B):\n",
        "        self.W = W\n",
        "        self.B = B\n",
        "        self.x = None\n",
        "        self.dW = None\n",
        "        self.db = None\n",
        "        \n",
        "    def forward(self, x):\n",
        "        self.x = x\n",
        "        out = np.dot(x, self.W) + self.B\n",
        "        return out\n",
        "    \n",
        "    def backward(self, dout):\n",
        "        dx = np.dot(dout, self.W.T)\n",
        "        self.dW = np.dot(self.x.T, dout)\n",
        "        self.db = np.sum(dout, axis=0)\n",
        "        return dx\n",
        "```"
      ]
    },
    {
      "cell_type": "markdown",
      "id": "ccf87b2e",
      "metadata": {
        "id": "ccf87b2e"
      },
      "source": [
        "### Activation function\n",
        "- 활성화 함수(Activation Function)는 신경학적으로 볼때 뉴런발사(Firing of a Neuron)의 과정</br> \n",
        "\n",
        "- 최종출력 신호를 다음 뉴런으로 보내줄지 말지 결정하는 역할을 하게 된다.</br>\n",
        "\n",
        "- 뉴런이 다음 뉴런으로 신호를 보낼 때 입력신호가 일정 기준 이상이면 보내고 기준에 달하지 못하면 보내지 않을 수도 있다. 그 신호를 결정 해주는 것이 활성화 함수(Activation Function)\n",
        "- 많은 종류의 활성화 함수가 있고, Activation function의 결정이 결과에 큰 영향을 준다.\n",
        "\n",
        "</br></br>\n",
        " **※ Linear function**</br></br>\n",
        " - 선형함수는 말 그대로 직선적인 함수(y=x)이다.\n",
        "![e.PNG](https://t1.daumcdn.net/cfile/tistory/993FAA4B5B6CF9BC03)\n",
        "> 위의 수식은 layer가 깊어져도 여전히 선형적이라는 것을 보여주고 있다. </br>\n",
        "> 선형 활성화 함수를 사용한다면, 노드의 개수를 아무리 많이 붙여도 결국 하나의 노드를 사용하는 것과 차이가 없다.</br>\n",
        "> 예를 들어 활성화 함수가 $h(x) =cx$와 같다면 각 노드에 합쳐져 출력된 값들은 계수 c만큼 계속 곱해져가며 커지기만 할 뿐이다. $h(x) = ax (a =c^3)$를  쓰는것은 큰 차이가 없다는것이다.</br></br>\n",
        ">\n",
        ">\n",
        ">  선형 활성화 함수의 문제점</br>\n",
        "- 입력치에 이상치가 존재하는 경우 분류를 불가능하게 만든다. 이상치가 나타날 경우 신경망은 기준점을 찾기 힘들게 되기 때문이다.</br>\n",
        "> 반대로 말해 활성화함수를 선형함수로 사용한다는 것은 다층신경망이 아니거나,입력치에 이상치가 없거나, 이상치를 조정하여 데이터에서 이상치가 존재하지 않는 형태로 만들게 되었을 때 큰 문제가 발생하지 않는다는 것이다.</br>\n",
        "\n",
        "</br></br></br>\n",
        "**※ Step Function**</br>\n",
        "- 입력이 양수일때는 1(보낸다)을 음수일때는 0(보내지 않는다)의 신호를 보내주는 이진적인(Binary) 함수이다.</br></br>\n",
        "> 단점</br>\n",
        ">1) 다중 출력이 불가능하다.</br>\n",
        ">2) 합산된 값이 0.1이든 1.0이든 모두 무시하고 1로 전달하기 때문에 출력값이 >희석되는 문제가 발생한다.</br>\n",
        "\n",
        "![e.PNG](https://t1.daumcdn.net/cfile/tistory/99F0DB455B6D2C2315)</br>\n",
        "\n",
        "**※ Sigmoid Function** </br>\n",
        "- 입력을 0에서 1 사이의 값으로 normalize </br></br>\n",
        "\n",
        ">- 장점</br></br>\n",
        ">1) 출력값의 범위가 0~1사이 이며 매끄러운 곡선을 가져 기울기가 급격하게 변하여 발생하는 Gradient Exploding이 발생하지 않는다.\n",
        ">\n",
        ">- 단점</br></br>\n",
        ">1) Gradient가 소실되는 현상이 발생한다 (Gradient vanishing 문제)</br>\n",
        "></br>\n",
        ">  Gradient에 0이 곱해져 그다음 layer로 전파되지 않는다. 즉, 학습이 되지 않는다.</br>\n",
        "</br>\n",
        ">2) 활성함수의 결과 값의 중심이 0이 아닌 0.5이다.이 때문에 computatuon이 매우 느려진다. 이유는 가중치의 기울기가 모두 양수 또는 음수이기 때문에 가중치 업데이트 시 최적경로를 따라 지그재그로 움직이는 문제가 발생한다. (편향이동)</br>\n",
        "</br>\n",
        ">3) 계산이 복잡하다 (exp계산에 연산량이 비싸다)</br></br></br></br>\n",
        ">**$sigmoid(x)=\\frac { 1 }{ 1+{ e }^{ -x } }$** </br></br>\n",
        ">**$\\frac { d }{ \\partial x } sigmoid(x)=\\frac { 1 }{ 1+{ e }^{ -x } } \\left( >1-\\frac { 1 }{ 1+{ e }^{ -x } }  \\right)$**\n",
        "\n",
        "![e.PNG](https://t1.daumcdn.net/cfile/tistory/994E183D5B6D2C230A)\n",
        "</br></br></br>\n",
        "\n",
        "**※ ReLU Function (Rectified Linear Unit)** </br>\n",
        "<!-- **Relu(x)=max(0,x)** </br> --></br>\n",
        "**$Relu(x) = max(0,x)$**</br>\n",
        "![e.PNG](https://t1.daumcdn.net/cfile/tistory/990E4E3F5B6D2CAE28)</br>\n",
        "</br>\n",
        "> 장점</br></br>\n",
        ">(1) 양 극단값이 포화되지 않는다. (양수 지역은 선형적)</br>\n",
        "></br>\n",
        ">(2) 계산이 매우 효율적이다 (최대값 연산 1개)</br>\n",
        "></br>\n",
        ">(3) 수렴속도가 시그모이드류 함수대비 6배 정도 빠르다.</br>\n",
        "></br>\n",
        "> 단점</br>\n",
        "></br>\n",
        "\n",
        ">(1) 입력값이 음수인 경우 항상 0을 출력함 (마찬가지로 파라미터 업데이트가 안됨)</br>\n",
        "</br></br>\n",
        "\n",
        "\n",
        "**※ Softmax Function**</br>\n",
        ">Softmax(소프트맥스)는 입력받은 값을 출력으로 0~1사이의 값으로 모두 정규화하며 출력 값들의 총합은 항상 1이 되는 특성을 가진 함수</br>\n",
        "\n",
        ">분류하고 싶은 클래수의 수 만큼 출력으로 구성하며며,\n",
        "가장 큰 출력 값을 부여받은 클래스가 확률이 가장 높은 것으로 이용된다.</br>\n",
        "![](https://img1.daumcdn.net/thumb/R1280x0/?scode=mtistory2&fname=https%3A%2F%2Fblog.kakaocdn.net%2Fdn%2Fbw5SiP%2FbtqPKtNk3AS%2FGm4MZJvGfsec5EnhIuTLGk%2Fimg.png)\n",
        "\n",
        "**※ Python을 통한 구현** \n",
        "\n",
        "``` python\n",
        "\n",
        "class sigmoid:\n",
        "    def __init__(self):\n",
        "        self.bool = None \n",
        "        \n",
        "    ##순전파 과정    \n",
        "    def forward(self,x):\n",
        "        j = 1/(1 + np.exp(-x))\n",
        "        self.j = j \n",
        "        return j\n",
        "    \n",
        "    ##역전파 과정 \n",
        "    def backward(self,diff_)\n",
        "        dj = diff_ * self.out * (1.0-self.out)\n",
        "        return dj\n",
        "\n",
        "class relu:\n",
        "    def __init__(self):\n",
        "        self.bool = None\n",
        "\n",
        "    ##순전파 과정    \n",
        "    def forward(self,x):\n",
        "        self.bool = (x<=0)\n",
        "        j = x.copy()       ## copy() , 얕은 복사\n",
        "        j[self.bool] = 0\n",
        "        return j\n",
        "    \n",
        "    ##역전파 과정     \n",
        "    def backward(self,d_j):\n",
        "        diff_j[self.bool] = 0\n",
        "        dj = diff_j\n",
        "        return dj\n",
        "\n",
        "\n",
        " def softmax(a): \n",
        "   exp_a = np.exp(a) \n",
        "   sum_exp_a = np.sum(exp_a) \n",
        "   y = exp_a / sum_exp_a \n",
        "   return y\n",
        "\n",
        "class Softmax: \n",
        "  def __init__(self): \n",
        "    self.y = None \n",
        "    self.t = None \n",
        "  \n",
        "  def foward(self, x, t): \n",
        "    self.t = t \n",
        "    self.y = softmax(x) \n",
        "    return y\n",
        "\n",
        "  \n",
        "  def backward(self, dout=1): \n",
        "    batch_size = self.t.shape[0] \n",
        "    dx = (self.y - self.t) / batch_size \n",
        "    return dx\n",
        "\n",
        "\n",
        "```"
      ]
    },
    {
      "cell_type": "markdown",
      "id": "d5ff6a91",
      "metadata": {
        "ExecuteTime": {
          "end_time": "2022-02-10T06:17:17.184452Z",
          "start_time": "2022-02-10T06:17:17.168454Z"
        },
        "id": "d5ff6a91"
      },
      "source": [
        ""
      ]
    },
    {
      "cell_type": "markdown",
      "id": "2170fe6f",
      "metadata": {
        "id": "2170fe6f"
      },
      "source": [
        "### Loss function</br>\n",
        "손실함수란? </br>\n",
        "- 신경망의 성능을 나타내기 위한 함수로,  훈련데이터를 잘 처리하지 못했는가에 대한 척도가 된다.</br>\n",
        "- 모델의 높은 정확도를 위해서는 backpropagation을 통해 손실값을 최대한 작게 하는 최적의 매개변수값을 찾아야 한다.</br>\n",
        "\n",
        "1. Mean Squared Error(MSE) \n",
        "가장 일반적으로 쓸 수 있는 손실함수로는 평균제곱오차가 있다.</br>\n",
        ">예측값과 실제값의 차이가 커질수록 제곱 연산으로 인해 값이 뚜렷해지고 오차가 양수이든 음수이든 누적값을 증가시킨다.</br>\n",
        ">반대로 1미만 값은 더 작아지고, 그 이상의 값은 더 커져 값의 왜곡이 있을 수 있다.</br>\n",
        "![](https://blog.kakaocdn.net/dn/PgqUh/btru2nL4nnM/G9ueHCTwZaIKLOZQelnQa0/img.png)\n",
        "\n",
        "2. Binary Cross Entropy Error(BCEE)</br>\n",
        ">이진 분류에 사용되는 방식으로 예측값이 0과 1사이의 확률 값으로 나온다.보통 1에 가까우면 True, 0에 가까우면 False로 분류한다.</br>\n",
        "![](https://blog.kakaocdn.net/dn/bBua1V/btruXTSLDzt/QK041vvKyo8S4kAnbz6muk/img.png)\n",
        "\n",
        "2. Categorical Cross Entropy Error(CCEE)</br>\n",
        ">분류해야 할 클래스가 3개 이상인 경우 사용된다. </br>\n",
        ">input값이 one-hot의 형태로 제공될 때 사용되며 예측값으로 나오는 숫자 중 가장 높은 숫자를 선택하여 class를 예측한다.</br>\n",
        "![](https://blog.kakaocdn.net/dn/B2EYs/btru6MKQE6e/SDFR2U1mgAVZ6QC2Tdjjo0/img.png)"
      ]
    },
    {
      "cell_type": "markdown",
      "id": "b566f2c9",
      "metadata": {
        "ExecuteTime": {
          "end_time": "2022-03-03T07:17:12.473735Z",
          "start_time": "2022-03-03T07:17:12.465310Z"
        },
        "id": "b566f2c9"
      },
      "source": [
        "### Training</br>\n",
        "\n",
        " - 퍼셉트론은 네트워크가 예측할 때 Loss function을 통해 만드는 오차를 반영하도록 하여 오차가 감소하는 방향으로 연결을 강화시킨다.\n",
        " \n",
        " - 즉, 모든 출력 뉴런에 대해 올바른 예측을 만들 수 있도록 아래 수식과 같이 입력에 연결된 가중치를 강화시킨다.\n",
        " \n",
        "> $w_{ij}^{(next step)} = w_{ij} + lr(y_j - \\hat{y}_j)x_i$ \n",
        "> \n",
        "> $w_{ij}$는 i번째 입력뉴련과j번째 뉴런의 입력값\n",
        ">\n",
        "> $x_i$는 현재 훈련 샘플의 i번째 뉴런의 입력값\n",
        ">\n",
        "> $\\hat{y}_i$는 현재 훈련 샘플의 j번째 출력 뉴런의 출력값\n",
        ">\n",
        "> $y_j$는 현재 훈련 샘플의 j번째 출력 뉴런의 타깃값\n",
        ">\n",
        "> $lr$ = 학습률"
      ]
    },
    {
      "cell_type": "markdown",
      "id": "2708125e",
      "metadata": {
        "id": "2708125e"
      },
      "source": [
        "### 학습률에 따라 달라지는 학습과정 시각화\n",
        "\n",
        "> 들여쓴 블록\n",
        "\n"
      ]
    },
    {
      "cell_type": "code",
      "execution_count": 13,
      "id": "3b4d43a8",
      "metadata": {
        "ExecuteTime": {
          "end_time": "2022-02-24T08:46:13.288472Z",
          "start_time": "2022-02-24T08:46:13.144015Z"
        },
        "id": "3b4d43a8",
        "outputId": "3aa61a99-f1c6-4e88-e01f-7811a651cb82",
        "colab": {
          "base_uri": "https://localhost:8080/",
          "height": 444
        }
      },
      "outputs": [
        {
          "output_type": "display_data",
          "data": {
            "text/plain": [
              "<Figure size 1440x720 with 1 Axes>"
            ],
            "image/png": "[encoded data removed]"
          },
          "metadata": {
            "needs_background": "light"
          }
        }
      ],
      "source": [
        "import numpy as np\n",
        "import matplotlib.pyplot as plt\n",
        "\n",
        "#x값 , 계수, y값 설정\n",
        "axis_x = np.linspace(-20,20,100)\n",
        "coeff = 1.2\n",
        "y = coeff*(xxx**2)\n",
        "lr = 0.1\n",
        "\n",
        "fig, ax = plt.subplots(figsize=(20,10))\n",
        "ax.plot(xxx,y)\n",
        "\n",
        "x = 21\n",
        "for _ in range(6):\n",
        "    y = coeff*(x**2)\n",
        "    ax.scatter(x,y, color='red', s =100)\n",
        "#y값 미분\n",
        "    diff = 2*coeff*x\n",
        "# 업데이트 되는 값들 찍어주기\n",
        "    x_next = x- lr*diff\n",
        "    y_next = coeff*(x_next**2)\n",
        "\n",
        "    ax.plot([x,x_next],[y,y_next],color ='red')\n",
        "\n",
        "    x = x_next\n",
        "\n",
        "ax.tick_params(labelsize=20)\n",
        "ax.grid()\n",
        "plt.show()"
      ]
    },
    {
      "cell_type": "code",
      "source": [
        "\n",
        "np.linspace(-20,20,100)"
      ],
      "metadata": {
        "id": "lEllxl2GHouw",
        "outputId": "77d84ee1-6916-487b-a124-6d646dd1e3a9",
        "colab": {
          "base_uri": "https://localhost:8080/"
        }
      },
      "id": "lEllxl2GHouw",
      "execution_count": 8,
      "outputs": [
        {
          "output_type": "execute_result",
          "data": {
            "text/plain": [
              "array([-20.        , -19.5959596 , -19.19191919, -18.78787879,\n",
              "       -18.38383838, -17.97979798, -17.57575758, -17.17171717,\n",
              "       -16.76767677, -16.36363636, -15.95959596, -15.55555556,\n",
              "       -15.15151515, -14.74747475, -14.34343434, -13.93939394,\n",
              "       -13.53535354, -13.13131313, -12.72727273, -12.32323232,\n",
              "       -11.91919192, -11.51515152, -11.11111111, -10.70707071,\n",
              "       -10.3030303 ,  -9.8989899 ,  -9.49494949,  -9.09090909,\n",
              "        -8.68686869,  -8.28282828,  -7.87878788,  -7.47474747,\n",
              "        -7.07070707,  -6.66666667,  -6.26262626,  -5.85858586,\n",
              "        -5.45454545,  -5.05050505,  -4.64646465,  -4.24242424,\n",
              "        -3.83838384,  -3.43434343,  -3.03030303,  -2.62626263,\n",
              "        -2.22222222,  -1.81818182,  -1.41414141,  -1.01010101,\n",
              "        -0.60606061,  -0.2020202 ,   0.2020202 ,   0.60606061,\n",
              "         1.01010101,   1.41414141,   1.81818182,   2.22222222,\n",
              "         2.62626263,   3.03030303,   3.43434343,   3.83838384,\n",
              "         4.24242424,   4.64646465,   5.05050505,   5.45454545,\n",
              "         5.85858586,   6.26262626,   6.66666667,   7.07070707,\n",
              "         7.47474747,   7.87878788,   8.28282828,   8.68686869,\n",
              "         9.09090909,   9.49494949,   9.8989899 ,  10.3030303 ,\n",
              "        10.70707071,  11.11111111,  11.51515152,  11.91919192,\n",
              "        12.32323232,  12.72727273,  13.13131313,  13.53535354,\n",
              "        13.93939394,  14.34343434,  14.74747475,  15.15151515,\n",
              "        15.55555556,  15.95959596,  16.36363636,  16.76767677,\n",
              "        17.17171717,  17.57575758,  17.97979798,  18.38383838,\n",
              "        18.78787879,  19.19191919,  19.5959596 ,  20.        ])"
            ]
          },
          "metadata": {},
          "execution_count": 8
        }
      ]
    },
    {
      "cell_type": "code",
      "execution_count": null,
      "id": "6689529b",
      "metadata": {
        "ExecuteTime": {
          "end_time": "2022-02-24T08:53:09.548561Z",
          "start_time": "2022-02-24T08:53:09.407599Z"
        },
        "scrolled": false,
        "id": "6689529b",
        "outputId": "07c9f6b9-553f-4333-e1e8-1d09913c70a9"
      },
      "outputs": [
        {
          "data": {
            "image/png": "[encoded data removed]",
            "text/plain": [
              "<Figure size 1440x720 with 1 Axes>"
            ]
          },
          "metadata": {
            "needs_background": "light"
          },
          "output_type": "display_data"
        }
      ],
      "source": [
        "import numpy as np\n",
        "import matplotlib.pyplot as plt\n",
        "\n",
        "#x값 , 계수, y값 설정 ,learning rate 설정\n",
        "x = np.linspace(-3,3,100)\n",
        "coeff = 1.2\n",
        "y = coeff*(x**2)\n",
        "lr = 0.2\n",
        "# lr이 너무 작을때\n",
        "# lr = 0.01\n",
        "\n",
        "fig, ax = plt.subplots(figsize=(20,10))\n",
        "ax.plot(x,y)\n",
        "\n",
        "x = 3\n",
        "for _ in range(6):\n",
        "    y = coeff*(x**2)\n",
        "    ax.scatter(x,y, color='red', s =100)\n",
        "#y값 미분\n",
        "    diff = 2*coeff*x\n",
        "# 업데이트 되는 값들 찍어주기\n",
        "    x_next = x- lr*diff\n",
        "    y_next = coeff*(x_next**2)\n",
        "\n",
        "    ax.plot([x,x_next],[y,y_next],color ='red')\n",
        "\n",
        "    x = x_next\n",
        "\n",
        "ax.tick_params(labelsize=20)\n",
        "ax.grid()\n",
        "plt.show()"
      ]
    },
    {
      "cell_type": "code",
      "execution_count": 14,
      "id": "e46235c0",
      "metadata": {
        "ExecuteTime": {
          "end_time": "2022-03-03T08:30:41.844253Z",
          "start_time": "2022-03-03T08:30:41.732256Z"
        },
        "scrolled": false,
        "id": "e46235c0",
        "outputId": "c3f57a50-ee77-4b56-921b-2a4a0ca0248b",
        "colab": {
          "base_uri": "https://localhost:8080/",
          "height": 592
        }
      },
      "outputs": [
        {
          "output_type": "display_data",
          "data": {
            "text/plain": [
              "<Figure size 720x720 with 1 Axes>"
            ],
            "image/png": "[encoded data removed]"
          },
          "metadata": {
            "needs_background": "light"
          }
        }
      ],
      "source": [
        "import numpy as np\n",
        "import matplotlib.pyplot as plt\n",
        "import matplotlib.cm as cm\n",
        "\n",
        "epochs, lr = 30, 0.2\n",
        "\n",
        "####make dataset####\n",
        "a, b = 2, -1\n",
        "\n",
        "noise_factor = 1.2\n",
        "X = np.random.randn(100, 1)\n",
        "Y = a*X + b + noise_factor * np.random.randn(100, 1)\n",
        "\n",
        "fig, ax = plt.subplots(figsize=(10, 10))\n",
        "ax.scatter(X, Y)\n",
        "\n",
        "\n",
        "##임의의 w,b설정##\n",
        "w, b = np.random.randn(1), np.random.randn(1)\n",
        "\n",
        "##min,max를 이용해 데이터셋X에 대한 예측\n",
        "x_min, x_max = np.min(X), np.max(X)\n",
        "x_predictor = np.linspace(x_min, x_max, 2)\n",
        "y_predictor = w*x_predictor + b\n",
        "\n",
        "# 훈련되기 전 상태, blue line\n",
        "ax.plot(x_predictor, y_predictor, 'blue') \n",
        "\n",
        "\n",
        "for epoch in range(epochs):\n",
        "        for x, y in zip(X, Y):\n",
        "                pred = x * w + b\n",
        "                loss = (pred - y)**2\n",
        "\n",
        "##diff\n",
        "                dloss_dpred = 2*(pred - y)\n",
        "                dpred_dw, dpred_db = x, 1\n",
        "#chain rule\n",
        "                dloss_dw = dloss_dpred * dpred_dw\n",
        "                dloss_db = dloss_dpred * dpred_db\n",
        "#조정된 값\n",
        "                w = w - lr * dloss_dw\n",
        "                b = b - lr * dloss_db\n",
        "#조정된 값에 의한 최종값\n",
        "                y_predictor = w*x_predictor + b\n",
        "ax.plot(x_predictor, y_predictor, 'red')\n",
        "plt.show()"
      ]
    },
    {
      "cell_type": "markdown",
      "id": "bd6551a0",
      "metadata": {
        "ExecuteTime": {
          "end_time": "2022-03-03T08:13:27.923250Z",
          "start_time": "2022-03-03T08:13:27.917255Z"
        },
        "id": "bd6551a0"
      },
      "source": [
        "### Mnist 데이터셋을 활용한 분류기 만들기 (Classifier)"
      ]
    },
    {
      "cell_type": "code",
      "execution_count": 20,
      "id": "06da38ac",
      "metadata": {
        "ExecuteTime": {
          "end_time": "2022-03-03T08:13:01.237154Z",
          "start_time": "2022-03-03T08:13:01.167153Z"
        },
        "id": "06da38ac",
        "outputId": "11b71acd-e207-4a02-d16a-ee7a1578f26a",
        "colab": {
          "base_uri": "https://localhost:8080/",
          "height": 92
        }
      },
      "outputs": [
        {
          "output_type": "execute_result",
          "data": {
            "text/plain": [
              "<matplotlib.image.AxesImage at 0x7f50a68219d0>"
            ]
          },
          "metadata": {},
          "execution_count": 20
        },
        {
          "output_type": "display_data",
          "data": {
            "text/plain": [
              "<Figure size 576x396 with 1 Axes>"
            ],
            "image/png": "[encoded data removed]"
          },
          "metadata": {}
        }
      ],
      "source": [
        "import matplotlib.pyplot as plt\n",
        "base = train_images[0]\n",
        "for i in range(1,20):\n",
        "    img1 = train_images[i]\n",
        "    base = np.hstack((base,img1))\n",
        "plt.imshow(base)    "
      ]
    },
    {
      "cell_type": "code",
      "source": [
        "def sigmoid(z):\n",
        "   a = 1/(1 + np.exp(-z))\n",
        "   return a\n",
        "\n",
        "\n",
        "def softmax(l):\n",
        "  pred = np.exp(l)/np.sum(np.exp(l), axis=1, keepdims=True)\n",
        "  return pred\n",
        "\n",
        "def ccee(pred_,gt_):\n",
        "  bsize_ = len(pred_)\n",
        "  j = np.mean(-np.log(pred_[np.arange(bsize_), gt_]))\n",
        "  print ('YYYYY', len(-np.log(pred_[np.arange(bsize_), gt_])))\n",
        "  return j\n",
        "   \n",
        "\n"
      ],
      "metadata": {
        "id": "rP9F7FBWhJ66"
      },
      "id": "rP9F7FBWhJ66",
      "execution_count": 33,
      "outputs": []
    },
    {
      "cell_type": "code",
      "source": [
        "class Affine:\n",
        "\n",
        "    def __init__(self, W, B):\n",
        "        self.W = W\n",
        "        self.B = B\n",
        "        self.x = None\n",
        "        self.dW = None\n",
        "        self.db = None\n",
        "\n",
        "    def forward(self, x):\n",
        "        self.x = x\n",
        "        out = x@ self.W+ self.B\n",
        "        return out\n",
        "    \n",
        "    def backward(self, dout):\n",
        "        dx = dout @ self.W.T\n",
        "        self.dW = self.x.T@ dout\n",
        "        self.db = np.sum(dout, axis=0)\n",
        "        return dx\n",
        "\n"
      ],
      "metadata": {
        "id": "c2OUlWHeohHo"
      },
      "id": "c2OUlWHeohHo",
      "execution_count": 22,
      "outputs": []
    },
    {
      "cell_type": "code",
      "source": [
        "class SoftmaxWithloss:\n",
        "  def __init__(self):\n",
        "    self.loss = None\n",
        "    self.y = None\n",
        "    self.t = None\n",
        "  def forward(self, x, t):\n",
        "    self.t = t\n",
        "    self.y = softmax(x)\n",
        "    self.loss = ccee(self.y, self.t)\n",
        "    return self.loss\n",
        "  def backward(self, dout=1):\n",
        "    dx = -1/b_size*(Y - Pred)\n",
        "    return dx\n",
        "\n"
      ],
      "metadata": {
        "id": "-9wVJt8lqWHg"
      },
      "id": "-9wVJt8lqWHg",
      "execution_count": 23,
      "outputs": []
    },
    {
      "cell_type": "code",
      "execution_count": 39,
      "id": "42b9b56b",
      "metadata": {
        "ExecuteTime": {
          "end_time": "2022-03-03T07:19:03.649144Z",
          "start_time": "2022-03-03T07:18:41.739005Z"
        },
        "id": "42b9b56b",
        "colab": {
          "base_uri": "https://localhost:8080/"
        },
        "outputId": "0db3098a-569c-43fb-c667-e1e7149384cd"
      },
      "outputs": [
        {
          "output_type": "stream",
          "name": "stdout",
          "text": [
            "Pred: [[4.19107019e-01 1.06817194e-04 7.56196026e-03 1.23399754e-01\n",
            "  3.64149362e-01 2.05222234e-02 7.03036534e-04 6.13792821e-02\n",
            "  1.08044852e-03 1.99009662e-03]] \n",
            "Y: [5]\n",
            "YYYYY 1\n",
            "loss: [3.8862469125910244]\n",
            "1 layer1 (784, 64) 0.005794314171270827 layer2 (64, 32) -0.0024469190623265455 layer3 (32, 10) 0.00902831039999594 -\n",
            "-\n",
            "-\n",
            "\n",
            "Pred: [[1.17230639e-01 7.51860597e-04 2.33852330e-04 3.13034981e-02\n",
            "  8.04639127e-01 3.16518849e-02 5.02651427e-05 1.40489641e-02\n",
            "  5.82599206e-06 8.40827779e-05]] \n",
            "Y: [0]\n",
            "YYYYY 1\n",
            "loss: [2.1436120118644824]\n",
            "2 layer1 (784, 64) 0.005758103147926049 layer2 (64, 32) -0.0022356625226877293 layer3 (32, 10) 0.009028310399995932 -\n",
            "-\n",
            "-\n",
            "\n",
            "Pred: [[8.00956832e-01 1.64621389e-05 4.63623707e-04 9.01559520e-03\n",
            "  1.76770928e-01 8.95850405e-03 2.27551274e-04 3.37926541e-03\n",
            "  1.54960524e-04 5.62777092e-05]] \n",
            "Y: [4]\n",
            "YYYYY 1\n",
            "loss: [1.7329005767722991]\n",
            "3 layer1 (784, 64) 0.005741900554126836 layer2 (64, 32) -0.002050851344741554 layer3 (32, 10) 0.009028310399995926 -\n",
            "-\n",
            "-\n",
            "\n",
            "Pred: [[3.01416177e-01 1.04282220e-04 1.29982939e-02 1.17545677e-01\n",
            "  4.18623074e-01 6.11557579e-02 8.62509101e-04 8.24094877e-02\n",
            "  1.06802442e-03 3.81671649e-03]] \n",
            "Y: [5]\n",
            "YYYYY 1\n",
            "loss: [2.7943312611769042]\n",
            "4 layer1 (784, 64) 0.005742436576658235 layer2 (64, 32) -0.0019441026174664248 layer3 (32, 10) 0.009028310399995926 -\n",
            "-\n",
            "-\n",
            "\n",
            "Pred: [[3.30461760e-01 1.24637912e-03 2.89990736e-04 5.40789197e-02\n",
            "  5.15977651e-01 6.67725744e-02 1.11668336e-04 3.08864432e-02\n",
            "  8.08682174e-06 1.66525988e-04]] \n",
            "Y: [0]\n",
            "YYYYY 1\n",
            "loss: [1.107264328938299]\n",
            "5 layer1 (784, 64) 0.005719456387016222 layer2 (64, 32) -0.001784645318273879 layer3 (32, 10) 0.009028310399995926 -\n",
            "-\n",
            "-\n",
            "\n",
            "Pred: [[3.46066787e-01 1.49013119e-05 1.46062146e-03 1.26110086e-02\n",
            "  6.00481778e-01 3.32736800e-02 2.97255541e-04 5.39313693e-03\n",
            "  2.80804119e-04 1.20026509e-04]] \n",
            "Y: [4]\n",
            "YYYYY 1\n",
            "loss: [0.5100229820459321]\n",
            "6 layer1 (784, 64) 0.005715827789395718 layer2 (64, 32) -0.001718640382966357 layer3 (32, 10) 0.009028310399995937 -\n",
            "-\n",
            "-\n",
            "\n"
          ]
        }
      ],
      "source": [
        "import numpy as np\n",
        "from numpy.random import normal\n",
        "from numpy import zeros\n",
        "\n",
        "from termcolor import colored\n",
        "import matplotlib.pyplot as plt\n",
        "plt.style.use('seaborn')\n",
        "\n",
        "from tensorflow.keras.datasets.mnist import load_data\n",
        "\n",
        "(train_images, train_labels), test_ds = load_data()\n",
        "\n",
        "# set test env.\n",
        "n_data=3\n",
        "# n_data = train_images.shape[0]\n",
        "n_feature = train_images.shape[1]*train_images.shape[2]\n",
        "b_size = 1# batch size\n",
        "n_iter = n_data // b_size\n",
        "epochs = 2\n",
        "lr = 0.03\n",
        "units = [64, 32, 10]\n",
        "# initialize w, b\n",
        "W1 = normal(0, 1, (n_feature, units[0]))\n",
        "B1 = zeros((units[0]))\n",
        "\n",
        "W2 = normal(0, 1, (units[0], units[1]))\n",
        "B2 = zeros((units[1]))\n",
        "\n",
        "W3 = normal(0, 1, (units[1], units[2]))\n",
        "B3 = zeros((units[2]))\n",
        "\n",
        "layer1=Affine(W1,B1)\n",
        "layer2=Affine(W2,B2)\n",
        "layer3=Affine(W3,B3)\n",
        "\n",
        "# print(colored(\"W/B Shapes\", 'green'))\n",
        "# print(f\"W1/B1: {W1.shape}/{B1.shape}\")\n",
        "# print(f\"W2/B2: {W2.shape}/{B2.shape}\")\n",
        "# print(f\"W3/B3: {W3.shape}/{B3.shape}\\n\")\n",
        "count=0\n",
        "losses, accs = list(), list()\n",
        "for epoch in range(epochs):\n",
        "    n_correct, n_data = 0, 0\n",
        "\n",
        "    for b_idx in range(n_iter):\n",
        "\n",
        "            # get mini-batch\n",
        "                images = train_images[b_idx*b_size : (b_idx + 1)*b_size, ...]\n",
        "                X = images.reshape(b_size, -1) / 255.\n",
        "                Y = train_labels[b_idx*b_size : (b_idx + 1)*b_size]\n",
        "                # print(X.shape, Y.shape)\n",
        "\n",
        "                ### forward propagation\n",
        "                # dense1\n",
        "                Z1 = layer1.forward(X)\n",
        "                A1 = sigmoid(Z1)\n",
        "\n",
        "                # dense2\n",
        "                Z2=layer2.forward(A1)\n",
        "                A2 = sigmoid(Z2)\n",
        "\n",
        "                # dense3\n",
        "                Z3=layer3.forward(A2)\n",
        "\n",
        "                # J=loss.forward(Z3,b_size)\n",
        "                \n",
        "                Pred = softmax(Z3)\n",
        "                print('Pred:',Pred,'\\n''Y:',Y)\n",
        "\n",
        "                # loss\n",
        "                J = ccee(Pred,Y)\n",
        "                \n",
        "                #loss 기록\n",
        "                losses.append(J)\n",
        "                print('loss:',losses[-1:])\n",
        "\n",
        "                # calculate accuracy\n",
        "                Pred_label = np.argmax(Pred, axis=1)\n",
        "                n_correct += np.sum(Pred_label == Y)\n",
        "                n_data += b_size\n",
        "\n",
        "                ### backpropagation\n",
        "                labels = Y.copy()\n",
        "                Y = np.zeros_like(Pred)\n",
        "                Y[np.arange(b_size), labels] = 1\n",
        "                \n",
        "                # loss\n",
        "                dJ = -1/b_size*(Y - Pred)\n",
        "\n",
        "                # dense3\n",
        "                dA2 = layer3.backward(dJ)\n",
        "\n",
        "                # dense2\n",
        "                dZ2 = dA2 * A2*(1-A2)\n",
        "                dA1 = layer2.backward(dZ2)\n",
        "\n",
        "                # dense1\n",
        "                dZ1 = dA1 * A1*(1-A1)\n",
        "                dd=layer1.backward(dZ1)\n",
        "\n",
        "                # parameter update\n",
        "                layer3.W, layer3.B = layer3.W-lr*layer3.dW, layer3.B-lr*layer3.db\n",
        "                layer2.W, layer2.B = layer2.W-lr*layer2.dW, layer2.B-lr*layer2.db\n",
        "                layer1.W, layer1.B = layer1.W-lr*layer1.dW, layer1.B-lr*layer1.db\n",
        "                count+=1\n",
        "                print(count,'layer1',np.shape(layer1.W),np.average(layer1.W),'layer2', np.shape(layer2.W),np.average(layer2.W),'layer3',np.shape(layer3.W),np.average(layer3.W),'-\\n'*3)\n",
        "    accs.append(n_correct/n_data)\n",
        "#     losses.append(J)"
      ]
    },
    {
      "cell_type": "code",
      "source": [
        "range(1)"
      ],
      "metadata": {
        "id": "jXUTUgaCOyGQ",
        "outputId": "01151976-3edc-4af2-a80f-526a81ba296b",
        "colab": {
          "base_uri": "https://localhost:8080/"
        }
      },
      "id": "jXUTUgaCOyGQ",
      "execution_count": 63,
      "outputs": [
        {
          "output_type": "execute_result",
          "data": {
            "text/plain": [
              "range(0, 1)"
            ]
          },
          "metadata": {},
          "execution_count": 63
        }
      ]
    },
    {
      "cell_type": "code",
      "execution_count": 66,
      "id": "16d528e1",
      "metadata": {
        "ExecuteTime": {
          "end_time": "2022-03-03T07:19:07.244321Z",
          "start_time": "2022-03-03T07:19:06.968207Z"
        },
        "id": "16d528e1",
        "outputId": "82b544fa-5cba-49f7-dc91-70d89c2ef7f0",
        "colab": {
          "base_uri": "https://localhost:8080/",
          "height": 444
        }
      },
      "outputs": [
        {
          "output_type": "display_data",
          "data": {
            "text/plain": [
              "<Figure size 1440x720 with 2 Axes>"
            ],
            "image/png": "[encoded data removed]"
          },
          "metadata": {}
        }
      ],
      "source": [
        "fig, axes = plt.subplots(2, 1, figsize=(20, 10))\n",
        "axes[0].plot(losses)\n",
        "axes[1].plot(accs)\n",
        "axes[0].set_title(\"Train Loss\", color='darkblue', fontsize=40)\n",
        "axes[0].set_xlabel(\"Iter Idx\", fontsize=30)\n",
        "axes[0].set_ylabel(\"CCEE\", fontsize=30)\n",
        "\n",
        "axes[1].set_title(\"Train Accuracy\", color='darkblue', fontsize=40)\n",
        "axes[1].set_xlabel(\"Epoch\", fontsize=30)\n",
        "axes[1].set_ylabel(\"Accuarcy\", fontsize=30)\n",
        "axes[1].set_yticks(np.linspace(0.4, 1.0, 7))\n",
        "\n",
        "axes[0].tick_params(labelsize=30)\n",
        "axes[1].tick_params(labelsize=30)\n",
        "fig.tight_layout()"
      ]
    },
    {
      "cell_type": "markdown",
      "id": "d44e9dac",
      "metadata": {
        "ExecuteTime": {
          "end_time": "2022-03-03T08:37:55.115954Z",
          "start_time": "2022-03-03T08:37:55.108955Z"
        },
        "id": "d44e9dac"
      },
      "source": [
        "# Convolution Neural Network(CNN)\n",
        "## MLP의 한계와 CNN의 등장\n",
        "#####딥러닝 초기</br>\n",
        "- 회귀 및 분류와 같은 모든 종류의 Task들에 MLP를 사용</br>\n",
        "\n",
        "#####한계점</br>\n",
        "1. 이미지의 Resolution에 따라 매개변수가 기하급수적으로 늘어나야 함.</br>\n",
        "ex)단순한 1채널의 16x16의 이미지 Input으로 1000가지 Output을 뽑아내기 위한 파라미터 수는 256,000개가 필요(bais 제외) </br>\n",
        " 하나의 Layer를 통과하기 위한 Computing Resource가 과하게 필요함.\n",
        "2. 근본적으로 이미지를 다루는데 있어 MLP는 Pixel별로 독립적인 가중치를 필요로 하기 때문에 공간적 특성을 고려하지 못하는 Network\n",
        "\n",
        "#####CNN의 등장 배경\n",
        "- 파라미터 수를 줄이자\n",
        "- 이미지 데이터 특성을 잘 살리자\n",
        "1. 공간적 특성\n",
        "2. 근접한 픽셀간 종속성 \n",
        "3. 이미지 내 유사한 패턴의 반복</br>\n",
        "위와 같은 특성을 잘 살릴 수 있는 Network의 필요로 CNN(Convolution Neural Network)이 등장 </br>\n",
        "\n",
        "#####CNN이란?\n",
        "- 2D형태의 Filter (Kernel)를 활용하여  Input Image와 Convolution연산을 통해 공간적인 특징을 추출해내는 NN(Neural Network)\n",
        "\n",
        "## Convolution \n",
        "![](https://img1.daumcdn.net/thumb/R1280x0/?scode=mtistory2&fname=https%3A%2F%2Fblog.kakaocdn.net%2Fdn%2FcPtdq9%2FbtqwmRy4Egz%2FllFioGfP6HwRPlM0qSVkV1%2Fimg.png)</br>\n",
        "Convolution연산이란?</br>\n",
        "원소간의 곱셈 그리고 총합(위 그림 참조)</br></br>\n",
        "Input Image와 Fiter간의 Convolution연산을 통해 나온 Output Image를 Feature Map이라 부름</br></br>\n",
        "\n",
        "CNN의 가중치</br>\n",
        "= Filter Matrix속 각각의 원소 </br></br>\n",
        "하나의 Filter는 전체 이미지를 Silding Window기법을 통해 이미지를 지나가며 매번 Convolution연산</br>\n",
        "=>Filter Matrix를 공유할 수 있어 매개변수의 개수에 이점을 가짐</br></br></br>\n",
        "\n",
        "Question) Convolution Layer를 이용하여 1채널의 16x16 이미지에 1000개의 Output을 내야한다 했을 때 CNN은 한 레이어에 필요한 매개변수의 개수는?(단, Filter size = (3,3) )</br></br></br>\n",
        "Question) 위 문제에서 32x32 이미지로 변경했을 때 필요한 매개변수의 개수는?</br></br></br>\n",
        "\n",
        "\n",
        "\n",
        "\n",
        "Answer) 3x3x1000=9000(bias를 제외)</br>\n",
        " 9000개의 파라미터로 하나의 convolution layer가 구성 </br>\n",
        "\n",
        "\n",
        "\n",
        "\n",
        "\n",
        "\n",
        "참고) 원소별 곱셈연산이 필요하기 때문에 연산 횟수 측면에서 더 많은 computing resource를 필요로 한다는 단점도 있음\n",
        "## Pooling\n",
        "\n",
        "## Stride\n",
        "\n",
        "\n",
        "\n",
        "\n",
        "https://poloclub.github.io/cnn-explainer/\n"
      ]
    },
    {
      "cell_type": "markdown",
      "source": [
        "## Convolution의 Backpropagation\n"
      ],
      "metadata": {
        "id": "s4b9Hg_CleOC"
      },
      "id": "s4b9Hg_CleOC"
    },
    {
      "cell_type": "markdown",
      "source": [
        "##Convolution layer를 파이썬으로 직접 구현하기"
      ],
      "metadata": {
        "id": "7DDIb67QlwrB"
      },
      "id": "7DDIb67QlwrB"
    },
    {
      "cell_type": "code",
      "source": [
        "import numpy as np\n",
        "from numpy.random import randint\n",
        "\n",
        "def sigmoid(x): return 1 / (1 + np.exp(-x))\n",
        "\n",
        "# \n",
        "H_in, W_in = 5, 7\n",
        "\n",
        "#\n",
        "F = 3\n",
        "\n",
        "#\n",
        "X = randint(0, 10, (H_in, W_in)) \n",
        "\n",
        "#\n",
        "W = randint(0, 10, (F, F)) \n",
        "\n",
        "#\n",
        "B = randint(0, 10, ())\n",
        "\n",
        "print ('X: ')\n",
        "print (X)\n",
        "print ('W: ')\n",
        "print (W)\n",
        "\n",
        "H_out, W_out = H_in - F + 1, W_in - F + 1\n",
        "Z = np.empty(shape=(H_out, W_out))\n",
        "\n",
        "for row_idx in range(H_out):\n",
        "    for col_idx in range(W_out):\n",
        "        window = X[row_idx : row_idx + F,\n",
        "                   col_idx : col_idx + F]\n",
        "        z = np.sum(window * W) + B\n",
        "        Z[row_idx, col_idx] = z\n",
        "        # A = sigmoid(Z)\n",
        "        A = Z\n",
        "print(A.shape)    \n",
        "print(A)    \n"
      ],
      "metadata": {
        "id": "F9RcQ6i0lFTc",
        "outputId": "6532b05d-8982-4b96-b0b2-ba71de65edde",
        "colab": {
          "base_uri": "https://localhost:8080/"
        }
      },
      "id": "F9RcQ6i0lFTc",
      "execution_count": null,
      "outputs": [
        {
          "output_type": "stream",
          "name": "stdout",
          "text": [
            "X: \n",
            "[[2 0 7 0 1 1 4]\n",
            " [3 4 6 3 7 3 3]\n",
            " [7 3 0 7 9 3 9]\n",
            " [4 7 8 4 4 2 6]\n",
            " [9 8 7 2 3 8 3]]\n",
            "W: \n",
            "[[9 1 3]\n",
            " [8 8 8]\n",
            " [5 4 0]]\n",
            "(3, 5)\n",
            "[[190. 126. 222. 179. 183.]\n",
            " [177. 198. 262. 231. 271.]\n",
            " [295. 268. 205. 183. 254.]]\n"
          ]
        }
      ]
    },
    {
      "cell_type": "code",
      "source": [
        "import numpy as np\n",
        "\n",
        "H_in, W_in = 5, 7 # row 개수, column 개수\n",
        "C_in = 3 # color 차원\n",
        "F = 3 # filter_ size\n",
        "C_out = 5 # 출력되는 차원의 수\n",
        "\n",
        "\n",
        "color_img = np.random.normal(0, 1, (H_in, W_in, C_in))\n",
        "filter_ = np.random.normal(0, 1, (F, F, C_in, C_out)) # filter_의 층은 C_in과 동일하게 유지시키며 내부차원 C_out 추가\n",
        "B = np.random.normal(0, 1, (C_out)) # bias는 C_out의 개수만큼 필요\n",
        "\n",
        "H_out, W_out = H_in - F + 1, W_in - F + 1\n",
        "Z = np.empty(shape=(H_out, W_out, C_out)) # Z의 shape의 내부차원은 C_out\n",
        "\n",
        "for C_out_idx in range(C_out): # C_out만큼 for loop를 모두 돌려주어야함.\n",
        "    c_filter = filter_[..., C_out_idx]  # c_filter를 통해 어떤 filter와 연산해줄지 정해주기\n",
        "    c_b = B[C_out_idx]                 # c_b를 통해 filter에 해당하는 bias 정해주기\n",
        "    for H_out_idx in range(H_out):\n",
        "        for W_out_idx in range(W_out):\n",
        "            window = color_img[H_out_idx : H_out_idx + F, \n",
        "                               W_out_idx : W_out_idx + F, ...]\n",
        "            z = np.sum(window*c_filter)+c_b\n",
        "            Z[H_out_idx, W_out_idx, C_out_idx] = z\n",
        "            A = 1 / (1 + np.exp (-Z)) # activation function\n",
        "\n",
        "print(A.shape)        \n",
        "print(A)\n",
        "\n",
        "# print(A)"
      ],
      "metadata": {
        "id": "x9HbjN46lFJl",
        "outputId": "a8383af3-8972-483f-a768-b11f318e32a9",
        "colab": {
          "base_uri": "https://localhost:8080/"
        }
      },
      "id": "x9HbjN46lFJl",
      "execution_count": null,
      "outputs": [
        {
          "output_type": "stream",
          "name": "stdout",
          "text": [
            "(3, 5, 5)\n",
            "[[[6.69440886e-01 9.99213438e-01 4.61428551e-01 3.23826038e-01\n",
            "   1.43850077e-01]\n",
            "  [3.88105527e-02 9.14007234e-01 6.36340271e-01 9.47293397e-01\n",
            "   5.70703325e-03]\n",
            "  [3.24752889e-01 7.87361943e-03 5.35320134e-02 7.06667448e-04\n",
            "   9.98933237e-01]\n",
            "  [9.99675221e-01 8.68662864e-01 9.75279844e-01 8.81646582e-02\n",
            "   9.67558523e-01]\n",
            "  [7.29478771e-01 9.92771170e-01 9.98552828e-01 9.99991605e-01\n",
            "   7.92100425e-01]]\n",
            "\n",
            " [[9.98798799e-01 1.06069628e-04 9.25987104e-01 8.29848500e-05\n",
            "   1.73842771e-02]\n",
            "  [3.37538099e-01 9.87585176e-01 9.98279348e-01 9.85160210e-01\n",
            "   9.56991644e-01]\n",
            "  [2.27262292e-01 1.67271256e-01 7.49380280e-01 1.68724691e-01\n",
            "   9.99998855e-01]\n",
            "  [9.99895595e-01 2.27870514e-01 9.99562651e-01 7.76887992e-01\n",
            "   1.26843177e-01]\n",
            "  [6.02770567e-02 9.92709477e-01 9.42601154e-01 9.99853723e-01\n",
            "   5.09920012e-02]]\n",
            "\n",
            " [[9.94958665e-01 6.16642318e-01 9.96049113e-01 8.37575512e-01\n",
            "   9.98220670e-01]\n",
            "  [1.95217059e-01 9.98345626e-01 2.06849733e-03 9.88587627e-01\n",
            "   8.84001895e-01]\n",
            "  [8.16089545e-01 4.04581887e-01 9.99069149e-01 7.93151268e-01\n",
            "   7.29962620e-01]\n",
            "  [9.35395413e-01 9.99082178e-01 9.99874377e-01 9.01511782e-01\n",
            "   4.31097148e-02]\n",
            "  [3.94217734e-01 1.45706941e-04 9.09155573e-01 3.74142467e-03\n",
            "   1.50778570e-01]]]\n"
          ]
        }
      ]
    },
    {
      "cell_type": "code",
      "source": [
        "import numpy as np\n",
        "from numpy.random import randint\n",
        "\n",
        "def sigmoid(x): return 1 / (1 + np.exp(-x))\n",
        "\n",
        "H_in, W_in = 5, 7\n",
        "F = 3\n",
        "X = randint(0, 10, (H_in, W_in))\n",
        "W = randint(0, 10, (F, F))\n",
        "B = randint(0, 10, ())\n",
        "H_out, W_out = H_in - F + 1, W_in - F + 1\n",
        "Z = np.empty(shape=(H_out, W_out))\n",
        "\n",
        "row_idx = np.repeat(np.arange(F), F).reshape(1, -1)\n",
        "row_idx = row_idx + np.arange(H_out).reshape(-1, 1)\n",
        "row_idx = np.repeat(row_idx, repeats=W_out, axis=0)\n",
        "\n",
        "col_idx = np.tile(np.arange(F), F).reshape(1, -1)\n",
        "col_idx = col_idx + np.arange(W_out).reshape(-1, 1)\n",
        "col_idx = np.tile(col_idx, reps=[H_out, 1])\n",
        "print(X)\n",
        "print(X[row_idx, col_idx])\n"
      ],
      "metadata": {
        "id": "wCuiBxW5lX9g",
        "outputId": "d6707b34-241a-4e68-ce56-772d466f7f94",
        "colab": {
          "base_uri": "https://localhost:8080/"
        }
      },
      "id": "wCuiBxW5lX9g",
      "execution_count": null,
      "outputs": [
        {
          "output_type": "stream",
          "name": "stdout",
          "text": [
            "[[2 1 5 6 0 0 5]\n",
            " [5 5 2 4 9 1 8]\n",
            " [2 5 8 4 8 4 3]\n",
            " [0 3 5 0 8 8 4]\n",
            " [7 8 2 5 0 4 0]]\n",
            "[[2 1 5 5 5 2 2 5 8]\n",
            " [1 5 6 5 2 4 5 8 4]\n",
            " [5 6 0 2 4 9 8 4 8]\n",
            " [6 0 0 4 9 1 4 8 4]\n",
            " [0 0 5 9 1 8 8 4 3]\n",
            " [5 5 2 2 5 8 0 3 5]\n",
            " [5 2 4 5 8 4 3 5 0]\n",
            " [2 4 9 8 4 8 5 0 8]\n",
            " [4 9 1 4 8 4 0 8 8]\n",
            " [9 1 8 8 4 3 8 8 4]\n",
            " [2 5 8 0 3 5 7 8 2]\n",
            " [5 8 4 3 5 0 8 2 5]\n",
            " [8 4 8 5 0 8 2 5 0]\n",
            " [4 8 4 0 8 8 5 0 4]\n",
            " [8 4 3 8 8 4 0 4 0]]\n"
          ]
        }
      ]
    },
    {
      "cell_type": "markdown",
      "source": [
        "https://github.com/parasdahal/deepnet/blob/master/run_cnn.py"
      ],
      "metadata": {
        "id": "1VOz4_tdnwwI"
      },
      "id": "1VOz4_tdnwwI"
    }
  ],
  "metadata": {
    "hide_input": false,
    "kernelspec": {
      "display_name": "Python 3 (ipykernel)",
      "language": "python",
      "name": "python3"
    },
    "language_info": {
      "codemirror_mode": {
        "name": "ipython",
        "version": 3
      },
      "file_extension": ".py",
      "mimetype": "text/x-python",
      "name": "python",
      "nbconvert_exporter": "python",
      "pygments_lexer": "ipython3",
      "version": "3.9.7"
    },
    "latex_envs": {
      "LaTeX_envs_menu_present": true,
      "autoclose": false,
      "autocomplete": true,
      "bibliofile": "biblio.bib",
      "cite_by": "apalike",
      "current_citInitial": 1,
      "eqLabelWithNumbers": true,
      "eqNumInitial": 1,
      "hotkeys": {
        "equation": "Ctrl-E",
        "itemize": "Ctrl-I"
      },
      "labels_anchors": false,
      "latex_user_defs": false,
      "report_style_numbering": false,
      "user_envs_cfg": false
    },
    "nbTranslate": {
      "displayLangs": [
        "*"
      ],
      "hotkey": "alt-t",
      "langInMainMenu": true,
      "sourceLang": "en",
      "targetLang": "fr",
      "useGoogleTranslate": true
    },
    "toc": {
      "base_numbering": 1,
      "nav_menu": {},
      "number_sections": true,
      "sideBar": true,
      "skip_h1_title": false,
      "title_cell": "Table of Contents",
      "title_sidebar": "Contents",
      "toc_cell": false,
      "toc_position": {},
      "toc_section_display": true,
      "toc_window_display": false
    },
    "varInspector": {
      "cols": {
        "lenName": 16,
        "lenType": 16,
        "lenVar": 40
      },
      "kernels_config": {
        "python": {
          "delete_cmd_postfix": "",
          "delete_cmd_prefix": "del ",
          "library": "var_list.py",
          "varRefreshCmd": "print(var_dic_list())"
        },
        "r": {
          "delete_cmd_postfix": ") ",
          "delete_cmd_prefix": "rm(",
          "library": "var_list.r",
          "varRefreshCmd": "cat(var_dic_list()) "
        }
      },
      "types_to_exclude": [
        "module",
        "function",
        "builtin_function_or_method",
        "instance",
        "_Feature"
      ],
      "window_display": false
    },
    "colab": {
      "name": "Untitled1.ipynb",
      "provenance": [],
      "include_colab_link": true
    }
  },
  "nbformat": 4,
  "nbformat_minor": 5
}