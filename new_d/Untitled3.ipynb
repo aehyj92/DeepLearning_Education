{
 "cells": [
  {
   "cell_type": "code",
   "execution_count": 7,
   "id": "47ff219a",
   "metadata": {
    "ExecuteTime": {
     "end_time": "2022-02-09T08:58:32.486692Z",
     "start_time": "2022-02-09T08:58:32.477691Z"
    }
   },
   "outputs": [
    {
     "ename": "ModuleNotFoundError",
     "evalue": "No module named 'torch'",
     "output_type": "error",
     "traceback": [
      "\u001b[1;31m---------------------------------------------------------------------------\u001b[0m",
      "\u001b[1;31mModuleNotFoundError\u001b[0m                       Traceback (most recent call last)",
      "\u001b[1;32m~\\AppData\\Local\\Temp/ipykernel_13224/208216969.py\u001b[0m in \u001b[0;36m<module>\u001b[1;34m\u001b[0m\n\u001b[1;32m----> 1\u001b[1;33m \u001b[1;32mimport\u001b[0m \u001b[0mtorch\u001b[0m\u001b[1;33m\u001b[0m\u001b[1;33m\u001b[0m\u001b[0m\n\u001b[0m\u001b[0;32m      2\u001b[0m \u001b[1;32mimport\u001b[0m \u001b[0mtorch\u001b[0m\u001b[1;33m.\u001b[0m\u001b[0mnn\u001b[0m\u001b[1;33m.\u001b[0m\u001b[0mfunctional\u001b[0m \u001b[1;32mas\u001b[0m \u001b[0mF\u001b[0m\u001b[1;33m\u001b[0m\u001b[1;33m\u001b[0m\u001b[0m\n\u001b[0;32m      3\u001b[0m \u001b[1;32mimport\u001b[0m \u001b[0mmatplotlib\u001b[0m\u001b[1;33m.\u001b[0m\u001b[0mpyplot\u001b[0m \u001b[1;32mas\u001b[0m \u001b[0mplt\u001b[0m\u001b[1;33m\u001b[0m\u001b[1;33m\u001b[0m\u001b[0m\n\u001b[0;32m      4\u001b[0m \u001b[1;33m\u001b[0m\u001b[0m\n\u001b[0;32m      5\u001b[0m \u001b[1;32mfrom\u001b[0m \u001b[0mtorch\u001b[0m \u001b[1;32mimport\u001b[0m \u001b[0mnn\u001b[0m\u001b[1;33m\u001b[0m\u001b[1;33m\u001b[0m\u001b[0m\n",
      "\u001b[1;31mModuleNotFoundError\u001b[0m: No module named 'torch'"
     ]
    }
   ],
   "source": [
    "import torch\n",
    "import torch.nn.functional as F\n",
    "import matplotlib.pyplot as plt\n",
    "\n",
    "from torch import nn\n",
    "from torch import Tensor\n",
    "from PIL import Image\n",
    "from torchvision.transforms import Compose, Resize, ToTensor\n",
    "from einops import rearrange, reduce, repeat\n",
    "from einops.layers.torch import Rearrange, Reduce\n",
    "from torchsummary import summary"
   ]
  },
  {
   "cell_type": "code",
   "execution_count": 5,
   "id": "9093e3e7",
   "metadata": {
    "ExecuteTime": {
     "end_time": "2022-02-09T08:56:34.750351Z",
     "start_time": "2022-02-09T08:54:54.214991Z"
    }
   },
   "outputs": [
    {
     "name": "stdout",
     "output_type": "stream",
     "text": [
      "Collecting package metadata (current_repodata.json): ...working... done\n",
      "Solving environment: ...working... failed with initial frozen solve. Retrying with flexible solve.\n",
      "Collecting package metadata (repodata.json): ...working... done\n",
      "Solving environment: ...working... done\n",
      "Note: you may need to restart the kernel to use updated packages.\n",
      "\n"
     ]
    },
    {
     "name": "stderr",
     "output_type": "stream",
     "text": [
      "WARNING conda.gateways.disk.delete:unlink_or_rename_to_trash(143): Could not remove or rename C:\\Users\\User\\anaconda3\\pkgs\\pytorch-1.10.2-py3.9_cpu_0.tar.bz2.  Please remove this file manually (you may need to reboot to free file handles)\n",
      "WARNING conda.gateways.disk.delete:unlink_or_rename_to_trash(143): Could not remove or rename C:\\Users\\User\\anaconda3\\pkgs\\pytorch-1.10.2-py3.9_cpu_0\\Lib\\site-packages\\torch\\bin\\fbgemm.dll.  Please remove this file manually (you may need to reboot to free file handles)\n",
      "WARNING conda.gateways.disk.delete:unlink_or_rename_to_trash(143): Could not remove or rename C:\\Users\\User\\anaconda3\\pkgs\\pytorch-1.10.2-py3.9_cpu_0\\Lib\\site-packages\\torch\\bin\\fbgemm.dll.  Please remove this file manually (you may need to reboot to free file handles)\n",
      "\n",
      "TypeError('not all arguments converted during string formatting')\n",
      "\n"
     ]
    },
    {
     "name": "stdout",
     "output_type": "stream",
     "text": [
      "\n",
      "## Package Plan ##\n",
      "\n",
      "  environment location: C:\\Users\\User\\anaconda3\n",
      "\n",
      "  added / updated specs:\n",
      "    - cudatoolkit=11.0\n",
      "    - pytorch\n",
      "    - torchaudio\n",
      "    - torchvision\n",
      "\n",
      "\n",
      "The following packages will be downloaded:\n",
      "\n",
      "    package                    |            build\n",
      "    ---------------------------|-----------------\n",
      "    pytorch-1.10.2             |      py3.9_cpu_0       193.3 MB  pytorch\n",
      "    ------------------------------------------------------------\n",
      "                                           Total:       193.3 MB\n",
      "\n",
      "The following NEW packages will be INSTALLED:\n",
      "\n",
      "  cpuonly            pytorch/noarch::cpuonly-2.0-0\n",
      "  cudatoolkit        pkgs/main/win-64::cudatoolkit-11.0.221-h74a9793_0\n",
      "  libuv              pkgs/main/win-64::libuv-1.40.0-he774522_0\n",
      "  pytorch            pytorch/win-64::pytorch-1.10.2-py3.9_cpu_0\n",
      "  pytorch-mutex      pytorch/noarch::pytorch-mutex-1.0-cpu\n",
      "  torchaudio         pytorch/win-64::torchaudio-0.10.2-py39_cpu\n",
      "  torchvision        pytorch/win-64::torchvision-0.11.3-py39_cpu\n",
      "\n",
      "The following packages will be UPDATED:\n",
      "\n",
      "  conda                               4.10.3-py39haa95532_0 --> 4.11.0-py39haa95532_0\n",
      "\n",
      "\n",
      "\n",
      "Downloading and Extracting Packages\n",
      "\n",
      "pytorch-1.10.2       | 193.3 MB  |            |   0% \n",
      "pytorch-1.10.2       | 193.3 MB  |            |   0% \n",
      "pytorch-1.10.2       | 193.3 MB  |            |   0% \n",
      "pytorch-1.10.2       | 193.3 MB  |            |   0% \n",
      "pytorch-1.10.2       | 193.3 MB  |            |   0% \n",
      "pytorch-1.10.2       | 193.3 MB  |            |   0% \n",
      "pytorch-1.10.2       | 193.3 MB  |            |   0% \n",
      "pytorch-1.10.2       | 193.3 MB  |            |   1% \n",
      "pytorch-1.10.2       | 193.3 MB  | 1          |   1% \n",
      "pytorch-1.10.2       | 193.3 MB  | 2          |   2% \n",
      "pytorch-1.10.2       | 193.3 MB  | 2          |   3% \n",
      "pytorch-1.10.2       | 193.3 MB  | 3          |   3% \n",
      "pytorch-1.10.2       | 193.3 MB  | 3          |   3% \n",
      "pytorch-1.10.2       | 193.3 MB  | 3          |   4% \n",
      "pytorch-1.10.2       | 193.3 MB  | 3          |   4% \n",
      "pytorch-1.10.2       | 193.3 MB  | 4          |   4% \n",
      "pytorch-1.10.2       | 193.3 MB  | 4          |   4% \n",
      "pytorch-1.10.2       | 193.3 MB  | 4          |   4% \n",
      "pytorch-1.10.2       | 193.3 MB  | 4          |   4% \n",
      "pytorch-1.10.2       | 193.3 MB  | 4          |   5% \n",
      "pytorch-1.10.2       | 193.3 MB  | 4          |   5% \n",
      "pytorch-1.10.2       | 193.3 MB  | 4          |   5% \n",
      "pytorch-1.10.2       | 193.3 MB  | 4          |   5% \n",
      "pytorch-1.10.2       | 193.3 MB  | 5          |   5% \n",
      "pytorch-1.10.2       | 193.3 MB  | 5          |   5% \n",
      "pytorch-1.10.2       | 193.3 MB  | 5          |   5% \n",
      "pytorch-1.10.2       | 193.3 MB  | 5          |   6% \n",
      "pytorch-1.10.2       | 193.3 MB  | 5          |   6% \n",
      "pytorch-1.10.2       | 193.3 MB  | 5          |   6% \n",
      "pytorch-1.10.2       | 193.3 MB  | 6          |   6% \n",
      "pytorch-1.10.2       | 193.3 MB  | 6          |   7% \n",
      "pytorch-1.10.2       | 193.3 MB  | 6          |   7% \n",
      "pytorch-1.10.2       | 193.3 MB  | 6          |   7% \n",
      "pytorch-1.10.2       | 193.3 MB  | 7          |   7% \n",
      "pytorch-1.10.2       | 193.3 MB  | 7          |   7% \n",
      "pytorch-1.10.2       | 193.3 MB  | 7          |   7% \n",
      "pytorch-1.10.2       | 193.3 MB  | 7          |   7% \n",
      "pytorch-1.10.2       | 193.3 MB  | 7          |   8% \n",
      "pytorch-1.10.2       | 193.3 MB  | 7          |   8% \n",
      "pytorch-1.10.2       | 193.3 MB  | 7          |   8% \n",
      "pytorch-1.10.2       | 193.3 MB  | 7          |   8% \n",
      "pytorch-1.10.2       | 193.3 MB  | 8          |   8% \n",
      "pytorch-1.10.2       | 193.3 MB  | 8          |   8% \n",
      "pytorch-1.10.2       | 193.3 MB  | 8          |   8% \n",
      "pytorch-1.10.2       | 193.3 MB  | 8          |   8% \n",
      "pytorch-1.10.2       | 193.3 MB  | 8          |   9% \n",
      "pytorch-1.10.2       | 193.3 MB  | 8          |   9% \n",
      "pytorch-1.10.2       | 193.3 MB  | 9          |   9% \n",
      "pytorch-1.10.2       | 193.3 MB  | 9          |  10% \n",
      "pytorch-1.10.2       | 193.3 MB  | 9          |  10% \n",
      "pytorch-1.10.2       | 193.3 MB  | #          |  10% \n",
      "pytorch-1.10.2       | 193.3 MB  | #          |  10% \n",
      "pytorch-1.10.2       | 193.3 MB  | #          |  11% \n",
      "pytorch-1.10.2       | 193.3 MB  | #          |  11% \n",
      "pytorch-1.10.2       | 193.3 MB  | #1         |  11% \n",
      "pytorch-1.10.2       | 193.3 MB  | #1         |  12% \n",
      "pytorch-1.10.2       | 193.3 MB  | #3         |  13% \n",
      "pytorch-1.10.2       | 193.3 MB  | #3         |  14% \n",
      "pytorch-1.10.2       | 193.3 MB  | #4         |  14% \n",
      "pytorch-1.10.2       | 193.3 MB  | #5         |  15% \n",
      "pytorch-1.10.2       | 193.3 MB  | #5         |  16% \n",
      "pytorch-1.10.2       | 193.3 MB  | #6         |  16% \n",
      "pytorch-1.10.2       | 193.3 MB  | #6         |  16% \n",
      "pytorch-1.10.2       | 193.3 MB  | #6         |  17% \n",
      "pytorch-1.10.2       | 193.3 MB  | #7         |  17% \n",
      "pytorch-1.10.2       | 193.3 MB  | #7         |  18% \n",
      "pytorch-1.10.2       | 193.3 MB  | #7         |  18% \n",
      "pytorch-1.10.2       | 193.3 MB  | #8         |  18% \n",
      "pytorch-1.10.2       | 193.3 MB  | #8         |  19% \n",
      "pytorch-1.10.2       | 193.3 MB  | #9         |  19% \n",
      "pytorch-1.10.2       | 193.3 MB  | #9         |  19% \n",
      "pytorch-1.10.2       | 193.3 MB  | #9         |  20% \n",
      "pytorch-1.10.2       | 193.3 MB  | ##         |  20% \n",
      "pytorch-1.10.2       | 193.3 MB  | ##         |  21% \n",
      "pytorch-1.10.2       | 193.3 MB  | ##1        |  21% \n",
      "pytorch-1.10.2       | 193.3 MB  | ##1        |  21% \n",
      "pytorch-1.10.2       | 193.3 MB  | ##1        |  22% \n",
      "pytorch-1.10.2       | 193.3 MB  | ##2        |  22% \n",
      "pytorch-1.10.2       | 193.3 MB  | ##2        |  22% \n",
      "pytorch-1.10.2       | 193.3 MB  | ##3        |  23% \n",
      "pytorch-1.10.2       | 193.3 MB  | ##3        |  23% \n",
      "pytorch-1.10.2       | 193.3 MB  | ##3        |  24% \n",
      "pytorch-1.10.2       | 193.3 MB  | ##4        |  24% \n",
      "pytorch-1.10.2       | 193.3 MB  | ##4        |  24% \n",
      "pytorch-1.10.2       | 193.3 MB  | ##4        |  25% \n",
      "pytorch-1.10.2       | 193.3 MB  | ##5        |  25% \n",
      "pytorch-1.10.2       | 193.3 MB  | ##5        |  26% \n",
      "pytorch-1.10.2       | 193.3 MB  | ##5        |  26% \n",
      "pytorch-1.10.2       | 193.3 MB  | ##6        |  26% \n",
      "pytorch-1.10.2       | 193.3 MB  | ##6        |  27% \n",
      "pytorch-1.10.2       | 193.3 MB  | ##7        |  27% \n",
      "pytorch-1.10.2       | 193.3 MB  | ##7        |  27% \n",
      "pytorch-1.10.2       | 193.3 MB  | ##7        |  28% \n",
      "pytorch-1.10.2       | 193.3 MB  | ##8        |  28% \n",
      "pytorch-1.10.2       | 193.3 MB  | ##8        |  28% \n",
      "pytorch-1.10.2       | 193.3 MB  | ##8        |  29% \n",
      "pytorch-1.10.2       | 193.3 MB  | ##9        |  29% \n",
      "pytorch-1.10.2       | 193.3 MB  | ##9        |  30% \n",
      "pytorch-1.10.2       | 193.3 MB  | ###        |  30% \n",
      "pytorch-1.10.2       | 193.3 MB  | ###        |  30% \n",
      "pytorch-1.10.2       | 193.3 MB  | ###        |  31% \n",
      "pytorch-1.10.2       | 193.3 MB  | ###1       |  31% \n",
      "pytorch-1.10.2       | 193.3 MB  | ###1       |  32% \n",
      "pytorch-1.10.2       | 193.3 MB  | ###1       |  32% \n",
      "pytorch-1.10.2       | 193.3 MB  | ###2       |  32% \n",
      "pytorch-1.10.2       | 193.3 MB  | ###2       |  33% \n",
      "pytorch-1.10.2       | 193.3 MB  | ###3       |  33% \n",
      "pytorch-1.10.2       | 193.3 MB  | ###3       |  34% \n",
      "pytorch-1.10.2       | 193.3 MB  | ###3       |  34% \n",
      "pytorch-1.10.2       | 193.3 MB  | ###4       |  34% \n",
      "pytorch-1.10.2       | 193.3 MB  | ###4       |  35% \n",
      "pytorch-1.10.2       | 193.3 MB  | ###5       |  35% \n",
      "pytorch-1.10.2       | 193.3 MB  | ###5       |  35% \n",
      "pytorch-1.10.2       | 193.3 MB  | ###5       |  36% \n",
      "pytorch-1.10.2       | 193.3 MB  | ###6       |  36% \n",
      "pytorch-1.10.2       | 193.3 MB  | ###6       |  36% \n",
      "pytorch-1.10.2       | 193.3 MB  | ###6       |  37% \n",
      "pytorch-1.10.2       | 193.3 MB  | ###7       |  37% \n",
      "pytorch-1.10.2       | 193.3 MB  | ###7       |  37% \n",
      "pytorch-1.10.2       | 193.3 MB  | ###7       |  38% \n",
      "pytorch-1.10.2       | 193.3 MB  | ###8       |  38% \n",
      "pytorch-1.10.2       | 193.3 MB  | ###8       |  39% \n",
      "pytorch-1.10.2       | 193.3 MB  | ###8       |  39% \n",
      "pytorch-1.10.2       | 193.3 MB  | ###9       |  39% \n",
      "pytorch-1.10.2       | 193.3 MB  | ###9       |  40% \n",
      "pytorch-1.10.2       | 193.3 MB  | ###9       |  40% \n",
      "pytorch-1.10.2       | 193.3 MB  | ####       |  40% \n",
      "pytorch-1.10.2       | 193.3 MB  | ####       |  41% \n",
      "pytorch-1.10.2       | 193.3 MB  | ####1      |  41% \n",
      "pytorch-1.10.2       | 193.3 MB  | ####1      |  42% \n",
      "pytorch-1.10.2       | 193.3 MB  | ####1      |  42% \n",
      "pytorch-1.10.2       | 193.3 MB  | ####2      |  42% \n",
      "pytorch-1.10.2       | 193.3 MB  | ####2      |  43% \n",
      "pytorch-1.10.2       | 193.3 MB  | ####2      |  43% \n",
      "pytorch-1.10.2       | 193.3 MB  | ####3      |  43% \n",
      "pytorch-1.10.2       | 193.3 MB  | ####3      |  44% \n",
      "pytorch-1.10.2       | 193.3 MB  | ####4      |  44% \n",
      "pytorch-1.10.2       | 193.3 MB  | ####4      |  44% \n",
      "pytorch-1.10.2       | 193.3 MB  | ####4      |  45% \n",
      "pytorch-1.10.2       | 193.3 MB  | ####5      |  45% \n",
      "pytorch-1.10.2       | 193.3 MB  | ####5      |  45% \n",
      "pytorch-1.10.2       | 193.3 MB  | ####5      |  46% \n",
      "pytorch-1.10.2       | 193.3 MB  | ####6      |  46% \n",
      "pytorch-1.10.2       | 193.3 MB  | ####6      |  47% \n",
      "pytorch-1.10.2       | 193.3 MB  | ####6      |  47% \n",
      "pytorch-1.10.2       | 193.3 MB  | ####7      |  47% \n",
      "pytorch-1.10.2       | 193.3 MB  | ####7      |  48% \n",
      "pytorch-1.10.2       | 193.3 MB  | ####8      |  48% \n",
      "pytorch-1.10.2       | 193.3 MB  | ####8      |  49% \n",
      "pytorch-1.10.2       | 193.3 MB  | ####8      |  49% \n",
      "pytorch-1.10.2       | 193.3 MB  | ####9      |  49% \n",
      "pytorch-1.10.2       | 193.3 MB  | ####9      |  50% \n",
      "pytorch-1.10.2       | 193.3 MB  | #####      |  50% \n",
      "pytorch-1.10.2       | 193.3 MB  | #####      |  50% \n",
      "pytorch-1.10.2       | 193.3 MB  | #####      |  51% \n",
      "pytorch-1.10.2       | 193.3 MB  | #####1     |  51% \n"
     ]
    }
   ],
   "source": [
    "conda install pytorch torchvision torchaudio cudatoolkit=11.0 -c pytorch"
   ]
  },
  {
   "cell_type": "code",
   "execution_count": 3,
   "id": "2adb5f54",
   "metadata": {
    "ExecuteTime": {
     "end_time": "2022-02-09T08:54:38.136791Z",
     "start_time": "2022-02-09T08:54:38.119477Z"
    }
   },
   "outputs": [
    {
     "ename": "NameError",
     "evalue": "name 'torch' is not defined",
     "output_type": "error",
     "traceback": [
      "\u001b[1;31m---------------------------------------------------------------------------\u001b[0m",
      "\u001b[1;31mNameError\u001b[0m                                 Traceback (most recent call last)",
      "\u001b[1;32m~\\AppData\\Local\\Temp/ipykernel_13224/1059889371.py\u001b[0m in \u001b[0;36m<module>\u001b[1;34m\u001b[0m\n\u001b[1;32m----> 1\u001b[1;33m \u001b[0mx\u001b[0m \u001b[1;33m=\u001b[0m \u001b[0mtorch\u001b[0m\u001b[1;33m.\u001b[0m\u001b[0mrandn\u001b[0m\u001b[1;33m(\u001b[0m\u001b[1;36m8\u001b[0m\u001b[1;33m,\u001b[0m \u001b[1;36m3\u001b[0m\u001b[1;33m,\u001b[0m \u001b[1;36m224\u001b[0m\u001b[1;33m,\u001b[0m \u001b[1;36m224\u001b[0m\u001b[1;33m)\u001b[0m\u001b[1;33m\u001b[0m\u001b[1;33m\u001b[0m\u001b[0m\n\u001b[0m\u001b[0;32m      2\u001b[0m \u001b[0mx\u001b[0m\u001b[1;33m.\u001b[0m\u001b[0mshape\u001b[0m\u001b[1;33m\u001b[0m\u001b[1;33m\u001b[0m\u001b[0m\n",
      "\u001b[1;31mNameError\u001b[0m: name 'torch' is not defined"
     ]
    }
   ],
   "source": [
    "x = torch.randn(8, 3, 224, 224)\n",
    "x.shape"
   ]
  },
  {
   "cell_type": "code",
   "execution_count": null,
   "id": "1a7204bd",
   "metadata": {},
   "outputs": [],
   "source": []
  }
 ],
 "metadata": {
  "hide_input": false,
  "kernelspec": {
   "display_name": "Python 3 (ipykernel)",
   "language": "python",
   "name": "python3"
  },
  "language_info": {
   "codemirror_mode": {
    "name": "ipython",
    "version": 3
   },
   "file_extension": ".py",
   "mimetype": "text/x-python",
   "name": "python",
   "nbconvert_exporter": "python",
   "pygments_lexer": "ipython3",
   "version": "3.9.7"
  },
  "latex_envs": {
   "LaTeX_envs_menu_present": true,
   "autoclose": false,
   "autocomplete": true,
   "bibliofile": "biblio.bib",
   "cite_by": "apalike",
   "current_citInitial": 1,
   "eqLabelWithNumbers": true,
   "eqNumInitial": 1,
   "hotkeys": {
    "equation": "Ctrl-E",
    "itemize": "Ctrl-I"
   },
   "labels_anchors": false,
   "latex_user_defs": false,
   "report_style_numbering": false,
   "user_envs_cfg": false
  },
  "nbTranslate": {
   "displayLangs": [
    "*"
   ],
   "hotkey": "alt-t",
   "langInMainMenu": true,
   "sourceLang": "en",
   "targetLang": "fr",
   "useGoogleTranslate": true
  },
  "toc": {
   "base_numbering": 1,
   "nav_menu": {},
   "number_sections": true,
   "sideBar": true,
   "skip_h1_title": false,
   "title_cell": "Table of Contents",
   "title_sidebar": "Contents",
   "toc_cell": false,
   "toc_position": {},
   "toc_section_display": true,
   "toc_window_display": false
  },
  "varInspector": {
   "cols": {
    "lenName": 16,
    "lenType": 16,
    "lenVar": 40
   },
   "kernels_config": {
    "python": {
     "delete_cmd_postfix": "",
     "delete_cmd_prefix": "del ",
     "library": "var_list.py",
     "varRefreshCmd": "print(var_dic_list())"
    },
    "r": {
     "delete_cmd_postfix": ") ",
     "delete_cmd_prefix": "rm(",
     "library": "var_list.r",
     "varRefreshCmd": "cat(var_dic_list()) "
    }
   },
   "types_to_exclude": [
    "module",
    "function",
    "builtin_function_or_method",
    "instance",
    "_Feature"
   ],
   "window_display": false
  }
 },
 "nbformat": 4,
 "nbformat_minor": 5
}
