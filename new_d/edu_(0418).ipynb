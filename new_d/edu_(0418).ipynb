{
  "cells": [
    {
      "cell_type": "markdown",
      "metadata": {
        "id": "view-in-github",
        "colab_type": "text"
      },
      "source": [
        "<a href=\"https://colab.research.google.com/github/aehyj92/dev_edu/blob/main/new_d/edu_(0418).ipynb\" target=\"_parent\"><img src=\"https://colab.research.google.com/assets/colab-badge.svg\" alt=\"Open In Colab\"/></a>"
      ]
    },
    {
      "cell_type": "markdown",
      "id": "37fe97c5",
      "metadata": {
        "id": "37fe97c5"
      },
      "source": [
        "# 신경망과 딥러닝\n",
        "> - 인공 신경망 연구는 지능적인 기계를 만드는법에 대한 영감을 얻기 위해 뇌 구조를 살펴보며 시작됨. </br></br>\n",
        ">\n",
        "> - 인공 신경망은 다재다능하고 확장성이 좋아 이미지를 분류하거나, 음성인식 서비스의 성능을 높이거나, 개인화 된 추천서비스를 제공하거나, 바둑 세계 챔피언을 이기기 위해 수백만 개의 기보를 익히고 자기 자신과 게임하는 등 다양하고 복잡한 대규모 머신러닝 문제를 다룰 수 있음."
      ]
    },
    {
      "cell_type": "markdown",
      "id": "6c85e0e9",
      "metadata": {
        "id": "6c85e0e9"
      },
      "source": [
        "## Basic concept\n",
        "\n",
        "### ANN(Artificial Neural Network)의 Basic Idea** </br>\n",
        "- 아래 그림과 같이 인공신경망은 뇌 구조와 그 시스템동작 원리에서 영감을 받아 설계됨 </br>\n",
        "\n",
        "![ANN](https://mblogthumb-phinf.pstatic.net/20161003_66/12kyny_1475500967723aoj5N_PNG/%B1%E2%B0%E8%C7%D0%BD%C0%28%B8%D3%BD%C5%B7%AF%B4%D7_Machine_Learning%29_%C0%CE%B0%F8%BD%C5%B0%E6%B8%C1%28Artificial_Neural_Network%29_01.png?type=w800)</br>\n",
        "[그림1-1] 뉴런의 구조와 인공신경망[1]</br>\n",
        "\n",
        "\n",
        "<!-- **학습 모식도** -->\n",
        "\n",
        "<!-- ![ANN](https://mblogthumb-phinf.pstatic.net/20161003_264/12kyny_1475503510763gIa4b_PNG/%B1%E2%B0%E8%C7%D0%BD%C0%28%B8%D3%BD%C5%B7%AF%B4%D7_Machine_Learning%29_%C0%CE%B0%F8%BD%C5%B0%E6%B8%C1%28Artificial_Neural_Network%29_02.png?type=w800) -->\n",
        "**A : Neuron의 생물학적 구조로 기본적으로 dendrites/cell body/axon 으로 구성되어 있다. </br></br>\n",
        "B :** \n",
        ">$X_1,X_2,X_3,...,X_n$ = dendrites(수상돌기)를 통해 들어오는 전기적 신호</br></br>\n",
        "  $f(x)$ = dendrites를 통해 받아들인 신호를 중요도에 따라 가중치를 두고 integral</br></br>\n",
        "&nbsp;&nbsp; &nbsp;= $input$값에 개별적 가중치를 곱하여 모두 더해주는 함수(weighted sum)</br></br>\n",
        "\n",
        "**C : 시냅스, 다음 뉴런으로 신호를 전달하기 위한 연결고리</br></br>\n",
        "D : 이전 뉴런의 output값이 다음 뉴런의 input값으로 전달**"
      ]
    },
    {
      "cell_type": "markdown",
      "id": "11df38cb",
      "metadata": {
        "id": "11df38cb"
      },
      "source": [
        "### Perceptron</br>\n",
        "- Perceptron</br>\n",
        ">- 가장 간단한 인공 신경망 구조 중 하나로 TLU(threshold logic unit)으로 불리는 인공뉴런을 기반으로 함\n",
        ">- 입력과 출력이 이진값(on/off)이 아닌 어떤 숫자이고, 각각의 입력 연결은 가중치와 연관됨\n",
        ">- TLU는 입력의 weighted sum을 구하여($z = w_1x_1+w_2x_2+...+w_nx_n = x^Tw$) 계단함수(step function)를 적용하여 결과를 출력\n",
        ">- $h_w(x) = step(z)$ </br>\n",
        ">![](https://o.quizlet.com/aZka55O26J7A2H9gqoDYGQ.png)\n",
        "</br>[그림2-1]Perceptron의 구조[2]\n",
        "\n",
        "</br>\n",
        "\n",
        "- FC(Fully Connected)Layer</br>\n",
        "\n",
        ">- 퍼셉트론은 층이 하나인 TLU로 구성되는데, TLU는 모든 입력에 연결됨.\n",
        ">\n",
        ">- 한 Layer에 있는 모든 뉴런이 이전 Layer의 모든 뉴런과 연결되어 있을 때 이를 FC(Fully Connected)layer 또는 Dense layer라고 부름.\n",
        ">\n",
        ">![](https://cdn-images-1.medium.com/max/600/1*yjy3dwRL-vmSpmUG7UNJYg@2x.png)\n",
        "</br>[그림2-2]Fully Connected Layer의 구조[3]</br>\n",
        "\n",
        "- Digital logic gate</br>\n",
        "Digital logic gate를 이용하여 퍼셉트론의 약점을 알아보고 XOR 분류 문제를 해결해 보자.</br>\n",
        "입력값이 두개인 gate에 한해, A와 B의 값을 좌표평면에 나타내었을 때, output 값을 하나의 직선으로 구분할 수 있다면 linear gate라 하고,\n",
        "불가능하면 non-linear gate라 한다.</br>\n",
        "아래 그림은 AND gate의 Truth table과 그것을 좌표평면에 나타 내고 선을 이용하여 이진분류한 그래프이다.(빨간색 숫자는 output(Q)).</br>\n",
        "![](https://img1.daumcdn.net/thumb/R1280x0/?scode=mtistory2&fname=https%3A%2F%2Fblog.kakaocdn.net%2Fdn%2Fd8gVzh%2Fbtru1aMVgJF%2FkM03WnOtI525rxcpkzpu9k%2Fimg.png)</br>\n",
        "[그림2-3]AND gate의 Truth table</br>\n",
        "![](https://img1.daumcdn.net/thumb/R1280x0/?scode=mtistory2&fname=https%3A%2F%2Fblog.kakaocdn.net%2Fdn%2FxrEmo%2Fbtru6MxkmKL%2FBGqbhgqnwVw7UIV7zPooFK%2Fimg.png)\n",
        "</br>[그림2-4]AND gate를 그래프에 나타낸 그림</br>\n",
        "\n",
        "> 위 그림처럼 하나의 (초록색)직선으로 gate의 output을 구분할 수 있는 linear gate에는 AND,OR,NAND,NOR gate가 있다. </br>\n",
        "> 나머지는 직접 그려보도록 하자.\n",
        "\n",
        "</br>\n",
        "아래 그래프는 XOR gate의 input과 output을 좌표평면에 나타낸것이다.\n",
        "\n",
        "![](https://img1.daumcdn.net/thumb/R1280x0/?scode=mtistory2&fname=https%3A%2F%2Fblog.kakaocdn.net%2Fdn%2FokJmg%2Fbtru1aMVqlM%2FgE0irEwdhuQmuwgxaLcCR0%2Fimg.png)\n",
        "</br>[그림2-5]XOR gate 그래프에 그리기</br>\n",
        "</br>\n",
        "\n",
        "> linear gate와는 다르게 하나의 직선으로 0과 1을 구분지을 수 없다. 이 문제에 대한 해결방법을 생각 해 보자.\n"
      ]
    },
    {
      "cell_type": "code",
      "execution_count": null,
      "id": "4cf86555",
      "metadata": {
        "ExecuteTime": {
          "end_time": "2022-02-18T00:39:02.790395Z",
          "start_time": "2022-02-18T00:39:02.769373Z"
        },
        "id": "4cf86555"
      },
      "outputs": [],
      "source": [
        "import numpy as np\n",
        "\n",
        "def AND_Perceptron(x1,x2):\n",
        "    w = np.array([0.5,0.5])\n",
        "    b = -0.7 \n",
        "    theta = 0\n",
        "\n",
        "    x = np.array([x1,x2])\n",
        "    y = np.sum(w*x)+b\n",
        "\n",
        "    if y > theta:\n",
        "        return 1\n",
        "    elif y <= theta:\n",
        "        return 0\n",
        "\n",
        "def OR_Perceptron(x1,x2):\n",
        "    w = np.array([0.5,0.5])\n",
        "    b = 0\n",
        "    theta = 0\n",
        "\n",
        "    x = np.array([x1,x2])\n",
        "    y = np.sum(w*x)+b\n",
        "    \n",
        "    if y > theta:\n",
        "        return 1\n",
        "    elif y <= theta:\n",
        "        return 0\n",
        "\n",
        "def NAND_Perceptron(x1,x2):\n",
        "    w = np.array([0.5,0.5])\n",
        "    b = 0\n",
        "    theta = 0.5\n",
        "\n",
        "    x = np.array([x1,x2])\n",
        "    y = np.sum(w*x)+b\n",
        "    \n",
        "    if y <= theta:\n",
        "        return 1\n",
        "    elif y > theta:\n",
        "        return 0   \n",
        "\n",
        "def XOR_Perceptron(x1,x2):\n",
        "    l1_0 = OR_Perceptron(x1,x2)\n",
        "    l1_1 = NAND_Perceptron(x1,x2)\n",
        "    l2   = AND_Perceptron(l1_0,l1_1)\n",
        "    return l2\n",
        "\n",
        "\n",
        "# inputData = np.array([[0,0],[0,1],[1,0],[1,1]])\n",
        "# Perceptrons = [AND_Perceptron,OR_Perceptron,NAND_Perceptron,XOR_Perceptron]\n",
        "# for box in Perceptrons:\n",
        "#     print(f\"-{box}-\")\n",
        "#     for i in inputData:\n",
        "#         print(str(i) + \" -----> \" + str(box(i[0],i[1])))\n",
        "#     print(\"-\"*16)"
      ]
    },
    {
      "cell_type": "code",
      "execution_count": null,
      "id": "97bb6779",
      "metadata": {
        "ExecuteTime": {
          "end_time": "2022-02-18T00:38:03.224196Z",
          "start_time": "2022-02-18T00:38:03.212019Z"
        },
        "id": "97bb6779",
        "outputId": "32c86775-4470-4488-c83f-65a523dfc08d"
      },
      "outputs": [
        {
          "name": "stdout",
          "output_type": "stream",
          "text": [
            "-<function AND_Perceptron at 0x00000219FF9F5280>-\n",
            "[0 0] -----> 0\n",
            "[0 1] -----> 0\n",
            "[1 0] -----> 0\n",
            "[1 1] -----> 1\n",
            "----------------\n"
          ]
        }
      ],
      "source": [
        "inputData = np.array([[0,0],[0,1],[1,0],[1,1]])\n",
        "\n",
        "print(f\"-{AND_Perceptron}-\")\n",
        "for i in inputData:\n",
        "    print(str(i) + \" -----> \" + str(AND_Perceptron(i[0],i[1])))\n",
        "print(\"-\"*16)"
      ]
    },
    {
      "cell_type": "code",
      "execution_count": null,
      "id": "9d21b57f",
      "metadata": {
        "ExecuteTime": {
          "end_time": "2022-02-18T00:38:51.075729Z",
          "start_time": "2022-02-18T00:38:51.066607Z"
        },
        "id": "9d21b57f",
        "outputId": "45bae2a8-37e3-4891-c7de-b99e8d89e900"
      },
      "outputs": [
        {
          "name": "stdout",
          "output_type": "stream",
          "text": [
            "-<function OR_Perceptron at 0x00000219FF9F5550>-\n",
            "[0 0] -----> 0\n",
            "[0 1] -----> 1\n",
            "[1 0] -----> 1\n",
            "[1 1] -----> 1\n",
            "----------------\n"
          ]
        }
      ],
      "source": [
        "print(f\"-{OR_Perceptron}-\")\n",
        "for i in inputData:\n",
        "    print(str(i) + \" -----> \" + str(OR_Perceptron(i[0],i[1])))\n",
        "print(\"-\"*16)"
      ]
    },
    {
      "cell_type": "code",
      "execution_count": null,
      "id": "62ed2fee",
      "metadata": {
        "ExecuteTime": {
          "end_time": "2022-02-18T00:38:44.703912Z",
          "start_time": "2022-02-18T00:38:44.689535Z"
        },
        "id": "62ed2fee",
        "outputId": "0101332b-6a60-4b9d-a14d-ba427da3c7f7"
      },
      "outputs": [
        {
          "name": "stdout",
          "output_type": "stream",
          "text": [
            "-<function NAND_Perceptron at 0x00000219FF9F54C0>-\n",
            "[0 0] -----> 0\n",
            "[0 1] -----> 1\n",
            "[1 0] -----> 1\n",
            "[1 1] -----> 0\n",
            "----------------\n"
          ]
        }
      ],
      "source": [
        "print(f\"-{NAND_Perceptron}-\")\n",
        "for i in inputData:\n",
        "    print(str(i) + \" -----> \" + str(XOR_Perceptron(i[0],i[1])))\n",
        "print(\"-\"*16)"
      ]
    },
    {
      "cell_type": "code",
      "execution_count": null,
      "id": "614e03d3",
      "metadata": {
        "ExecuteTime": {
          "end_time": "2022-02-18T00:38:42.938560Z",
          "start_time": "2022-02-18T00:38:42.931504Z"
        },
        "id": "614e03d3",
        "outputId": "682a42f4-a3b3-4af0-a0bd-87d80bb8d6d4"
      },
      "outputs": [
        {
          "name": "stdout",
          "output_type": "stream",
          "text": [
            "-<function XOR_Perceptron at 0x00000219FF9F5CA0>-\n",
            "[0 0] -----> 0\n",
            "[0 1] -----> 1\n",
            "[1 0] -----> 1\n",
            "[1 1] -----> 0\n",
            "----------------\n"
          ]
        }
      ],
      "source": [
        "print(f\"-{XOR_Perceptron}-\")\n",
        "for i in inputData:\n",
        "    print(str(i) + \" -----> \" + str(XOR_Perceptron(i[0],i[1])))\n",
        "print(\"-\"*16)"
      ]
    },
    {
      "cell_type": "markdown",
      "id": "231ac831",
      "metadata": {
        "id": "231ac831"
      },
      "source": [
        "###  Affine function\n",
        "\n",
        "**Affine transformation, 인공 신경망의 forward propagation 과정에서 수행하는 행렬의 곱**\n",
        "- 딥러닝에서 앞서 배운 TLU에서 weighted sum을 구하는 수식이 Affine function이다.\n",
        "\n",
        "![e.PNG](https://img1.daumcdn.net/thumb/R1280x0/?scode=mtistory2&fname=https%3A%2F%2Fblog.kakaocdn.net%2Fdn%2FsjQll%2FbtrtydkC2KA%2FeluW3470POpOcRGUBfrhgK%2Fimg.png)\n",
        "</br>[그림3-1]Affine Layer</br>\n",
        "\n",
        "-Affine layer의 Forward Propagation은 단순한 연산이므로 지금부터 backward propagation에 대해서 알아보자\n",
        "- backpropagtion이란 Feedforward Neural Networks를 훈련시키기 위해 사용되는 알고리즘이며 미분이 사용된다.\n",
        "- 위 모식도에서 나온 결과값 Z가 어떤식으로 미분이 되며 Backpropagation이 진행되는지 그 과정을 살펴보자\n",
        "\n",
        "1. dX 구하기\n",
        "- 아래 식은 일반적인 Matrix Multiplication을 나타낸 것인데, 규칙이 존재한다.</br>\n",
        "\n",
        "![](https://img1.daumcdn.net/thumb/R1280x0/?scode=mtistory2&fname=https%3A%2F%2Fblog.kakaocdn.net%2Fdn%2Fbdd3fV%2FbtrtB9Bxeq9%2FyIBGKyEce8fXQdpxsXd8CK%2Fimg.png)\n",
        "</br>[그림3-2]Matrix Multiplication</br>\n",
        "\n",
        "- 위 그림에서 $a_{i2}$ 는 오직 2행의 원소들과 상호작용하여 결과값을 낸다.\n",
        "- 원소$a_{ij}$로 편미분 연산 시 나머지는 상수항으로 취급되어 아래와 같이 전미분을 통해 간단한 결과값을 얻을 수 있다.</br>\n",
        "> $J$ , activation함수를 통과한 최종값</br>\n",
        "> X, input값\n",
        "> \n",
        ">$\\frac{\\partial J}{\\partial a_{ij}} = \\frac{\\partial J}{\\partial c_{i1}} \\frac{\\partial c_{i1}}{\\partial a_{ij}} + \n",
        "\\frac{\\partial J}{\\partial c_{i2}} \\frac{\\partial c_{i2}}{\\partial a_{ij}} + \n",
        "\\dots  +\n",
        "\\frac{\\partial J}{\\partial c_{i \\gamma}} \\frac{\\partial c_{i\\gamma}}{\\partial a_{ij}}=dc_{i1} \\cdot b_{j1} + \n",
        "dc_{i2} \\cdot b_{j2} + \n",
        "\\dots  + dc_{i\\gamma } \\cdot b_{j\\gamma } \n",
        "= dc_{i1} \\cdot (b_{T})_{1j}+ dc_{i2} \\cdot (b_{T})_{2j} + \\dots  + dc_{i\\gamma } \\cdot (b_{T})_{\\gamma j}\n",
        "=Row_{i}(dC) \\cdot Col_{j}(B^{T})$\n",
        "></br></br>\n",
        "> ** $dX = dZ \\cdot W^{T}$</br></br>\n",
        "\n",
        "\n",
        "\n",
        "\n",
        "2. dW 구하기\n",
        "![](https://img1.daumcdn.net/thumb/R1280x0/?scode=mtistory2&fname=https%3A%2F%2Fblog.kakaocdn.net%2Fdn%2FD2BbS%2FbtrtBPQOEWU%2FLNGeNk43KHJkorDnbZioKk%2Fimg.png)\n",
        "</br>[그림3-3]Matrix Multiplication</br>\n",
        ">$\\frac{\\partial J}{\\partial b_{ij}} =\\frac{\\partial J}{\\partial c_{1j}} \\frac{\\partial c_{1j}}{\\partial b_{ij}} + \n",
        "\\frac{\\partial J}{\\partial c_{2j}} \\frac{\\partial c_{2j}}{\\partial b_{ij}} + \n",
        "\\dots  +\n",
        "\\frac{\\partial J}{\\partial c_{\\alpha j}} \\frac{\\partial c_{\\alpha j}}{\\partial b_{ij}}\n",
        "=dc_{1j} \\cdot a_{1i} + \n",
        "dc_{2j} \\cdot a_{2i} + \n",
        "\\dots  +\n",
        "dc_{\\alpha j} \\cdot a_{\\alpha i}$\n",
        ">\n",
        ">$=(a_{T})_{i1} \\cdot dc_{1j}  + \n",
        "(a_{T})_{i2}  \\cdot  dc_{2j} + \n",
        "\\dots  +\n",
        "(a_{T})_{i \\alpha}  \\cdot dc_{\\alpha j}\n",
        "=Row_{i}(A^{T}) \\cdot Col_{j}(dC)$\n",
        "></br></br>\n",
        ">** $dW = X^{T} \\cdot dZ$\n",
        "\n",
        "</br>\n",
        "</br>\n",
        "</br>\n",
        "\n",
        "\n",
        "\n",
        "\n",
        "3. db구하기\n",
        "\n",
        "![](https://img1.daumcdn.net/thumb/R1280x0/?scode=mtistory2&fname=https%3A%2F%2Fblog.kakaocdn.net%2Fdn%2FbVzgb2%2FbtrtAPJY9jc%2FgvCeVkfsz0etP4XcqGa3QK%2Fimg.png)\n",
        "\n",
        "![](https://img1.daumcdn.net/thumb/R1280x0/?scode=mtistory2&fname=https%3A%2F%2Fblog.kakaocdn.net%2Fdn%2FlnHyA%2FbtrtwJqeI6c%2F20NNKLesxE1CS32FFigbL1%2Fimg.png)\n",
        "</br>[그림3-4]db 구하는 방법</br>\n",
        "\n",
        ">$\\frac{\\partial J}{\\partial b_{i}} =\\frac{\\partial J}{\\partial c_{1i}}\\frac{\\partial c_{1i}}{\\partial b_{i}} +\n",
        "\\frac{\\partial J}{\\partial c_{2i}}\\frac{\\partial c_{2i}}{\\partial b_{i}} +\n",
        "\\dots +\n",
        "\\frac{\\partial J}{\\partial c_{\\alpha i}}\\frac{\\partial c_{\\alpha i}}{\\partial b_{i}}\n",
        "=dc_{1i} +\n",
        "dc_{2i} +\n",
        "\\dots +\n",
        "dc_{\\alpha i}\n",
        "=\\sum_{p=1 }^{\\alpha }  dc_{pi}$ \n",
        ">\n",
        ">$\\frac{\\partial J}{\\partial b_{i}} =\\sum_{p=1 }^{\\alpha }  dc_{pi}$\n",
        ">\n",
        "></br></br>\n",
        ">\n",
        ">**  $d\\vec{b}=sum\\big( dC, \\; axis=0 \\big)$\n",
        "\n",
        "\n",
        "**※ Python을 통한 구현** </br>\n",
        "```python\n",
        "class Affine:\n",
        "\n",
        "    def __init__(self, W, B):\n",
        "        self.W = W\n",
        "        self.B = B\n",
        "        self.x = None\n",
        "        self.dW = None\n",
        "        self.db = None\n",
        "        \n",
        "    def forward(self, x):\n",
        "        self.x = x\n",
        "        out = np.dot(x, self.W) + self.B\n",
        "        return out\n",
        "    \n",
        "    def backward(self, dout):\n",
        "        dx = np.dot(dout, self.W.T)\n",
        "        self.dW = np.dot(self.x.T, dout)\n",
        "        self.db = np.sum(dout, axis=0)\n",
        "        return dx\n",
        "```"
      ]
    },
    {
      "cell_type": "markdown",
      "id": "ccf87b2e",
      "metadata": {
        "id": "ccf87b2e"
      },
      "source": [
        "### Activation function\n",
        "- 활성화 함수(Activation Function)는 신경학적으로 볼때 뉴런발사(Firing of a Neuron)의 과정</br> \n",
        "\n",
        "- 최종출력 신호를 다음 뉴런으로 보내줄지 말지 결정하는 역할을 하게 된다.</br>\n",
        "\n",
        "- 뉴런이 다음 뉴런으로 신호를 보낼 때 입력신호가 일정 기준 이상이면 보내고 기준에 달하지 못하면 보내지 않을 수도 있다. 그 신호를 결정 해주는 것이 활성화 함수(Activation Function)\n",
        "- 많은 종류의 활성화 함수가 있고, Activation function의 결정이 결과에 큰 영향을 준다.\n",
        "\n",
        "</br></br>\n",
        " **※ Linear function**</br></br>\n",
        " - 선형함수는 말 그대로 직선적인 함수(y=x)이다.\n",
        "![e.PNG](https://t1.daumcdn.net/cfile/tistory/993FAA4B5B6CF9BC03)\n",
        "</br>[그림4-1]선형 활성화 함수를 이용한 Layer 쌓기</br>[5]\n",
        "> 위의 수식은 layer가 깊어져도 여전히 선형적이라는 것을 보여주고 있다. </br>\n",
        "> 선형 활성화 함수를 사용한다면, 노드의 개수를 아무리 많이 붙여도 결국 하나의 노드를 사용하는 것과 차이가 없다.</br>\n",
        "> 예를 들어 활성화 함수가 $h(x) =cx$와 같다면 각 노드에 합쳐져 출력된 값들은 계수 c만큼 계속 곱해져가며 커지기만 할 뿐이다. $h(x) = ax (a =c^3)$를  쓰는것은 큰 차이가 없다는것이다.</br></br>\n",
        ">\n",
        ">\n",
        ">  선형 활성화 함수의 문제점</br>\n",
        "- 입력치에 이상치가 존재하는 경우 분류를 불가능하게 만든다. 이상치가 나타날 경우 신경망은 기준점을 찾기 힘들게 되기 때문이다.</br>\n",
        "> 반대로 말해 활성화함수를 선형함수로 사용한다는 것은 다층신경망이 아니거나,입력치에 이상치가 없거나, 이상치를 조정하여 데이터에서 이상치가 존재하지 않는 형태로 만들게 되었을 때 큰 문제가 발생하지 않는다는 것이다.</br>\n",
        "\n",
        "</br></br></br>\n",
        "**※ Step Function**</br>\n",
        "- 입력이 양수일때는 1(보낸다)을 음수일때는 0(보내지 않는다)의 신호를 보내주는 이진적인(Binary) 함수이다.</br></br>\n",
        "> 단점</br>\n",
        ">1) 다중 출력이 불가능하다.</br>\n",
        ">2) 합산된 값이 0.1이든 1.0이든 모두 무시하고 1로 전달하기 때문에 출력값이 >희석되는 문제가 발생한다.</br>\n",
        "\n",
        "![e.PNG](https://t1.daumcdn.net/cfile/tistory/99F0DB455B6D2C2315)</br>\n",
        "</br>[그림4-2]Step Function[6]</br>\n",
        "\n",
        "**※ Sigmoid Function** </br>\n",
        "- 입력을 0에서 1 사이의 값으로 normalize </br></br>\n",
        "\n",
        ">- 장점</br></br>\n",
        ">1) 출력값의 범위가 0~1사이 이며 매끄러운 곡선을 가져 기울기가 급격하게 변하여 발생하는 Gradient Exploding이 발생하지 않는다.\n",
        ">\n",
        ">- 단점</br></br>\n",
        ">1) Gradient가 소실되는 현상이 발생한다 (Gradient vanishing 문제)</br>\n",
        "></br>\n",
        ">  Gradient에 0이 곱해져 그다음 layer로 전파되지 않는다. 즉, 학습이 되지 않는다.</br>\n",
        "</br>\n",
        ">2) 활성함수의 결과 값의 중심이 0이 아닌 0.5이다.이 때문에 computatuon이 매우 느려진다. 이유는 가중치의 기울기가 모두 양수 또는 음수이기 때문에 가중치 업데이트 시 최적경로를 따라 지그재그로 움직이는 문제가 발생한다. (편향이동)</br>\n",
        "</br>\n",
        ">3) 계산이 복잡하다 (exp계산에 연산량이 비싸다)</br></br></br></br>\n",
        ">**$sigmoid(x)=\\frac { 1 }{ 1+{ e }^{ -x } }$** </br></br>\n",
        ">**$\\frac { d }{ \\partial x } sigmoid(x)=\\frac { 1 }{ 1+{ e }^{ -x } } \\left( >1-\\frac { 1 }{ 1+{ e }^{ -x } }  \\right)$**\n",
        "\n",
        "![e.PNG](https://t1.daumcdn.net/cfile/tistory/994E183D5B6D2C230A)\n",
        "</br>[그림4-3]Sigmoid Function[7]</br>\n",
        "</br></br></br>\n",
        "\n",
        "**※ ReLU Function (Rectified Linear Unit)** </br>\n",
        "<!-- **Relu(x)=max(0,x)** </br> --></br>\n",
        "**$Relu(x) = max(0,x)$**</br>\n",
        "![e.PNG](https://t1.daumcdn.net/cfile/tistory/990E4E3F5B6D2CAE28)</br>\n",
        "</br>[그림4-4]Relu Function[8]</br>\n",
        "</br>\n",
        "> 장점</br></br>\n",
        ">(1) 양 극단값이 포화되지 않는다. (양수 지역은 선형적)</br>\n",
        "></br>\n",
        ">(2) 계산이 매우 효율적이다 (최대값 연산 1개)</br>\n",
        "></br>\n",
        ">(3) 수렴속도가 시그모이드류 함수대비 6배 정도 빠르다.</br>\n",
        "></br>\n",
        "> 단점</br>\n",
        "></br>\n",
        "\n",
        ">(1) 입력값이 음수인 경우 항상 0을 출력함 (마찬가지로 파라미터 업데이트가 안됨)</br>\n",
        "</br></br>\n",
        "\n",
        "\n",
        "**※ Softmax Function**</br>\n",
        ">Softmax(소프트맥스)는 입력받은 값을 출력으로 0~1사이의 값으로 모두 정규화하며 출력 값들의 총합은 항상 1이 되는 특성을 가진 함수</br>\n",
        "\n",
        ">분류하고 싶은 클래수의 수 만큼 출력으로 구성하며며,\n",
        "가장 큰 출력 값을 부여받은 클래스가 확률이 가장 높은 것으로 이용된다.</br>\n",
        "![](https://img1.daumcdn.net/thumb/R1280x0/?scode=mtistory2&fname=https%3A%2F%2Fblog.kakaocdn.net%2Fdn%2Fbw5SiP%2FbtqPKtNk3AS%2FGm4MZJvGfsec5EnhIuTLGk%2Fimg.png)\n",
        "</br>[그림4-5]Soft max Function[9]</br>\n",
        "\n",
        "**※ Python을 통한 구현** \n",
        "\n",
        "``` python\n",
        "  \n",
        "def sigmoid(self,x):\n",
        "    y = 1/(1 + np.exp(-x))\n",
        "    self.j = j \n",
        "    return y\n",
        "    \n",
        "\n",
        "def relu(self,x):\n",
        "    self.bool = (x<=0)\n",
        "    j = x.copy()       \n",
        "    j[self.bool] = 0\n",
        "    return y\n",
        "    \n",
        "\n",
        " def softmax(x): \n",
        "   exp_x = np.exp(x) \n",
        "   sum_exp_x = np.sum(exp_x) \n",
        "   y = exp_x / sum_exp_x \n",
        "   return y\n",
        "\n",
        "```"
      ]
    },
    {
      "cell_type": "markdown",
      "id": "2170fe6f",
      "metadata": {
        "id": "2170fe6f"
      },
      "source": [
        "### Loss function</br>\n",
        "손실함수란? </br>\n",
        "- 신경망의 성능을 나타내기 위한 함수로,  훈련데이터를 잘 처리하지 못했는가에 대한 척도가 된다.</br>\n",
        "- 모델의 높은 정확도를 위해서는 backpropagation을 통해 손실값을 최대한 작게 하는 최적의 매개변수값을 찾아야 한다.</br>\n",
        "\n",
        "1. Mean Squared Error(MSE) \n",
        "가장 일반적으로 쓸 수 있는 손실함수로는 평균제곱오차가 있다.</br>\n",
        ">예측값과 실제값의 차이가 커질수록 제곱 연산으로 인해 값이 뚜렷해지고 오차가 양수이든 음수이든 누적값을 증가시킨다.</br>\n",
        ">반대로 1미만 값은 더 작아지고, 그 이상의 값은 더 커져 값의 왜곡이 있을 수 있다.</br>\n",
        "![](https://blog.kakaocdn.net/dn/PgqUh/btru2nL4nnM/G9ueHCTwZaIKLOZQelnQa0/img.png)\n",
        "</br>[그림5-1]MSE</br>\n",
        "\n",
        "2. Binary Cross Entropy Error(BCEE)</br>\n",
        ">이진 분류에 사용되는 방식으로 예측값이 0과 1사이의 확률 값으로 나온다.보통 1에 가까우면 True, 0에 가까우면 False로 분류한다.</br>\n",
        "![](https://blog.kakaocdn.net/dn/bBua1V/btruXTSLDzt/QK041vvKyo8S4kAnbz6muk/img.png)\n",
        "</br>[그림5-2]BCEE</br>\n",
        "\n",
        "2. Categorical Cross Entropy Error(CCEE)</br>\n",
        ">분류해야 할 클래스가 3개 이상인 경우 사용된다. </br>\n",
        ">input값이 one-hot의 형태로 제공될 때 사용되며 예측값으로 나오는 숫자 중 가장 높은 숫자를 선택하여 class를 예측한다.</br>\n",
        "![](https://blog.kakaocdn.net/dn/B2EYs/btru6MKQE6e/SDFR2U1mgAVZ6QC2Tdjjo0/img.png)\n",
        "</br>[그림5-3]CCEE</br>"
      ]
    },
    {
      "cell_type": "markdown",
      "id": "b566f2c9",
      "metadata": {
        "ExecuteTime": {
          "end_time": "2022-03-03T07:17:12.473735Z",
          "start_time": "2022-03-03T07:17:12.465310Z"
        },
        "id": "b566f2c9"
      },
      "source": [
        "### Training</br>\n",
        "\n",
        " - 퍼셉트론은 네트워크가 예측할 때 Loss function을 통해 만드는 오차를 반영하도록 하여 오차가 감소하는 방향으로 연결을 강화시킨다.\n",
        " \n",
        " - 즉, 모든 출력 뉴런에 대해 올바른 예측을 만들 수 있도록 아래 수식과 같이 입력에 연결된 가중치를 강화시킨다.\n",
        " \n",
        "> $w_{ij}^{(next step)} = w_{ij} + lr(y_j - \\hat{y}_j)x_i$ \n",
        "> \n",
        "> $w_{ij}$는 i번째 입력뉴련과j번째 뉴런의 입력값\n",
        ">\n",
        "> $x_i$는 현재 훈련 샘플의 i번째 뉴런의 입력값\n",
        ">\n",
        "> $\\hat{y}_i$는 현재 훈련 샘플의 j번째 출력 뉴런의 출력값\n",
        ">\n",
        "> $y_j$는 현재 훈련 샘플의 j번째 출력 뉴런의 타깃값\n",
        ">\n",
        "> $lr$ = 학습률"
      ]
    },
    {
      "cell_type": "markdown",
      "id": "2708125e",
      "metadata": {
        "id": "2708125e"
      },
      "source": [
        "### 학습률에 따라 달라지는 학습과정 시각화"
      ]
    },
    {
      "cell_type": "code",
      "execution_count": 24,
      "id": "3b4d43a8",
      "metadata": {
        "ExecuteTime": {
          "end_time": "2022-02-24T08:46:13.288472Z",
          "start_time": "2022-02-24T08:46:13.144015Z"
        },
        "id": "3b4d43a8",
        "outputId": "0616da7f-ab57-4e68-dac6-296a1d328d77",
        "colab": {
          "base_uri": "https://localhost:8080/",
          "height": 601
        }
      },
      "outputs": [
        {
          "output_type": "display_data",
          "data": {
            "text/plain": [
              "<Figure size 1440x720 with 1 Axes>"
            ],
            "image/png": "[encoded data removed]"
          },
          "metadata": {}
        }
      ],
      "source": [
        "import numpy as np\n",
        "import matplotlib.pyplot as plt\n",
        "\n",
        "#x값 , 계수, y값 설정\n",
        "LR = 1\n",
        "COEFF = 1.2\n",
        "\n",
        "axis_x = np.linspace(-20,20,100)\n",
        "axis_y = COEFF*(axis_x**2)\n",
        "fig, ax = plt.subplots(figsize=(20,10))\n",
        "ax.plot(axis_x,axis_y)\n",
        "\n",
        "X = 3\n",
        "for _ in range(6):\n",
        "    y = COEFF*(X**2)\n",
        "    ax.scatter(X,y, color='red', s =100)\n",
        "#y값 미분\n",
        "    diff = 2*COEFF*X\n",
        "# 업데이트 되는 값들 찍어주기\n",
        "    x_next = X- LR*diff\n",
        "    y_next = COEFF*(x_next**2)\n",
        "\n",
        "    ax.plot([X,x_next],[y,y_next],color ='red')\n",
        "\n",
        "    X = x_next\n",
        "\n",
        "ax.tick_params(labelsize=20)\n",
        "ax.grid()\n",
        "plt.show()"
      ]
    },
    {
      "cell_type": "code",
      "source": [
        "import numpy as np\n",
        "import matplotlib.pyplot as plt\n",
        "\n",
        "#x값 , 계수, y값 설정\n",
        "COEFF = 1.2\n",
        "LR = 0.1\n",
        "\n",
        "axis_x = np.linspace(-20,20,100)\n",
        "axis_y = COEFF*(axis_x**2)\n",
        "fig, ax = plt.subplots(figsize=(20,10))\n",
        "ax.plot(axis_x,axis_y)\n",
        "\n",
        "X = 20\n",
        "for _ in range(6):\n",
        "    y = COEFF*(X**2)\n",
        "    ax.scatter(X,y, color='red', s =100)\n",
        "#y값 미분\n",
        "    diff = 2*COEFF*X\n",
        "# 업데이트 되는 값들 찍어주기\n",
        "    x_next = X- LR*diff\n",
        "    y_next = COEFF*(x_next**2)\n",
        "\n",
        "    ax.plot([X,x_next],[y,y_next],color ='red')\n",
        "\n",
        "    X = x_next\n",
        "\n",
        "ax.tick_params(labelsize=20)\n",
        "ax.grid()\n",
        "plt.show()"
      ],
      "metadata": {
        "colab": {
          "base_uri": "https://localhost:8080/",
          "height": 604
        },
        "id": "7moiVFQIcMzT",
        "outputId": "543e74fc-c33f-4b56-ca6f-f89bd52f3a30"
      },
      "id": "7moiVFQIcMzT",
      "execution_count": 27,
      "outputs": [
        {
          "output_type": "display_data",
          "data": {
            "text/plain": [
              "<Figure size 1440x720 with 1 Axes>"
            ],
            "image/png": "[encoded data removed]"
          },
          "metadata": {}
        }
      ]
    },
    {
      "cell_type": "code",
      "execution_count": 100,
      "id": "e46235c0",
      "metadata": {
        "ExecuteTime": {
          "end_time": "2022-03-03T08:30:41.844253Z",
          "start_time": "2022-03-03T08:30:41.732256Z"
        },
        "scrolled": false,
        "id": "e46235c0",
        "outputId": "f040d599-d76e-4c40-a29b-1d1fc308a8c8",
        "colab": {
          "base_uri": "https://localhost:8080/",
          "height": 592
        }
      },
      "outputs": [
        {
          "output_type": "display_data",
          "data": {
            "text/plain": [
              "<Figure size 720x720 with 1 Axes>"
            ],
            "image/png": "[encoded data removed]"
          },
          "metadata": {}
        }
      ],
      "source": [
        "import numpy as np\n",
        "import matplotlib.pyplot as plt\n",
        "import matplotlib.cm as cm\n",
        "\n",
        "EPOCHS, LR = 30, 0.001\n",
        "\n",
        "####make dataset####\n",
        "A, B = 2, -1\n",
        "NOISE = 1.2\n",
        "X = np.random.randn(100, 1)\n",
        "Y = A*X + B + NOISE * np.random.randn(100, 1)\n",
        "\n",
        "fig, ax = plt.subplots(figsize=(10, 10))\n",
        "ax.scatter(X, Y,label='Random Data')\n",
        "\n",
        "##임의의 w,b설정##\n",
        "W, B = np.random.randn(1), np.random.randn(1)\n",
        "\n",
        "##min,max를 이용해 데이터셋X에 대한 예측\n",
        "x_min, x_max = np.min(X), np.max(X)\n",
        "x_predictor = np.linspace(x_min, x_max, 2)\n",
        "y_predictor = W*x_predictor + B\n",
        "\n",
        "# 훈련되기 전 상태, blue line\n",
        "ax.plot(x_predictor, y_predictor, 'blue',label='Initial predict') \n",
        "\n",
        "\n",
        "for epoch in range(EPOCHS):\n",
        "        for x, y in zip(X, Y):\n",
        "                pred = x * W + B\n",
        "                loss = (pred - y)**2\n",
        "\n",
        "##diff\n",
        "                dloss_dpred = 2*(pred - y)\n",
        "                dpred_dw, dpred_db = x, 1\n",
        "#chain rule\n",
        "                dloss_dw = dloss_dpred * dpred_dw\n",
        "                dloss_db = dloss_dpred * dpred_db\n",
        "#조정된 값\n",
        "                W = W - LR * dloss_dw\n",
        "                B = B - LR * dloss_db\n",
        "#조정된 값에 의한 최종값\n",
        "                y_predictor = W*x_predictor + B\n",
        "ax.plot(x_predictor, y_predictor, 'red',label='Final predict')\n",
        "ax.legend()\n",
        "plt.show()"
      ]
    },
    {
      "cell_type": "markdown",
      "id": "bd6551a0",
      "metadata": {
        "ExecuteTime": {
          "end_time": "2022-03-03T08:13:27.923250Z",
          "start_time": "2022-03-03T08:13:27.917255Z"
        },
        "id": "bd6551a0"
      },
      "source": [
        "### Mnist 데이터셋을 활용한 분류기 만들기 (Classifier)"
      ]
    },
    {
      "cell_type": "code",
      "execution_count": 33,
      "id": "06da38ac",
      "metadata": {
        "ExecuteTime": {
          "end_time": "2022-03-03T08:13:01.237154Z",
          "start_time": "2022-03-03T08:13:01.167153Z"
        },
        "id": "06da38ac",
        "outputId": "612697fa-98a3-48e0-cbde-ad8c56d7f751",
        "colab": {
          "base_uri": "https://localhost:8080/",
          "height": 92
        }
      },
      "outputs": [
        {
          "output_type": "execute_result",
          "data": {
            "text/plain": [
              "<matplotlib.image.AxesImage at 0x7f1b1584bad0>"
            ]
          },
          "metadata": {},
          "execution_count": 33
        },
        {
          "output_type": "display_data",
          "data": {
            "text/plain": [
              "<Figure size 576x396 with 1 Axes>"
            ],
            "image/png": "[encoded data removed]"
          },
          "metadata": {}
        }
      ],
      "source": [
        "import matplotlib.pyplot as plt\n",
        "from tensorflow.keras.datasets.mnist import load_data\n",
        "\n",
        "(train_images, train_labels), (test_images,test_labels) = load_data()\n",
        "base = train_images[0]\n",
        "for i in range(1,20):\n",
        "    img1 = train_images[i]\n",
        "    base = np.hstack((base,img1))\n",
        "plt.imshow(base)    "
      ]
    },
    {
      "cell_type": "code",
      "source": [
        "class Affine:\n",
        "\n",
        "    def __init__(self, W, B):\n",
        "        self.W = W\n",
        "        self.B = B\n",
        "        self.x = None\n",
        "        self.dW = None\n",
        "        self.db = None\n",
        "\n",
        "    def forward(self, x):\n",
        "        self.x = x\n",
        "        out = x@ self.W+ self.B\n",
        "        return out\n",
        "    \n",
        "    def backward(self, dout):\n",
        "        dx = dout @ self.W.T\n",
        "        self.dW = self.x.T@ dout\n",
        "        self.db = np.sum(dout, axis=0)\n",
        "        return dx\n",
        "        \n",
        "def sigmoid(z_):\n",
        "   a = 1/(1 + np.exp(-z_))\n",
        "   return a\n",
        "\n",
        "\n",
        "def softmax(l_):\n",
        "  pred = np.exp(l_)/np.sum(np.exp(l_), axis=1, keepdims=True)\n",
        "  return pred\n",
        "\n",
        "def ccee(pred_,gt_):\n",
        "  bsize_ = len(pred_)\n",
        "  j = np.mean(-np.log(pred_[np.arange(bsize_), gt_]))\n",
        "  return j\n",
        "\n"
      ],
      "metadata": {
        "id": "rP9F7FBWhJ66"
      },
      "id": "rP9F7FBWhJ66",
      "execution_count": 101,
      "outputs": []
    },
    {
      "cell_type": "code",
      "source": [
        "class Affine:\n",
        "\n",
        "    def __init__(self, W, B):\n",
        "        self.W = W\n",
        "        self.B = B\n",
        "        self.x = None\n",
        "        self.dW = None\n",
        "        self.db = None\n",
        "\n",
        "    def forward(self, x):\n",
        "        self.x = x\n",
        "        out = x@ self.W+ self.B\n",
        "        return out\n",
        "    \n",
        "    def backward(self, dout):\n",
        "        dx = dout @ self.W.T\n",
        "        self.dW = self.x.T@ dout\n",
        "        self.db = np.sum(dout, axis=0)\n",
        "        return dx\n",
        "\n"
      ],
      "metadata": {
        "id": "c2OUlWHeohHo"
      },
      "id": "c2OUlWHeohHo",
      "execution_count": 35,
      "outputs": []
    },
    {
      "cell_type": "code",
      "source": [
        "from sklearn.preprocessing import normalize\n",
        "tmp_1=([1,6,11,12],[222,2,0,-1])\n",
        "tmp_2=([1,6,11,12],[222,2,0,-1])\n",
        "tmp_1=normalize(tmp_1, axis=1, norm='l2')\n",
        "plt.subplot(1,2,1)\n",
        "plt.imshow(tmp_1)\n",
        "plt.subplot(1,2,2)\n",
        "plt.imshow(tmp_2)\n"
      ],
      "metadata": {
        "colab": {
          "base_uri": "https://localhost:8080/",
          "height": 171
        },
        "id": "PgVMRvwybMlE",
        "outputId": "adacf835-3926-4a85-fecf-ade3cae381ea"
      },
      "id": "PgVMRvwybMlE",
      "execution_count": 38,
      "outputs": [
        {
          "output_type": "execute_result",
          "data": {
            "text/plain": [
              "<matplotlib.image.AxesImage at 0x7f1b1505a5d0>"
            ]
          },
          "metadata": {},
          "execution_count": 38
        },
        {
          "output_type": "display_data",
          "data": {
            "text/plain": [
              "<Figure size 576x396 with 2 Axes>"
            ],
            "image/png": "[encoded data removed]"
          },
          "metadata": {}
        }
      ]
    },
    {
      "cell_type": "code",
      "execution_count": 114,
      "id": "42b9b56b",
      "metadata": {
        "ExecuteTime": {
          "end_time": "2022-03-03T07:19:03.649144Z",
          "start_time": "2022-03-03T07:18:41.739005Z"
        },
        "id": "42b9b56b",
        "colab": {
          "base_uri": "https://localhost:8080/",
          "height": 1000
        },
        "outputId": "2ab370f7-e809-4ef4-b997-c5973f7e4d1e"
      },
      "outputs": [
        {
          "output_type": "display_data",
          "data": {
            "text/plain": [
              "<Figure size 2304x576 with 3 Axes>"
            ],
            "image/png": "[encoded data removed]"
          },
          "metadata": {}
        },
        {
          "output_type": "stream",
          "name": "stdout",
          "text": [
            "-6.564159268872964\n",
            "Epoch1: train_acc: 0.4167 train_loss: [1.2886953070534655] test_acc: 0.5414\n"
          ]
        },
        {
          "output_type": "display_data",
          "data": {
            "text/plain": [
              "<Figure size 2304x576 with 3 Axes>"
            ],
            "image/png": "[encoded data removed]"
          },
          "metadata": {}
        },
        {
          "output_type": "stream",
          "name": "stdout",
          "text": [
            "-4.229859667881318\n",
            "Epoch2: train_acc: 0.6619 train_loss: [0.9079491156529416] test_acc: 0.6534\n"
          ]
        },
        {
          "output_type": "display_data",
          "data": {
            "text/plain": [
              "<Figure size 2304x576 with 3 Axes>"
            ],
            "image/png": "[encoded data removed]"
          },
          "metadata": {}
        },
        {
          "output_type": "stream",
          "name": "stdout",
          "text": [
            "-3.1516584909544356\n",
            "Epoch3: train_acc: 0.7429 train_loss: [0.7225532384530431] test_acc: 0.7036\n"
          ]
        },
        {
          "output_type": "display_data",
          "data": {
            "text/plain": [
              "<Figure size 2304x576 with 3 Axes>"
            ],
            "image/png": "[encoded data removed]"
          },
          "metadata": {}
        },
        {
          "output_type": "stream",
          "name": "stdout",
          "text": [
            "-2.69892940231683\n",
            "Epoch4: train_acc: 0.7849 train_loss: [0.6066067378944008] test_acc: 0.734\n"
          ]
        },
        {
          "output_type": "display_data",
          "data": {
            "text/plain": [
              "<Figure size 2304x576 with 3 Axes>"
            ],
            "image/png": "[encoded data removed]"
          },
          "metadata": {}
        },
        {
          "output_type": "stream",
          "name": "stdout",
          "text": [
            "-2.648073975788458\n",
            "Epoch5: train_acc: 0.8089 train_loss: [0.5221901611730948] test_acc: 0.7526\n"
          ]
        },
        {
          "output_type": "display_data",
          "data": {
            "text/plain": [
              "<Figure size 2304x576 with 3 Axes>"
            ],
            "image/png": "[encoded data removed]"
          },
          "metadata": {}
        },
        {
          "output_type": "stream",
          "name": "stdout",
          "text": [
            "-2.9146711612569707\n",
            "Epoch6: train_acc: 0.8291 train_loss: [0.458167565258751] test_acc: 0.7666\n"
          ]
        },
        {
          "output_type": "display_data",
          "data": {
            "text/plain": [
              "<Figure size 2304x576 with 3 Axes>"
            ],
            "image/png": "[encoded data removed]"
          },
          "metadata": {}
        },
        {
          "output_type": "stream",
          "name": "stdout",
          "text": [
            "-3.3988133787607513\n",
            "Epoch7: train_acc: 0.8443 train_loss: [0.40659632995564576] test_acc: 0.7806\n"
          ]
        },
        {
          "output_type": "display_data",
          "data": {
            "text/plain": [
              "<Figure size 2304x576 with 3 Axes>"
            ],
            "image/png": "[encoded data removed]"
          },
          "metadata": {}
        },
        {
          "output_type": "stream",
          "name": "stdout",
          "text": [
            "-3.968117882736397\n",
            "Epoch8: train_acc: 0.8569 train_loss: [0.36357461271545166] test_acc: 0.7898\n"
          ]
        },
        {
          "output_type": "display_data",
          "data": {
            "text/plain": [
              "<Figure size 2304x576 with 3 Axes>"
            ],
            "image/png": "[encoded data removed]"
          },
          "metadata": {}
        },
        {
          "output_type": "stream",
          "name": "stdout",
          "text": [
            "-4.54214358924574\n",
            "Epoch9: train_acc: 0.8652 train_loss: [0.3274904718322946] test_acc: 0.7976\n"
          ]
        },
        {
          "output_type": "display_data",
          "data": {
            "text/plain": [
              "<Figure size 2304x576 with 3 Axes>"
            ],
            "image/png": "[encoded data removed]"
          },
          "metadata": {}
        },
        {
          "output_type": "stream",
          "name": "stdout",
          "text": [
            "-5.104518873633312\n",
            "Epoch10: train_acc: 0.8724 train_loss: [0.2971043486212244] test_acc: 0.8048\n"
          ]
        },
        {
          "output_type": "display_data",
          "data": {
            "text/plain": [
              "<Figure size 2304x576 with 3 Axes>"
            ],
            "image/png": "[encoded data removed]"
          },
          "metadata": {}
        },
        {
          "output_type": "stream",
          "name": "stdout",
          "text": [
            "-5.660056522359051\n",
            "Epoch11: train_acc: 0.8812 train_loss: [0.27130118235835965] test_acc: 0.812\n"
          ]
        },
        {
          "output_type": "display_data",
          "data": {
            "text/plain": [
              "<Figure size 2304x576 with 3 Axes>"
            ],
            "image/png": "[encoded data removed]"
          },
          "metadata": {}
        },
        {
          "output_type": "stream",
          "name": "stdout",
          "text": [
            "-6.210526104575756\n",
            "Epoch12: train_acc: 0.8873 train_loss: [0.24894926810552662] test_acc: 0.8182\n"
          ]
        },
        {
          "output_type": "display_data",
          "data": {
            "text/plain": [
              "<Figure size 2304x576 with 3 Axes>"
            ],
            "image/png": "[encoded data removed]"
          },
          "metadata": {}
        },
        {
          "output_type": "stream",
          "name": "stdout",
          "text": [
            "-6.758684945211639\n",
            "Epoch13: train_acc: 0.8925 train_loss: [0.22909764724021833] test_acc: 0.822\n"
          ]
        },
        {
          "output_type": "display_data",
          "data": {
            "text/plain": [
              "<Figure size 2304x576 with 3 Axes>"
            ],
            "image/png": "[encoded data removed]"
          },
          "metadata": {}
        },
        {
          "output_type": "stream",
          "name": "stdout",
          "text": [
            "-7.3002069514625205\n",
            "Epoch14: train_acc: 0.8984 train_loss: [0.2112078454660129] test_acc: 0.824\n"
          ]
        },
        {
          "output_type": "display_data",
          "data": {
            "text/plain": [
              "<Figure size 2304x576 with 3 Axes>"
            ],
            "image/png": "[encoded data removed]"
          },
          "metadata": {}
        },
        {
          "output_type": "stream",
          "name": "stdout",
          "text": [
            "-7.824214118960041\n",
            "Epoch15: train_acc: 0.9023 train_loss: [0.19501577079065477] test_acc: 0.8286\n"
          ]
        },
        {
          "output_type": "display_data",
          "data": {
            "text/plain": [
              "<Figure size 2304x576 with 3 Axes>"
            ],
            "image/png": "[encoded data removed]"
          },
          "metadata": {}
        },
        {
          "output_type": "stream",
          "name": "stdout",
          "text": [
            "-8.319275702719892\n",
            "Epoch16: train_acc: 0.9054 train_loss: [0.18034894960565] test_acc: 0.8312\n"
          ]
        },
        {
          "output_type": "display_data",
          "data": {
            "text/plain": [
              "<Figure size 2304x576 with 3 Axes>"
            ],
            "image/png": "[encoded data removed]"
          },
          "metadata": {}
        },
        {
          "output_type": "stream",
          "name": "stdout",
          "text": [
            "-8.77400137125486\n",
            "Epoch17: train_acc: 0.9093 train_loss: [0.16711941343934605] test_acc: 0.8336\n"
          ]
        },
        {
          "output_type": "display_data",
          "data": {
            "text/plain": [
              "<Figure size 2304x576 with 3 Axes>"
            ],
            "image/png": "[encoded data removed]"
          },
          "metadata": {}
        },
        {
          "output_type": "stream",
          "name": "stdout",
          "text": [
            "-9.180011867475365\n",
            "Epoch18: train_acc: 0.9124 train_loss: [0.1552964120287637] test_acc: 0.836\n"
          ]
        },
        {
          "output_type": "display_data",
          "data": {
            "text/plain": [
              "<Figure size 2304x576 with 3 Axes>"
            ],
            "image/png": "[encoded data removed]"
          },
          "metadata": {}
        },
        {
          "output_type": "stream",
          "name": "stdout",
          "text": [
            "-9.534928529223912\n",
            "Epoch19: train_acc: 0.9173 train_loss: [0.14482971547471507] test_acc: 0.8392\n"
          ]
        },
        {
          "output_type": "display_data",
          "data": {
            "text/plain": [
              "<Figure size 2304x576 with 3 Axes>"
            ],
            "image/png": "[encoded data removed]"
          },
          "metadata": {}
        },
        {
          "output_type": "stream",
          "name": "stdout",
          "text": [
            "-9.840886822970859\n",
            "Epoch20: train_acc: 0.9211 train_loss: [0.13561678293610452] test_acc: 0.842\n"
          ]
        }
      ],
      "source": [
        "import numpy as np\n",
        "from numpy.random import normal\n",
        "from numpy import zeros\n",
        "\n",
        "from termcolor import colored\n",
        "import matplotlib.pyplot as plt\n",
        "plt.style.use('seaborn')\n",
        "\n",
        "# set test env.\n",
        "N_DATA=10000\n",
        "N_DATA_TRAIN=5000\n",
        "# N_DATA = train_images.shape[0]\n",
        "N_FEATURE = train_images.shape[1]*train_images.shape[2]\n",
        "B_SIZE = 64# batch size\n",
        "N_ITER = N_DATA // B_SIZE\n",
        "N_ITER_t = N_DATA_TRAIN // B_SIZE\n",
        "EPOCHS = 20\n",
        "LR = 0.3\n",
        "UNITS = [64, 32, 10]\n",
        "# initialize w, b\n",
        "W1 = normal(0, 1, (N_FEATURE, UNITS[0]))\n",
        "B1 = zeros((UNITS[0]))\n",
        "\n",
        "W2 = normal(0, 1, (UNITS[0], UNITS[1]))\n",
        "B2 = zeros((UNITS[1]))\n",
        "\n",
        "W3 = normal(0, 1, (UNITS[1], UNITS[2]))\n",
        "B3 = zeros((UNITS[2]))\n",
        "\n",
        "layer1=Affine(W1,B1)\n",
        "layer2=Affine(W2,B2)\n",
        "layer3=Affine(W3,B3)\n",
        "\n",
        "# print(colored(\"W/B Shapes\", 'green'))\n",
        "# print(f\"W1/B1: {W1.shape}/{B1.shape}\")\n",
        "# print(f\"W2/B2: {W2.shape}/{B2.shape}\")\n",
        "# print(f\"W3/B3: {W3.shape}/{B3.shape}\\n\")\n",
        "# count=0\n",
        "train_losses, train_accs = list(), list()\n",
        "test_losses, test_accs = list(), list()\n",
        "for epoch in range(EPOCHS):\n",
        "    n_correct_, n_data_ = 0, 0\n",
        "\n",
        "    for b_idx in range(N_ITER):\n",
        "\n",
        "            # get mini-batch\n",
        "                images = train_images[b_idx*B_SIZE : (b_idx + 1)*B_SIZE, ...]\n",
        "                X = images.reshape(B_SIZE, -1) / 255.\n",
        "                Y = train_labels[b_idx*B_SIZE : (b_idx + 1)*B_SIZE]\n",
        "                # print(X.shape, Y.shape)\n",
        "\n",
        "                ### forward propagation\n",
        "                # dense1\n",
        "                Z1 = layer1.forward(X)\n",
        "                A1 = sigmoid(Z1)\n",
        "                # plt.imshow(layer1.x.reshape(28,28))\n",
        "\n",
        "                # dense2\n",
        "                Z2=layer2.forward(A1)\n",
        "                A2 = sigmoid(Z2)\n",
        "\n",
        "\n",
        "                # dense3\n",
        "                Z3=layer3.forward(A2)\n",
        "                # plt.imshow(np.hstack(layer1.x.reshape(28,28),layer2.x.reshape(8,8))\n",
        "                \n",
        "\n",
        "                # J=loss.forward(Z3,b_size)\n",
        "                \n",
        "                Pred = softmax(Z3)\n",
        "                # print('Pred:',Pred,'\\n''Y:',Y)\n",
        "\n",
        "                # loss\n",
        "                J = ccee(Pred,Y)\n",
        "                \n",
        "                #loss 기록\n",
        "                train_losses.append(J)\n",
        "                # print('loss:',losses[-1:])\n",
        "\n",
        "                # calculate accuracy\n",
        "                Pred_label = np.argmax(Pred, axis=1)\n",
        "                n_correct_ += np.sum(Pred_label == Y)\n",
        "                n_data_ += B_SIZE\n",
        "\n",
        "                ### backpropagation\n",
        "                labels = Y.copy()\n",
        "                Y = np.zeros_like(Pred)\n",
        "                Y[np.arange(B_SIZE), labels] = 1\n",
        "                \n",
        "                # loss\n",
        "                dJ = -1/B_SIZE*(Y - Pred)\n",
        "\n",
        "                # dense3\n",
        "                dA2 = layer3.backward(dJ)\n",
        "\n",
        "                # dense2\n",
        "                dZ2 = dA2 * A2*(1-A2)\n",
        "                dA1 = layer2.backward(dZ2)\n",
        "\n",
        "                # dense1\n",
        "                dZ1 = dA1 * A1*(1-A1)\n",
        "                dd=layer1.backward(dZ1)\n",
        "\n",
        "                # parameter update\n",
        "                layer3.W, layer3.B = layer3.W-LR*layer3.dW, layer3.B-LR*layer3.db\n",
        "                layer2.W, layer2.B = layer2.W-LR*layer2.dW, layer2.B-LR*layer2.db\n",
        "                layer1.W, layer1.B = layer1.W-LR*layer1.dW, layer1.B-LR*layer1.db\n",
        "                # print(count,'layer1',np.shape(layer1.W),np.average(layer1.W),'layer2', np.shape(layer2.W),np.average(layer2.W),'layer3',np.shape(layer3.W),np.average(layer3.W),'-\\n'*3)\n",
        "                # plt.figure(figsize=(16,8))\n",
        "                # for i in range(0,2):\n",
        "                #   plt.subplot(1,8,i+1)\n",
        "                #   plt.imshow(layer1.W[i].reshape(8,8))               \n",
        "                # plt.show()\n",
        "                # plt.imshow(layer1.W[63].reshape(8,8))\n",
        "    \n",
        "    plt.figure(figsize=(32,8))\n",
        "    for i in range(0,3):        \n",
        "        plt.subplot(1,3,i+1)\n",
        "        tmp=layer2.W[i].reshape(4,8)\n",
        "        tmp1= normalize(tmp, axis=1, norm='l2')\n",
        "        plt.imshow(tmp1)\n",
        "        # print(np.sum(layer3.W[i]))\n",
        "        # print(layer2.W[i])\n",
        "        plt.axis('off')\n",
        "        plt.title(f'Unit{i+1}')\n",
        "\n",
        "    ### Test      \n",
        "    n_correct_t, n_data_t = 0, 0\n",
        "    for b_idx in range(N_ITER_t):\n",
        "\n",
        "        # get mini-batch\n",
        "            images = test_images[b_idx*B_SIZE : (b_idx + 1)*B_SIZE, ...]\n",
        "            X = images.reshape(B_SIZE, -1) / 255.\n",
        "            Y = test_labels[b_idx*B_SIZE : (b_idx + 1)*B_SIZE]\n",
        "            # print(X.shape, Y.shape)\n",
        "\n",
        "            ### forward propagation\n",
        "            # dense1\n",
        "            Z1 = layer1.forward(X)\n",
        "            A1 = sigmoid(Z1)\n",
        "            # plt.imshow(layer1.x.reshape(28,28))\n",
        "\n",
        "            # dense2\n",
        "            Z2=layer2.forward(A1)\n",
        "            A2 = sigmoid(Z2)\n",
        "\n",
        "\n",
        "            # dense3\n",
        "            Z3=layer3.forward(A2)\n",
        "            # plt.imshow(np.hstack(layer1.x.reshape(28,28),layer2.x.reshape(8,8))\n",
        "            \n",
        "\n",
        "            # J=loss.forward(Z3,b_size)\n",
        "            \n",
        "            Pred = softmax(Z3)\n",
        "            # print('Pred:',Pred,'\\n''Y:',Y)\n",
        "\n",
        "            # loss\n",
        "            J = ccee(Pred,Y)\n",
        "            \n",
        "            #loss 기록\n",
        "            test_losses.append(J)\n",
        "            # print('loss:',losses[-1:])\n",
        "\n",
        "            # calculate accuracy\n",
        "            Pred_label = np.argmax(Pred, axis=1)\n",
        "            n_correct_t += np.sum(Pred_label == Y)\n",
        "            n_data_t += B_SIZE\n",
        "\n",
        "    plt.show()\n",
        "    print(np.sum(layer2.W))\n",
        "    print(f'Epoch{epoch+1}:','train_acc:',n_correct_/N_DATA,'train_loss:',train_losses[-1:],'test_acc:',n_correct_t/N_DATA_TRAIN)                        \n",
        "    train_accs.append(n_correct_/N_DATA)\n",
        "    test_accs.append(n_correct_t/N_DATA_TRAIN)\n",
        "#     losses.append(J)"
      ]
    },
    {
      "cell_type": "code",
      "source": [
        "fig, axes = plt.subplots(2, 1, figsize=(15, 10))\n",
        "axes[0].plot(train_losses,'skyblue')\n",
        "axes[1].plot(train_accs,'b',label='train acc')\n",
        "axes[1].plot(test_accs,'r',label='test acc')\n",
        "\n",
        "axes[0].set_title(\"Train Loss\", color='darkblue', fontsize=20)\n",
        "axes[0].set_xlabel(\"Iter Idx\", fontsize=20)\n",
        "axes[0].set_ylabel(\"CCEE\", fontsize=20)\n",
        "\n",
        "axes[1].set_title(\"Train Accuracy\", color='darkblue', fontsize=20)\n",
        "axes[1].set_xlabel(\"Epoch\", fontsize=20)\n",
        "axes[1].set_ylabel(\"Accuarcy\", fontsize=20)\n",
        "axes[1].set_yticks(np.linspace(0.4, 1.0, 7))\n",
        "\n",
        "axes[0].tick_params(labelsize=20)\n",
        "axes[1].tick_params(labelsize=20)\n",
        "plt.legend()\n",
        "fig.tight_layout()"
      ],
      "metadata": {
        "id": "jXUTUgaCOyGQ",
        "outputId": "33c81f1a-ad50-476d-a1fa-a5d6b84a31ed",
        "colab": {
          "base_uri": "https://localhost:8080/",
          "height": 729
        }
      },
      "id": "jXUTUgaCOyGQ",
      "execution_count": 88,
      "outputs": [
        {
          "output_type": "display_data",
          "data": {
            "text/plain": [
              "<Figure size 1080x720 with 2 Axes>"
            ],
            "image/png": "[encoded data removed]"
          },
          "metadata": {}
        }
      ]
    },
    {
      "cell_type": "markdown",
      "id": "d44e9dac",
      "metadata": {
        "ExecuteTime": {
          "end_time": "2022-03-03T08:37:55.115954Z",
          "start_time": "2022-03-03T08:37:55.108955Z"
        },
        "id": "d44e9dac"
      },
      "source": [
        "# Convolution Neural Network(CNN)\n",
        "## MLP의 한계와 CNN의 등장\n",
        "#####딥러닝 초기</br>\n",
        "- 회귀 및 분류와 같은 모든 종류의 Task들에 MLP를 사용</br>\n",
        "\n",
        "#####한계점</br>\n",
        "1. 이미지의 Resolution에 따라 매개변수가 기하급수적으로 늘어나야 함.</br>\n",
        "ex)단순한 1채널의 16x16의 이미지 Input으로 1000가지 Output을 뽑아내기 위한 파라미터 수는 256,000개가 필요(bais 제외) </br>\n",
        " 하나의 Layer를 통과하기 위한 Computing Resource가 과하게 필요함.\n",
        "2. 근본적으로 이미지를 다루는데 있어 MLP는 Pixel별로 독립적인 가중치를 필요로 하기 때문에 공간적 특성을 고려하지 못하는 Network\n",
        "\n",
        "#####CNN의 등장 배경\n",
        "- 파라미터 수를 줄이자\n",
        "- 이미지 데이터 특성을 잘 살리자\n",
        "1. 공간적 특성\n",
        "2. 근접한 픽셀간 종속성 \n",
        "3. 이미지 내 유사한 패턴의 반복</br>\n",
        "위와 같은 특성을 잘 살릴 수 있는 Network의 필요로 CNN(Convolution Neural Network)이 등장 </br>\n",
        "\n",
        "#####CNN이란?\n",
        "- 2D형태의 Filter (Kernel)를 활용하여  Input Image와 Convolution연산을 통해 공간적인 특징을 추출해내는 NN(Neural Network)\n",
        "\n",
        "## Convolution \n",
        "![](https://img1.daumcdn.net/thumb/R1280x0/?scode=mtistory2&fname=https%3A%2F%2Fblog.kakaocdn.net%2Fdn%2FcPtdq9%2FbtqwmRy4Egz%2FllFioGfP6HwRPlM0qSVkV1%2Fimg.png)\n",
        "</br>[그림6-1]Input과 Kernel의 Convolution[10]</br>\n",
        "Convolution연산이란?</br>\n",
        "원소간의 곱셈 그리고 총합(위 그림 참조)</br></br>\n",
        "Input Image와 Fiter간의 Convolution연산을 통해 나온 Output Image를 Feature Map이라 부름</br></br>\n",
        "\n",
        "CNN의 가중치</br>\n",
        "= Filter Matrix속 각각의 원소 </br></br>\n",
        "하나의 Filter는 전체 이미지를 Silding Window기법을 통해 이미지를 지나가며 매번 Convolution연산</br>\n",
        "=>Filter Matrix를 공유할 수 있어 매개변수의 개수에 이점을 가짐</br></br></br>\n",
        "\n",
        "Question) Convolution Layer를 이용하여 1채널의 16x16 이미지에 1000개의 Output을 내야한다 했을 때 CNN은 한 레이어에 필요한 매개변수의 개수는?(단, Filter size = (3,3) )</br></br></br>\n",
        "Question) 위 문제에서 32x32 이미지로 변경했을 때 필요한 매개변수의 개수는?</br></br></br>\n",
        "\n",
        "\n",
        "\n",
        "\n",
        "Answer) 3x3x1000=9000(bias를 제외)</br>\n",
        " 9000개의 파라미터로 하나의 convolution layer가 구성 </br>\n",
        "\n",
        "\n",
        "\n",
        "\n",
        "\n",
        "\n",
        "참고) 원소별 곱셈연산이 필요하기 때문에 연산 횟수 측면에서 더 많은 computing resource를 필요로 한다는 단점도 있음\n",
        "## Pooling\n",
        "\n",
        "## Stride\n",
        "\n",
        "\n",
        "\n",
        "\n",
        "### CNN Explainer : https://poloclub.github.io/cnn-explainer/\n"
      ]
    },
    {
      "cell_type": "markdown",
      "source": [
        "## Convolution의 Backpropagation\n",
        "- 첨부 자료 참조\n"
      ],
      "metadata": {
        "id": "s4b9Hg_CleOC"
      },
      "id": "s4b9Hg_CleOC"
    },
    {
      "cell_type": "markdown",
      "source": [
        "##CNN을 파이썬으로 구현하기"
      ],
      "metadata": {
        "id": "7DDIb67QlwrB"
      },
      "id": "7DDIb67QlwrB"
    },
    {
      "cell_type": "markdown",
      "source": [
        "#### for문을 이용한 1채널 Input Convolution"
      ],
      "metadata": {
        "id": "dBlq6_66D3ES"
      },
      "id": "dBlq6_66D3ES"
    },
    {
      "cell_type": "code",
      "source": [
        "import numpy as np\n",
        "from numpy.random import randint\n",
        "\n",
        "def sigmoid(x): return 1 / (1 + np.exp(-x))\n",
        "\n",
        "# \n",
        "H_in, W_in = 5, 7\n",
        "\n",
        "#\n",
        "F = 3\n",
        "\n",
        "#\n",
        "X = randint(0, 10, (H_in, W_in)) \n",
        "\n",
        "#\n",
        "W = randint(0, 10, (F, F)) \n",
        "\n",
        "#\n",
        "B = randint(0, 10, ())\n",
        "\n",
        "print ('X: ')\n",
        "print (X)\n",
        "print ('W: ')\n",
        "print (W)\n",
        "\n",
        "H_out, W_out = H_in - F + 1, W_in - F + 1\n",
        "Z = np.empty(shape=(H_out, W_out))\n",
        "\n",
        "for row_idx in range(H_out):\n",
        "    for col_idx in range(W_out):\n",
        "        window = X[row_idx : row_idx + F,\n",
        "                   col_idx : col_idx + F]\n",
        "        z = np.sum(window * W) + B\n",
        "        Z[row_idx, col_idx] = z\n",
        "        # A = sigmoid(Z)\n",
        "        A = Z\n",
        "print(A.shape)    \n",
        "print(A)    \n"
      ],
      "metadata": {
        "id": "F9RcQ6i0lFTc",
        "outputId": "6532b05d-8982-4b96-b0b2-ba71de65edde",
        "colab": {
          "base_uri": "https://localhost:8080/"
        }
      },
      "id": "F9RcQ6i0lFTc",
      "execution_count": null,
      "outputs": [
        {
          "output_type": "stream",
          "name": "stdout",
          "text": [
            "X: \n",
            "[[2 0 7 0 1 1 4]\n",
            " [3 4 6 3 7 3 3]\n",
            " [7 3 0 7 9 3 9]\n",
            " [4 7 8 4 4 2 6]\n",
            " [9 8 7 2 3 8 3]]\n",
            "W: \n",
            "[[9 1 3]\n",
            " [8 8 8]\n",
            " [5 4 0]]\n",
            "(3, 5)\n",
            "[[190. 126. 222. 179. 183.]\n",
            " [177. 198. 262. 231. 271.]\n",
            " [295. 268. 205. 183. 254.]]\n"
          ]
        }
      ]
    },
    {
      "cell_type": "markdown",
      "source": [
        "#### for문을 이용한 3채널 Input Convolution"
      ],
      "metadata": {
        "id": "lheSICR1EF2R"
      },
      "id": "lheSICR1EF2R"
    },
    {
      "cell_type": "code",
      "source": [
        "import numpy as np\n",
        "\n",
        "H_in, W_in = 5, 7 # row 개수, column 개수\n",
        "C_in = 3 # color 차원\n",
        "F = 3 # filter_ size\n",
        "C_out = 5 # 출력되는 차원의 수\n",
        "\n",
        "\n",
        "color_img = np.random.normal(0, 1, (H_in, W_in, C_in))\n",
        "filter_ = np.random.normal(0, 1, (F, F, C_in, C_out)) # filter_의 층은 C_in과 동일하게 유지시키며 내부차원 C_out 추가\n",
        "B = np.random.normal(0, 1, (C_out)) # bias는 C_out의 개수만큼 필요\n",
        "\n",
        "H_out, W_out = H_in - F + 1, W_in - F + 1\n",
        "Z = np.empty(shape=(H_out, W_out, C_out)) # Z의 shape의 내부차원은 C_out\n",
        "\n",
        "for C_out_idx in range(C_out): # C_out만큼 for loop를 모두 돌려주어야함.\n",
        "    c_filter = filter_[..., C_out_idx]  # c_filter를 통해 어떤 filter와 연산해줄지 정해주기\n",
        "    c_b = B[C_out_idx]                 # c_b를 통해 filter에 해당하는 bias 정해주기\n",
        "    for H_out_idx in range(H_out):\n",
        "        for W_out_idx in range(W_out):\n",
        "            window = color_img[H_out_idx : H_out_idx + F, \n",
        "                               W_out_idx : W_out_idx + F, ...]\n",
        "            z = np.sum(window*c_filter)+c_b\n",
        "            Z[H_out_idx, W_out_idx, C_out_idx] = z\n",
        "            A = 1 / (1 + np.exp (-Z)) # activation function\n",
        "\n",
        "print(A.shape)        \n",
        "print(A)\n",
        "\n",
        "# print(A)"
      ],
      "metadata": {
        "id": "x9HbjN46lFJl",
        "outputId": "a8383af3-8972-483f-a768-b11f318e32a9",
        "colab": {
          "base_uri": "https://localhost:8080/"
        }
      },
      "id": "x9HbjN46lFJl",
      "execution_count": null,
      "outputs": [
        {
          "output_type": "stream",
          "name": "stdout",
          "text": [
            "(3, 5, 5)\n",
            "[[[6.69440886e-01 9.99213438e-01 4.61428551e-01 3.23826038e-01\n",
            "   1.43850077e-01]\n",
            "  [3.88105527e-02 9.14007234e-01 6.36340271e-01 9.47293397e-01\n",
            "   5.70703325e-03]\n",
            "  [3.24752889e-01 7.87361943e-03 5.35320134e-02 7.06667448e-04\n",
            "   9.98933237e-01]\n",
            "  [9.99675221e-01 8.68662864e-01 9.75279844e-01 8.81646582e-02\n",
            "   9.67558523e-01]\n",
            "  [7.29478771e-01 9.92771170e-01 9.98552828e-01 9.99991605e-01\n",
            "   7.92100425e-01]]\n",
            "\n",
            " [[9.98798799e-01 1.06069628e-04 9.25987104e-01 8.29848500e-05\n",
            "   1.73842771e-02]\n",
            "  [3.37538099e-01 9.87585176e-01 9.98279348e-01 9.85160210e-01\n",
            "   9.56991644e-01]\n",
            "  [2.27262292e-01 1.67271256e-01 7.49380280e-01 1.68724691e-01\n",
            "   9.99998855e-01]\n",
            "  [9.99895595e-01 2.27870514e-01 9.99562651e-01 7.76887992e-01\n",
            "   1.26843177e-01]\n",
            "  [6.02770567e-02 9.92709477e-01 9.42601154e-01 9.99853723e-01\n",
            "   5.09920012e-02]]\n",
            "\n",
            " [[9.94958665e-01 6.16642318e-01 9.96049113e-01 8.37575512e-01\n",
            "   9.98220670e-01]\n",
            "  [1.95217059e-01 9.98345626e-01 2.06849733e-03 9.88587627e-01\n",
            "   8.84001895e-01]\n",
            "  [8.16089545e-01 4.04581887e-01 9.99069149e-01 7.93151268e-01\n",
            "   7.29962620e-01]\n",
            "  [9.35395413e-01 9.99082178e-01 9.99874377e-01 9.01511782e-01\n",
            "   4.31097148e-02]\n",
            "  [3.94217734e-01 1.45706941e-04 9.09155573e-01 3.74142467e-03\n",
            "   1.50778570e-01]]]\n"
          ]
        }
      ]
    },
    {
      "cell_type": "markdown",
      "source": [
        "#### for문을 제거한 Convolution"
      ],
      "metadata": {
        "id": "jMeU_Q_NEKEF"
      },
      "id": "jMeU_Q_NEKEF"
    },
    {
      "cell_type": "code",
      "source": [
        "import numpy as np\n",
        "from numpy.random import randint\n",
        "\n",
        "def sigmoid(x): return 1 / (1 + np.exp(-x))\n",
        "\n",
        "H_in, W_in = 5, 7\n",
        "F = 3\n",
        "X = randint(0, 10, (H_in, W_in))\n",
        "W = randint(0, 10, (F, F))\n",
        "B = randint(0, 10, ())\n",
        "H_out, W_out = H_in - F + 1, W_in - F + 1\n",
        "Z = np.empty(shape=(H_out, W_out))\n",
        "\n",
        "row_idx = np.repeat(np.arange(F), F).reshape(1, -1)\n",
        "row_idx = row_idx + np.arange(H_out).reshape(-1, 1)\n",
        "row_idx = np.repeat(row_idx, repeats=W_out, axis=0)\n",
        "\n",
        "col_idx = np.tile(np.arange(F), F).reshape(1, -1)\n",
        "col_idx = col_idx + np.arange(W_out).reshape(-1, 1)\n",
        "col_idx = np.tile(col_idx, reps=[H_out, 1])\n",
        "print(X)\n",
        "print(X[row_idx, col_idx])\n"
      ],
      "metadata": {
        "id": "wCuiBxW5lX9g",
        "outputId": "d6707b34-241a-4e68-ce56-772d466f7f94",
        "colab": {
          "base_uri": "https://localhost:8080/"
        }
      },
      "id": "wCuiBxW5lX9g",
      "execution_count": null,
      "outputs": [
        {
          "output_type": "stream",
          "name": "stdout",
          "text": [
            "[[2 1 5 6 0 0 5]\n",
            " [5 5 2 4 9 1 8]\n",
            " [2 5 8 4 8 4 3]\n",
            " [0 3 5 0 8 8 4]\n",
            " [7 8 2 5 0 4 0]]\n",
            "[[2 1 5 5 5 2 2 5 8]\n",
            " [1 5 6 5 2 4 5 8 4]\n",
            " [5 6 0 2 4 9 8 4 8]\n",
            " [6 0 0 4 9 1 4 8 4]\n",
            " [0 0 5 9 1 8 8 4 3]\n",
            " [5 5 2 2 5 8 0 3 5]\n",
            " [5 2 4 5 8 4 3 5 0]\n",
            " [2 4 9 8 4 8 5 0 8]\n",
            " [4 9 1 4 8 4 0 8 8]\n",
            " [9 1 8 8 4 3 8 8 4]\n",
            " [2 5 8 0 3 5 7 8 2]\n",
            " [5 8 4 3 5 0 8 2 5]\n",
            " [8 4 8 5 0 8 2 5 0]\n",
            " [4 8 4 0 8 8 5 0 4]\n",
            " [8 4 3 8 8 4 0 4 0]]\n"
          ]
        }
      ]
    },
    {
      "cell_type": "markdown",
      "source": [
        "참고 깃허브 : https://github.com/parasdahal/deepnet/blob/master/run_cnn.py"
      ],
      "metadata": {
        "id": "1VOz4_tdnwwI"
      },
      "id": "1VOz4_tdnwwI"
    },
    {
      "cell_type": "code",
      "source": [
        "import numpy as np\n",
        "\n",
        "def get_im2col_indices(x_shape, field_height=3, field_width=3, padding=1, stride=1):\n",
        "  # First figure out what the size of the output should be\n",
        "  N, C, H, W = x_shape\n",
        "  assert (H + 2 * padding - field_height) % stride == 0\n",
        "  assert (W + 2 * padding - field_height) % stride == 0\n",
        "  out_height = (H + 2 * padding - field_height) / stride + 1\n",
        "  out_width = (W + 2 * padding - field_width) / stride + 1\n",
        "\n",
        "  i0 = np.repeat(np.arange(field_height,dtype='int32'), field_width)\n",
        "  i0 = np.tile(i0, C)\n",
        "  i1 = stride * np.repeat(np.arange(out_height,dtype='int32'), out_width)\n",
        "  j0 = np.tile(np.arange(field_width), field_height * C)\n",
        "  j1 = stride * np.tile(np.arange(out_width,dtype='int32'), int(out_height))\n",
        "  i = i0.reshape(-1, 1) + i1.reshape(1, -1)\n",
        "  j = j0.reshape(-1, 1) + j1.reshape(1, -1)\n",
        "\n",
        "  k = np.repeat(np.arange(C,dtype='int32'), field_height * field_width).reshape(-1, 1)\n",
        "\n",
        "  return (k, i, j)\n",
        "\n",
        "def im2col_indices(x, field_height=3, field_width=3, padding=1, stride=1):\n",
        "  \"\"\" An implementation of im2col based on some fancy indexing \"\"\"\n",
        "  # Zero-pad the input\n",
        "  p = padding\n",
        "  x_padded = np.pad(x, ((0, 0), (0, 0), (p, p), (p, p)), mode='constant')\n",
        "\n",
        "  k, i, j = get_im2col_indices(x.shape, field_height, field_width, padding,\n",
        "                               stride)\n",
        "\n",
        "  cols = x_padded[:, k, i, j]\n",
        "  C = x.shape[1]\n",
        "  cols = cols.transpose(1, 2, 0).reshape(field_height * field_width * C, -1)\n",
        "  return cols\n",
        "\n",
        "\n",
        "def col2im_indices(cols, x_shape, field_height=3, field_width=3, padding=1,\n",
        "                   stride=1):\n",
        "  \"\"\" An implementation of col2im based on fancy indexing and np.add.at \"\"\"\n",
        "  N, C, H, W = x_shape\n",
        "  H_padded, W_padded = H + 2 * padding, W + 2 * padding\n",
        "  x_padded = np.zeros((N, C, H_padded, W_padded), dtype=cols.dtype)\n",
        "  k, i, j = get_im2col_indices(x_shape, field_height, field_width, padding,\n",
        "                               stride)\n",
        "  cols_reshaped = cols.reshape(C * field_height * field_width, -1, N)\n",
        "  cols_reshaped = cols_reshaped.transpose(2, 0, 1)\n",
        "  np.add.at(x_padded, (slice(None), k, i, j), cols_reshaped)\n",
        "  if padding == 0:\n",
        "    return x_padded\n",
        "  return x_padded[:, :, padding:-padding, padding:-padding]\n",
        "\n",
        "pass"
      ],
      "metadata": {
        "id": "YIo-NiD4EUuD"
      },
      "id": "YIo-NiD4EUuD",
      "execution_count": 115,
      "outputs": []
    },
    {
      "cell_type": "code",
      "source": [
        "class Conv():\n",
        "\n",
        "    def __init__(self, X_dim, n_filter, h_filter, w_filter, stride, padding):\n",
        "\n",
        "        self.d_X, self.h_X, self.w_X = X_dim\n",
        "\n",
        "        self.n_filter, self.h_filter, self.w_filter = n_filter, h_filter, w_filter\n",
        "        self.stride, self.padding = stride, padding\n",
        "\n",
        "        self.W = np.random.randn(\n",
        "            n_filter, self.d_X, h_filter, w_filter) / np.sqrt(n_filter / 2.)\n",
        "        self.b = np.zeros((self.n_filter, 1))\n",
        "        self.params = [self.W, self.b]\n",
        "\n",
        "        self.h_out = (self.h_X - h_filter + 2 * padding) / stride + 1\n",
        "        self.w_out = (self.w_X - w_filter + 2 * padding) / stride + 1\n",
        "\n",
        "        if not self.h_out.is_integer() or not self.w_out.is_integer():\n",
        "            raise Exception(\"Invalid dimensions!\")\n",
        "\n",
        "        self.h_out, self.w_out = int(self.h_out), int(self.w_out)\n",
        "        self.out_dim = (self.n_filter, self.h_out, self.w_out)\n",
        "\n",
        "    def forward(self, X):\n",
        "\n",
        "        self.n_X = X.shape[0]\n",
        "\n",
        "        self.X_col = im2col_indices(\n",
        "            X, self.h_filter, self.w_filter, stride=self.stride, padding=self.padding)\n",
        "        W_row = self.W.reshape(self.n_filter, -1)\n",
        "\n",
        "        out = W_row @ self.X_col + self.b\n",
        "        out = out.reshape(self.n_filter, self.h_out, self.w_out, self.n_X)\n",
        "        out = out.transpose(3, 0, 1, 2)\n",
        "        return out\n",
        "\n",
        "    def backward(self, dout):\n",
        "\n",
        "        dout_flat = dout.transpose(1, 2, 3, 0).reshape(self.n_filter, -1)\n",
        "\n",
        "        dW = dout_flat @ self.X_col.T\n",
        "        dW = dW.reshape(self.W.shape)\n",
        "\n",
        "        db = np.sum(dout, axis=(0, 2, 3)).reshape(self.n_filter, -1)\n",
        "\n",
        "        W_flat = self.W.reshape(self.n_filter, -1)\n",
        "\n",
        "        dX_col = W_flat.T @ dout_flat\n",
        "        shape = (self.n_X, self.d_X, self.h_X, self.w_X)\n",
        "        dX = col2im_indices(dX_col, shape, self.h_filter,\n",
        "                            self.w_filter, self.padding, self.stride)\n",
        "\n",
        "        return dX, [dW, db]\n",
        "\n",
        "\n",
        "class Maxpool():\n",
        "\n",
        "    def __init__(self, X_dim, size, stride):\n",
        "\n",
        "        self.d_X, self.h_X, self.w_X = X_dim\n",
        "\n",
        "        self.params = []\n",
        "\n",
        "        self.size = size\n",
        "        self.stride = stride\n",
        "\n",
        "        self.h_out = (self.h_X - size) / stride + 1\n",
        "        self.w_out = (self.w_X - size) / stride + 1\n",
        "\n",
        "        if not self.h_out.is_integer() or not self.w_out.is_integer():\n",
        "            raise Exception(\"Invalid dimensions!\")\n",
        "\n",
        "        self.h_out, self.w_out = int(self.h_out), int(self.w_out)\n",
        "        self.out_dim = (self.d_X, self.h_out, self.w_out)\n",
        "\n",
        "    def forward(self, X):\n",
        "        self.n_X = X.shape[0]\n",
        "        X_reshaped = X.reshape(\n",
        "            X.shape[0] * X.shape[1], 1, X.shape[2], X.shape[3])\n",
        "\n",
        "        self.X_col = im2col_indices(\n",
        "            X_reshaped, self.size, self.size, padding=0, stride=self.stride)\n",
        "\n",
        "        self.max_indexes = np.argmax(self.X_col, axis=0)\n",
        "        out = self.X_col[self.max_indexes, range(self.max_indexes.size)]\n",
        "\n",
        "        out = out.reshape(self.h_out, self.w_out, self.n_X,\n",
        "                          self.d_X).transpose(2, 3, 0, 1)\n",
        "        return out\n",
        "\n",
        "    def backward(self, dout):\n",
        "\n",
        "        dX_col = np.zeros_like(self.X_col)\n",
        "        # flatten the gradient\n",
        "        dout_flat = dout.transpose(2, 3, 0, 1).ravel()\n",
        "\n",
        "        dX_col[self.max_indexes, range(self.max_indexes.size)] = dout_flat\n",
        "\n",
        "        # get the original X_reshaped structure from col2im\n",
        "        shape = (self.n_X * self.d_X, 1, self.h_X, self.w_X)\n",
        "        dX = col2im_indices(dX_col, shape, self.size,\n",
        "                            self.size, padding=0, stride=self.stride)\n",
        "        dX = dX.reshape(self.n_X, self.d_X, self.h_X, self.w_X)\n",
        "        return dX, []\n",
        "\n",
        "\n",
        "class Flatten():\n",
        "\n",
        "    def __init__(self):\n",
        "        self.params = []\n",
        "\n",
        "    def forward(self, X):\n",
        "        self.X_shape = X.shape\n",
        "        self.out_shape = (self.X_shape[0], -1)\n",
        "        out = X.ravel().reshape(self.out_shape)\n",
        "        self.out_shape = self.out_shape[1]\n",
        "        return out\n",
        "\n",
        "    def backward(self, dout):\n",
        "        out = dout.reshape(self.X_shape)\n",
        "        return out, ()\n",
        "\n",
        "\n",
        "class FullyConnected():\n",
        "\n",
        "    def __init__(self, in_size, out_size):\n",
        "\n",
        "        self.W = np.random.randn(in_size, out_size) / np.sqrt(in_size / 2.)\n",
        "        self.b = np.zeros((1, out_size))\n",
        "        self.params = [self.W, self.b]\n",
        "\n",
        "    def forward(self, X):\n",
        "        self.X = X\n",
        "        out = self.X @ self.W + self.b\n",
        "        return out\n",
        "\n",
        "    def backward(self, dout):\n",
        "        dW = self.X.T @ dout\n",
        "        db = np.sum(dout, axis=0)\n",
        "        dX = dout @ self.W.T\n",
        "        return dX, [dW, db]\n",
        "\n",
        "\n",
        "class Batchnorm():\n",
        "\n",
        "    def __init__(self, X_dim):\n",
        "        self.d_X, self.h_X, self.w_X = X_dim\n",
        "        self.gamma = np.ones((1, int(np.prod(X_dim))))\n",
        "        self.beta = np.zeros((1, int(np.prod(X_dim))))\n",
        "        self.params = [self.gamma, self.beta]\n",
        "\n",
        "    def forward(self, X):\n",
        "        self.n_X = X.shape[0]\n",
        "        self.X_shape = X.shape\n",
        "\n",
        "        self.X_flat = X.ravel().reshape(self.n_X, -1)\n",
        "        self.mu = np.mean(self.X_flat, axis=0)\n",
        "        self.var = np.var(self.X_flat, axis=0)\n",
        "        self.X_norm = (self.X_flat - self.mu) / np.sqrt(self.var + 1e-8)\n",
        "        out = self.gamma * self.X_norm + self.beta\n",
        "\n",
        "        return out.reshape(self.X_shape)\n",
        "\n",
        "    def backward(self, dout):\n",
        "\n",
        "        dout = dout.ravel().reshape(dout.shape[0], -1)\n",
        "        X_mu = self.X_flat - self.mu\n",
        "        var_inv = 1. / np.sqrt(self.var + 1e-8)\n",
        "\n",
        "        dbeta = np.sum(dout, axis=0)\n",
        "        dgamma = np.sum(dout * self.X_norm, axis=0)\n",
        "\n",
        "        dX_norm = dout * self.gamma\n",
        "        dvar = np.sum(dX_norm * X_mu, axis=0) * - \\\n",
        "            0.5 * (self.var + 1e-8)**(-3 / 2)\n",
        "        dmu = np.sum(dX_norm * -var_inv, axis=0) + dvar * \\\n",
        "            1 / self.n_X * np.sum(-2. * X_mu, axis=0)\n",
        "        dX = (dX_norm * var_inv) + (dmu / self.n_X) + \\\n",
        "            (dvar * 2 / self.n_X * X_mu)\n",
        "\n",
        "        dX = dX.reshape(self.X_shape)\n",
        "        return dX, [dgamma, dbeta]\n",
        "\n",
        "\n",
        "class Dropout():\n",
        "\n",
        "    def __init__(self, prob=0.5):\n",
        "        self.prob = prob\n",
        "        self.params = []\n",
        "\n",
        "    def forward(self, X):\n",
        "        self.mask = np.random.binomial(1, self.prob, size=X.shape) / self.prob\n",
        "        out = X * self.mask\n",
        "        return out.reshape(X.shape)\n",
        "\n",
        "    def backward(self, dout):\n",
        "        dX = dout * self.mask\n",
        "        return dX, []\n",
        "\n",
        "\n",
        "class ReLU():\n",
        "    def __init__(self):\n",
        "        self.params = []\n",
        "\n",
        "    def forward(self, X):\n",
        "        self.X = X\n",
        "        return np.maximum(0, X)\n",
        "\n",
        "    def backward(self, dout):\n",
        "        dX = dout.copy()\n",
        "        dX[self.X <= 0] = 0\n",
        "        return dX, []\n",
        "\n",
        "\n",
        "class sigmoid():\n",
        "    def __init__(self):\n",
        "        self.params = []\n",
        "\n",
        "    def forward(self, X):\n",
        "        out = 1.0 / (1.0 + np.exp(X))\n",
        "        self.out = out\n",
        "        return out\n",
        "\n",
        "    def backward(self, dout):\n",
        "        dX = dout * self.out * (1 - self.out)\n",
        "        return dX, []\n",
        "\n",
        "\n",
        "class tanh():\n",
        "    def __init__(self):\n",
        "        self.params = []\n",
        "\n",
        "    def forward(self, X):\n",
        "        out = np.tanh(X)\n",
        "        self.out = out\n",
        "        return out\n",
        "\n",
        "    def backward(self, dout):\n",
        "        dX = dout * (1 - self.out**2)\n",
        "        return dX, []"
      ],
      "metadata": {
        "id": "zOV4ye6qFfkO"
      },
      "id": "zOV4ye6qFfkO",
      "execution_count": 116,
      "outputs": []
    },
    {
      "cell_type": "code",
      "source": [
        "from sklearn.utils import shuffle\n",
        "import copy\n",
        "\n",
        "\n",
        "\n",
        "def get_minibatches(X, y, minibatch_size,shuffleTag=True):\n",
        "    m = X.shape[0]\n",
        "    minibatches = []\n",
        "    if shuffleTag:\n",
        "        X, y = shuffle(X, y)\n",
        "    for i in range(0, m, minibatch_size):\n",
        "        X_batch = X[i:i + minibatch_size, :, :, :]\n",
        "        y_batch = y[i:i + minibatch_size, ]\n",
        "        minibatches.append((X_batch, y_batch))\n",
        "    return minibatches\n",
        "\n",
        "\n",
        "def vanilla_update(params, grads, learning_rate=0.01):\n",
        "    for param, grad in zip(params, reversed(grads)):\n",
        "        for i in range(len(grad)):\n",
        "            param[i] += - learning_rate * grad[i]\n",
        "\n",
        "\n",
        "def momentum_update(velocity, params, grads, learning_rate=0.01, mu=0.9):\n",
        "    for v, param, grad, in zip(velocity, params, reversed(grads)):\n",
        "        for i in range(len(grad)):\n",
        "            v[i] = mu * v[i] + learning_rate * grad[i]\n",
        "            param[i] -= v[i]\n",
        "\n",
        "\n",
        "def adagrad_update(cache, params, grads, learning_rate=0.01):\n",
        "    for c, param, grad, in zip(cache, params, reversed(grads)):\n",
        "        for i in range(len(grad)):\n",
        "            cache[i] += grad[i]**2\n",
        "            param[i] += - learning_rate * grad[i] / (np.sqrt(cache[i]) + 1e-8)\n",
        "\n",
        "\n",
        "def rmsprop_update(cache, params, grads, learning_rate=0.01, decay_rate=0.9):\n",
        "    for c, param, grad, in zip(cache, params, reversed(grads)):\n",
        "        for i in range(len(grad)):\n",
        "            cache[i] = decay_rate * cache[i] + (1 - decay_rate) * grad[i]**2\n",
        "            param[i] += - learning_rate * grad[i] / (np.sqrt(cache[i]) + 1e-4)\n",
        "\n",
        "\n",
        "def sgd(nnet, X_train, y_train, minibatch_size, epoch, learning_rate, verbose=True,\n",
        "        X_test=None, y_test=None):\n",
        "    minibatches = get_minibatches(X_train, y_train, minibatch_size)\n",
        "    for i in range(epoch):\n",
        "        loss = 0\n",
        "        if verbose:\n",
        "            print(\"Epoch {0}\".format(i + 1))\n",
        "        for X_mini, y_mini in minibatches:\n",
        "            loss, grads = nnet.train_step(X_mini, y_mini)\n",
        "            vanilla_update(nnet.params, grads, learning_rate=learning_rate)\n",
        "        if verbose:\n",
        "            train_acc = accuracy(y_train, nnet.predict(X_train))\n",
        "            test_acc = accuracy(y_test, nnet.predict(X_test))\n",
        "            print(\"Loss = {0} | Training Accuracy = {1} | Test Accuracy = {2}\".format(\n",
        "                loss, train_acc, test_acc))\n",
        "    return nnet\n",
        "\n",
        "def sgd_rnn(nnet, X_train, y_train, minibatch_size, epoch, learning_rate, verbose=True):\n",
        "    for i in range(epoch):\n",
        "        loss = 0\n",
        "        if verbose:\n",
        "            print(\"Epoch {0}\".format(i + 1))\n",
        "        hidden_state = nnet.initial_state\n",
        "        loss, grads, hidden_state = nnet.train_step(X_train, y_train, hidden_state)\n",
        "\n",
        "        for k in grads.keys():\n",
        "            nnet.model[k] -= learning_rate * grads[k]\n",
        "        \n",
        "        if verbose:\n",
        "            print(\"Loss = {0}\".format(loss))\n",
        "    return nnet\n",
        "\n",
        "\n",
        "def sgd_momentum(nnet, X_train, y_train, minibatch_size, epoch, learning_rate, mu=0.9,\n",
        "                 verbose=True, X_test=None, y_test=None, nesterov=True):\n",
        "\n",
        "    minibatches = get_minibatches(X_train, y_train, minibatch_size)\n",
        "\n",
        "    for i in range(epoch):\n",
        "        loss = 0\n",
        "        velocity = []\n",
        "        for param_layer in nnet.params:\n",
        "            p = [np.zeros_like(param) for param in list(param_layer)]\n",
        "            velocity.append(p)\n",
        "\n",
        "        if verbose:\n",
        "            print(\"Epoch {0}\".format(i + 1))\n",
        "\n",
        "        for X_mini, y_mini in minibatches:\n",
        "\n",
        "            if nesterov:\n",
        "                for param, ve in zip(nnet.params, velocity):\n",
        "                    for i in range(len(param)):\n",
        "                        param[i] += mu * ve[i]\n",
        "\n",
        "            loss, grads = nnet.train_step(X_mini, y_mini)\n",
        "            momentum_update(velocity, nnet.params, grads,\n",
        "                            learning_rate=learning_rate, mu=mu)\n",
        "\n",
        "        if verbose:\n",
        "            m_train = X_train.shape[0]\n",
        "            m_test = X_test.shape[0]\n",
        "            y_train_pred = np.array([], dtype=\"int64\")\n",
        "            y_test_pred = np.array([], dtype=\"int64\")\n",
        "            for i in range(0, m_train, minibatch_size):\n",
        "                X_tr = X_train[i:i + minibatch_size, :, :, :]\n",
        "                y_tr = y_train[i:i + minibatch_size, ]\n",
        "                y_train_pred = np.append(y_train_pred, nnet.predict(X_tr))\n",
        "            for i in range(0, m_test, minibatch_size):\n",
        "                X_te = X_test[i:i + minibatch_size, :, :, :]\n",
        "                y_te = y_test[i:i + minibatch_size, ]\n",
        "                y_test_pred = np.append(y_test_pred, nnet.predict(X_te))\n",
        "\n",
        "            train_acc = accuracy(y_train, y_train_pred)\n",
        "            test_acc = accuracy(y_test, y_test_pred)\n",
        "            print(\"Loss = {0} | Training Accuracy = {1} | Test Accuracy = {2}\".format(\n",
        "                loss, train_acc, test_acc))\n",
        "    return nnet\n",
        "\n",
        "\n",
        "def adam(nnet, X_train, y_train, minibatch_size, epoch, learning_rate, verbose=True,\n",
        "         X_test=None, y_test=None):\n",
        "    beta1 = 0.9\n",
        "    beta2 = 0.999\n",
        "    minibatches = get_minibatches(X_train, y_train, minibatch_size)\n",
        "    for i in range(epoch):\n",
        "        loss = 0\n",
        "        velocity, cache = [], []\n",
        "        for param_layer in nnet.params:\n",
        "            p = [np.zeros_like(param) for param in list(param_layer)]\n",
        "            velocity.append(p)\n",
        "            cache.append(p)\n",
        "        if verbose:\n",
        "            print(\"Epoch {0}\".format(i + 1))\n",
        "        t = 1\n",
        "        for X_mini, y_mini in minibatches:\n",
        "            loss, grads = nnet.train_step(X_mini, y_mini)\n",
        "            for c, v, param, grad, in zip(cache, velocity, nnet.params, reversed(grads)):\n",
        "                for i in range(len(grad)):\n",
        "                    c[i] = beta1 * c[i] + (1. - beta1) * grad[i]\n",
        "                    v[i] = beta2 * v[i] + (1. - beta2) * (grad[i]**2)\n",
        "                    mt = c[i] / (1. - beta1**(t))\n",
        "                    vt = v[i] / (1. - beta2**(t))\n",
        "                    param[i] += - learning_rate * mt / (np.sqrt(vt) + 1e-4)\n",
        "            t += 1\n",
        "\n",
        "        if verbose:\n",
        "            train_acc = accuracy(y_train, nnet.predict(X_train))\n",
        "            test_acc = accuracy(y_test, nnet.predict(X_test))\n",
        "            print(\"Loss = {0} | Training Accuracy = {1} | Test Accuracy = {2}\".format(\n",
        "                loss, train_acc, test_acc))\n",
        "    return nnet"
      ],
      "metadata": {
        "id": "hcNpcgPYgm-N"
      },
      "id": "hcNpcgPYgm-N",
      "execution_count": 79,
      "outputs": []
    },
    {
      "cell_type": "code",
      "source": [
        "import _pickle as cPickle\n",
        "import gzip\n",
        "import os\n",
        "\n",
        "\n",
        "def one_hot_encode(y, num_class):\n",
        "    m = y.shape[0]\n",
        "    onehot = np.zeros((m, num_class), dtype=\"int32\")\n",
        "    for i in range(m):\n",
        "        idx = y[i]\n",
        "        onehot[i][idx] = 1\n",
        "    return onehot\n",
        "\n",
        "\n",
        "def accuracy(y_true, y_pred):\n",
        "    return np.mean(y_pred == y_true)  # both are not one hot encoded\n",
        "\n",
        "\n",
        "def softmax(x):\n",
        "    exp_x = np.exp(x - np.max(x, axis=1, keepdims=True))\n",
        "    return exp_x / np.sum(exp_x, axis=1, keepdims=True)\n",
        "\n",
        "\n",
        "def load_mnist(path, num_training=50000, num_test=10000, cnn=True, one_hot=False):\n",
        "    f = gzip.open(path, 'rb')\n",
        "    training_data, validation_data, test_data = cPickle.load(\n",
        "        f, encoding='iso-8859-1')\n",
        "    f.close()\n",
        "    X_train, y_train = training_data\n",
        "    X_validation, y_validation = validation_data\n",
        "    X_test, y_test = test_data\n",
        "    if cnn:\n",
        "        shape = (-1, 1, 28, 28)\n",
        "        X_train = X_train.reshape(shape)\n",
        "        X_validation = X_validation.reshape(shape)\n",
        "        X_test = X_test.reshape(shape)\n",
        "    if one_hot:\n",
        "        y_train = one_hot_encode(y_train, 10)\n",
        "        y_validation = one_hot_encode(y_validation, 10)\n",
        "        y_test = one_hot_encode(y_test, 10)\n",
        "    X_train, y_train = X_train[range(\n",
        "        num_training)], y_train[range(num_training)]\n",
        "    X_test, y_test = X_test[range(num_test)], y_test[range(num_test)]\n",
        "    return (X_train, y_train), (X_test, y_test)\n"
      ],
      "metadata": {
        "id": "0vFXGXzjgeeQ"
      },
      "id": "0vFXGXzjgeeQ",
      "execution_count": 80,
      "outputs": []
    },
    {
      "cell_type": "code",
      "source": [
        "def l2_regularization(layers, lam=0.001):\n",
        "    reg_loss = 0.0\n",
        "    for layer in layers:\n",
        "        if hasattr(layer, 'W'):\n",
        "            reg_loss += 0.5 * lam * np.sum(layer.W * layer.W)\n",
        "    return reg_loss\n",
        "\n",
        "\n",
        "def delta_l2_regularization(layers, grads, lam=0.001):\n",
        "    for layer, grad in zip(layers, reversed(grads)):\n",
        "        if hasattr(layer, 'W'):\n",
        "            grad[0] += lam * layer.W\n",
        "    return grads\n",
        "\n",
        "\n",
        "def l1_regularization(layers, lam=0.001):\n",
        "    reg_loss = 0.0\n",
        "    for layer in layers:\n",
        "        if hasattr(layer, 'W'):\n",
        "            reg_loss += lam * np.sum(np.abs(layer.W))\n",
        "    return reg_loss\n",
        "\n",
        "\n",
        "def delta_l1_regularization(layers, grads, lam=0.001):\n",
        "    for layer, grad in zip(layers, reversed(grads)):\n",
        "        if hasattr(layer, 'W'):\n",
        "            grad[0] += lam * layer.W / (np.abs(layer.W) + 1e-8)\n",
        "    return grads\n",
        "\n",
        "\n",
        "def SoftmaxLoss(X, y):\n",
        "    m = y.shape[0]\n",
        "    p = softmax(X)\n",
        "    log_likelihood = -np.log(p[range(m), y])\n",
        "    loss = np.sum(log_likelihood) / m\n",
        "\n",
        "    dx = p.copy()\n",
        "    dx[range(m), y] -= 1\n",
        "    dx /= m\n",
        "    return loss, dx"
      ],
      "metadata": {
        "id": "2FUMCvcLgS2j"
      },
      "id": "2FUMCvcLgS2j",
      "execution_count": 82,
      "outputs": []
    },
    {
      "cell_type": "code",
      "source": [
        "class CNN:\n",
        "\n",
        "    def __init__(self, layers, loss_func=SoftmaxLoss):\n",
        "        self.layers = layers\n",
        "        self.params = []\n",
        "        for layer in self.layers:\n",
        "            self.params.append(layer.params)\n",
        "        self.loss_func = loss_func\n",
        "\n",
        "    def forward(self, X):\n",
        "        for layer in self.layers:\n",
        "            X = layer.forward(X)\n",
        "        return X\n",
        "\n",
        "    def backward(self, dout):\n",
        "        grads = []\n",
        "        for layer in reversed(self.layers):\n",
        "            dout, grad = layer.backward(dout)\n",
        "            grads.append(grad)\n",
        "        return grads\n",
        "\n",
        "    def train_step(self, X, y):\n",
        "        out = self.forward(X)\n",
        "        loss, dout = self.loss_func(out, y)\n",
        "        loss += l2_regularization(self.layers)\n",
        "        grads = self.backward(dout)\n",
        "        grads = delta_l2_regularization(self.layers, grads)\n",
        "        return loss, grads\n",
        "\n",
        "    def predict(self, X):\n",
        "        X = self.forward(X)\n",
        "        return np.argmax(softmax(X), axis=1)\n",
        "\n"
      ],
      "metadata": {
        "id": "vNKDHb6ZguqU"
      },
      "id": "vNKDHb6ZguqU",
      "execution_count": 90,
      "outputs": []
    },
    {
      "cell_type": "code",
      "source": [
        "import sys\n",
        "\n",
        "\n",
        "def make_mnist_cnn(X_dim, num_class):\n",
        "    conv = Conv(X_dim, n_filter=32, h_filter=3,\n",
        "                w_filter=3, stride=1, padding=1)\n",
        "    \n",
        "    \n",
        "    relu_conv = ReLU()\n",
        "    maxpool = Maxpool(conv.out_dim, size=2, stride=1)\n",
        "\n",
        "    flat = Flatten()\n",
        "    fc = FullyConnected(np.prod(maxpool.out_dim), num_class)\n",
        "    return [conv, relu_conv, maxpool, flat, fc]\n",
        "\n"
      ],
      "metadata": {
        "id": "xmGdlrzlg2NV"
      },
      "id": "xmGdlrzlg2NV",
      "execution_count": 85,
      "outputs": []
    },
    {
      "cell_type": "code",
      "source": [
        "training_set, test_set = load_mnist(\n",
        "    '/content/mnist.pkl.gz', num_training=100, num_test=100)\n",
        "X, y = training_set\n",
        "X_test, y_test = test_set\n",
        "mnist_dims = (1, 28, 28)\n",
        "cnn = CNN(make_mnist_cnn(mnist_dims, num_class=10))\n",
        "cnn = sgd_momentum(cnn, X, y, minibatch_size=64, epoch=10,\n",
        "                    learning_rate=0.1, X_test=X_test, y_test=y_test)"
      ],
      "metadata": {
        "colab": {
          "base_uri": "https://localhost:8080/"
        },
        "id": "lnXBW9S7hKzN",
        "outputId": "05b84633-ed9f-40eb-bea8-e991d7036494"
      },
      "id": "lnXBW9S7hKzN",
      "execution_count": 92,
      "outputs": [
        {
          "output_type": "stream",
          "name": "stdout",
          "text": [
            "Epoch 1\n",
            "Loss = 2.292440878863404 | Training Accuracy = 0.32 | Test Accuracy = 0.34\n",
            "Epoch 2\n",
            "Loss = 1.1864510047965033 | Training Accuracy = 0.5 | Test Accuracy = 0.39\n",
            "Epoch 3\n",
            "Loss = 7.59378294072375 | Training Accuracy = 0.45 | Test Accuracy = 0.33\n",
            "Epoch 4\n",
            "Loss = 1.5653772504548693 | Training Accuracy = 0.82 | Test Accuracy = 0.52\n",
            "Epoch 5\n",
            "Loss = 1.0943668808175027 | Training Accuracy = 0.94 | Test Accuracy = 0.69\n",
            "Epoch 6\n",
            "Loss = 0.5727542215438458 | Training Accuracy = 0.96 | Test Accuracy = 0.75\n",
            "Epoch 7\n",
            "Loss = 0.28473734073454643 | Training Accuracy = 0.96 | Test Accuracy = 0.75\n",
            "Epoch 8\n",
            "Loss = 0.18024153528417464 | Training Accuracy = 0.96 | Test Accuracy = 0.74\n",
            "Epoch 9\n",
            "Loss = 0.13393172353631166 | Training Accuracy = 0.96 | Test Accuracy = 0.75\n",
            "Epoch 10\n",
            "Loss = 0.10757762441371937 | Training Accuracy = 1.0 | Test Accuracy = 0.75\n"
          ]
        }
      ]
    },
    {
      "cell_type": "code",
      "source": [
        ""
      ],
      "metadata": {
        "id": "N3nJUXFU-otC"
      },
      "id": "N3nJUXFU-otC",
      "execution_count": null,
      "outputs": []
    },
    {
      "cell_type": "markdown",
      "source": [
        "이미지 참조 링크\n",
        "[1] https://mblogthumb-phinf.pstatic.net/20161003_66/12kyny_1475500967723aoj5N_PNG/%B1%E2%B0%E8%C7%D0%BD%C0%28%B8%D3%BD%C5%B7%AF%B4%D7_Machine_Learning%29_%C0%CE%B0%F8%BD%C5%B0%E6%B8%C1%28Artificial_Neural_Network%29_01.png?type=w800 </br>\n",
        "[2] https://o.quizlet.com/aZka55O26J7A2H9gqoDYGQ.png</br>\n",
        "[3]</br>\n",
        "[4]</br>\n",
        "[5]</br>\n",
        "[6]</br>\n",
        "[7]</br>\n",
        "[8]</br>\n",
        "[9]</br>\n",
        "[10]</br>"
      ],
      "metadata": {
        "id": "ZYJ2Or6W6LZm"
      },
      "id": "ZYJ2Or6W6LZm"
    },
    {
      "cell_type": "code",
      "source": [
        ""
      ],
      "metadata": {
        "id": "iopGwJ9I6hEP"
      },
      "id": "iopGwJ9I6hEP",
      "execution_count": null,
      "outputs": []
    }
  ],
  "metadata": {
    "hide_input": false,
    "kernelspec": {
      "display_name": "Python 3 (ipykernel)",
      "language": "python",
      "name": "python3"
    },
    "language_info": {
      "codemirror_mode": {
        "name": "ipython",
        "version": 3
      },
      "file_extension": ".py",
      "mimetype": "text/x-python",
      "name": "python",
      "nbconvert_exporter": "python",
      "pygments_lexer": "ipython3",
      "version": "3.9.7"
    },
    "latex_envs": {
      "LaTeX_envs_menu_present": true,
      "autoclose": false,
      "autocomplete": true,
      "bibliofile": "biblio.bib",
      "cite_by": "apalike",
      "current_citInitial": 1,
      "eqLabelWithNumbers": true,
      "eqNumInitial": 1,
      "hotkeys": {
        "equation": "Ctrl-E",
        "itemize": "Ctrl-I"
      },
      "labels_anchors": false,
      "latex_user_defs": false,
      "report_style_numbering": false,
      "user_envs_cfg": false
    },
    "nbTranslate": {
      "displayLangs": [
        "*"
      ],
      "hotkey": "alt-t",
      "langInMainMenu": true,
      "sourceLang": "en",
      "targetLang": "fr",
      "useGoogleTranslate": true
    },
    "toc": {
      "base_numbering": 1,
      "nav_menu": {},
      "number_sections": true,
      "sideBar": true,
      "skip_h1_title": false,
      "title_cell": "Table of Contents",
      "title_sidebar": "Contents",
      "toc_cell": false,
      "toc_position": {},
      "toc_section_display": true,
      "toc_window_display": false
    },
    "varInspector": {
      "cols": {
        "lenName": 16,
        "lenType": 16,
        "lenVar": 40
      },
      "kernels_config": {
        "python": {
          "delete_cmd_postfix": "",
          "delete_cmd_prefix": "del ",
          "library": "var_list.py",
          "varRefreshCmd": "print(var_dic_list())"
        },
        "r": {
          "delete_cmd_postfix": ") ",
          "delete_cmd_prefix": "rm(",
          "library": "var_list.r",
          "varRefreshCmd": "cat(var_dic_list()) "
        }
      },
      "types_to_exclude": [
        "module",
        "function",
        "builtin_function_or_method",
        "instance",
        "_Feature"
      ],
      "window_display": false
    },
    "colab": {
      "name": "Untitled1.ipynb",
      "provenance": [],
      "include_colab_link": true
    }
  },
  "nbformat": 4,
  "nbformat_minor": 5
}