{
 "cells": [
  {
   "cell_type": "markdown",
   "id": "2f99a1b1",
   "metadata": {},
   "source": [
    "```python\n",
    "import tensorflow as tf\n",
    "import numpy as np\n",
    "import cv2\n",
    " \n",
    "np.random.seed(15)\n",
    " \n",
    "path = 'example'\n",
    " \n",
    "generator = tf.keras.preprocessing.image.ImageDataGenerator(\n",
    "    rotation_range = 20,\n",
    "    width_shift_range = 0.2,\n",
    "    height_shift_range = 0.2,\n",
    "    rescale = 1. / 255)\n",
    " \n",
    "batch_size = 4\n",
    "iterations = 5\n",
    "images = []\n",
    "```\n",
    "\n",
    "[ Line 5 ]</br>\n",
    "Keras의 Random Seed 설정은 np.random.seed( )를 통해 해줄 수 있다.</br>\n",
    "재현성 잡힌 Image Load & Augmentation 결과를 얻고 싶다면 np.random.seed( )를 설정해주도록 하자.</br>\n",
    "</br>\n",
    "[ Line 9 ~ 13 ]</br>\n",
    "ImageDataGenerator 인스턴스를 generator라는 변수명으로 생성하자.</br>\n",
    "생성시에 파라미터를 설정하면 어떻게 augmentation를 진행할지 지정할 수 있다.</br>\n",
    "</br>\n",
    "[ Line 15 ~ 16 ]</br>\n",
    "example folder에 있는 이미지 4장을 한 번에 읽어들이기 위해 batch_size = 4 로 설정</br>\n",
    "augmentatoin을 5번 적용하기 위해 iterations = 5 로 설정</br>\n",
    "</br>\n",
    "이렇게 생성한 generator 인스턴스의 flow_from_directory( ) 함수를 사용하는 방식에는 두 가지가 있다.</br>\n",
    "</br>\n",
    "next( ) 함수 사용</br>\n",
    "for 문에서 flow_from_directory( ) 호출</br>\n",
    "각 케이스 별 사용법에 대해 자세히 알아보도록 하자.</br>"
   ]
  },
  {
   "cell_type": "markdown",
   "id": "ca0109ae",
   "metadata": {},
   "source": [
    "```python\n",
    "obj = generator.flow_from_directory(\n",
    "    path,\n",
    "    target_size = (150, 150),\n",
    "    batch_size = batch_size,\n",
    "    class_mode = 'binary')\n",
    " \n",
    " \n",
    "for i in enumerate(range(iterations)):\n",
    "    img, label = obj.next()\n",
    "    n_img = len(label)\n",
    "    \n",
    "    base = cv2.cvtColor(img[0], cv2.COLOR_RGB2BGR)  # keras는 RGB, openCV는 BGR이라 변경함\n",
    "    for idx in range(n_img - 1):\n",
    "        img2 = cv2.cvtColor(img[idx + 1], cv2.COLOR_RGB2BGR)\n",
    "        base = np.hstack((base, img2))\n",
    "    images.append(base)\n",
    " \n",
    "img = images[0]\n",
    "for idx in range(len(images) - 1):\n",
    "    img = np.vstack((img, images[idx + 1]))\n",
    "cv2.imshow('result', img)\n",
    "```\n",
    "</br>\n",
    "[ Line 5 ]</br>\n",
    "class_mode는 어떤 방식으로 폴더명에 따른 labelling을 진행할 수 있는 파라미터이다.</br>\n",
    "'binary'로 설정하면 0 or 1로 labelling이 진행된다.</br>\n",
    "</br>\n",
    "[ Line 9 ]</br>\n",
    "next( ) 함수 사용 방법을 제대로 보여주는 코드 한 줄이다.</br>\n",
    "for문에서 obj.next( )를 한 번 호출할 때 마다 </br>\n",
    "   (1) obj는 설정된 경로에서</br>\n",
    "   (2) batch_size에 맞춰서</br>\n",
    "   (3) 이미지를 target_size로 resizing 한 다음에</br>\n",
    "   (4) 폴더명을 기반으로 'binary' 방식에 맞춰 labelling까지 진행해서 이미지를 불러온다.</br>\n",
    "따라서 여기에선 obj.next( ) 한 번 호출하면</br>\n",
    "4장의 이미지를 150 x 150 size로 label 정보와 함께 볼러오게 된다.</br>\n",
    " </br>\n",
    "최종적으로 augmentation 결과가 저장된 image를 띄워보면 다음 사진과 같다.</br>\n"
   ]
  },
  {
   "cell_type": "markdown",
   "id": "4c466b2c",
   "metadata": {
    "ExecuteTime": {
     "end_time": "2022-02-03T02:34:31.208603Z",
     "start_time": "2022-02-03T02:34:31.178367Z"
    }
   },
   "source": [
    "![dog.PNG](https://img1.daumcdn.net/thumb/R1280x0/?scode=mtistory2&fname=https%3A%2F%2Ft1.daumcdn.net%2Fcfile%2Ftistory%2F992EF0385CED19BE1C)\n",
    "</br>\n",
    "( iterations x batch_size )의 형태로 사진이 합성되어 있는 걸 확인할 수 있다. 4개의 이미지를 5번 이미지 증식해 불러왔기 때문이다. 또한 사진을 보시면 원본 이미지에 비해 회전, x축 이동, y축 이동이 된 형태로 변형되어 생성됐다는 걸 알 수 있다. 추가로 위에서 random_seed를 고정해뒀기 때문에 여러번 실행을 반복해도 결과 이미지에는 변함 없는 것을 확인할 수 있다."
   ]
  },
  {
   "cell_type": "markdown",
   "id": "c4334fb4",
   "metadata": {},
   "source": [
    "```python\n",
    "obj = generator.flow_from_directory(\n",
    "    path,\n",
    "    target_size = (150, 150),\n",
    "    batch_size = batch_size,\n",
    "    class_mode = 'binary')\n",
    " \n",
    "for i, (img, label) in enumerate(obj):\n",
    "    n_img = len(label)\n",
    " \n",
    "    base = cv2.cvtColor(img[0], cv2.COLOR_RGB2BGR)\n",
    "    for idx in range(n_img - 1):\n",
    "        img2 = cv2.cvtColor(img[idx + 1], cv2.COLOR_RGB2BGR)\n",
    "        base = np.hstack((base, img2))\n",
    "    images.append(base)\n",
    "    \n",
    "    if i is iterations - 1:\n",
    "        break\n",
    " \n",
    "img = images[0]\n",
    "for idx in range(len(images) - 1):\n",
    "    img = np.vstack((img, images[idx + 1]))\n",
    "cv2.imshow('result', img)\n",
    "```\n",
    "</br>\n",
    "[ Line 7 ]</br>\n",
    "첫 번째 방법과 큰 차이는 없지만 거의 유일하게 다른 한 줄이다.</br>\n",
    "obj.next( )를 직접 호출했던 첫 번째 방법과는 다르게 for문 선언 라인에서 바로 obj를 사용했다.</br>\n",
    "for문이 자동으로 obj.next( )를 호출한다는 이용한 방식이다.</br>\n",
    "</br>\n",
    "[ Line 16, 17 ]</br>\n",
    "하지만 이 방법을 쓰면 for문의 반복 횟수를 직접적으로 제한할 길이 막혀서</br>\n",
    "해당 코드를 추가해서 반복을 제한했다.</br>\n",
    "마찬가지로 이미지를 띄워서 결과를 확인해보면 위와 같은 결과 이미지가 생성되는 것을 확인할 수 있다.</br>"
   ]
  },
  {
   "cell_type": "code",
   "execution_count": null,
   "id": "e36f16ce",
   "metadata": {},
   "outputs": [],
   "source": []
  }
 ],
 "metadata": {
  "hide_input": false,
  "kernelspec": {
   "display_name": "Python 3 (ipykernel)",
   "language": "python",
   "name": "python3"
  },
  "language_info": {
   "codemirror_mode": {
    "name": "ipython",
    "version": 3
   },
   "file_extension": ".py",
   "mimetype": "text/x-python",
   "name": "python",
   "nbconvert_exporter": "python",
   "pygments_lexer": "ipython3",
   "version": "3.9.7"
  },
  "latex_envs": {
   "LaTeX_envs_menu_present": true,
   "autoclose": false,
   "autocomplete": true,
   "bibliofile": "biblio.bib",
   "cite_by": "apalike",
   "current_citInitial": 1,
   "eqLabelWithNumbers": true,
   "eqNumInitial": 1,
   "hotkeys": {
    "equation": "Ctrl-E",
    "itemize": "Ctrl-I"
   },
   "labels_anchors": false,
   "latex_user_defs": false,
   "report_style_numbering": false,
   "user_envs_cfg": false
  },
  "nbTranslate": {
   "displayLangs": [
    "*"
   ],
   "hotkey": "alt-t",
   "langInMainMenu": true,
   "sourceLang": "en",
   "targetLang": "fr",
   "useGoogleTranslate": true
  },
  "toc": {
   "base_numbering": 1,
   "nav_menu": {},
   "number_sections": true,
   "sideBar": true,
   "skip_h1_title": false,
   "title_cell": "Table of Contents",
   "title_sidebar": "Contents",
   "toc_cell": false,
   "toc_position": {},
   "toc_section_display": true,
   "toc_window_display": false
  },
  "varInspector": {
   "cols": {
    "lenName": 16,
    "lenType": 16,
    "lenVar": 40
   },
   "kernels_config": {
    "python": {
     "delete_cmd_postfix": "",
     "delete_cmd_prefix": "del ",
     "library": "var_list.py",
     "varRefreshCmd": "print(var_dic_list())"
    },
    "r": {
     "delete_cmd_postfix": ") ",
     "delete_cmd_prefix": "rm(",
     "library": "var_list.r",
     "varRefreshCmd": "cat(var_dic_list()) "
    }
   },
   "types_to_exclude": [
    "module",
    "function",
    "builtin_function_or_method",
    "instance",
    "_Feature"
   ],
   "window_display": false
  }
 },
 "nbformat": 4,
 "nbformat_minor": 5
}
