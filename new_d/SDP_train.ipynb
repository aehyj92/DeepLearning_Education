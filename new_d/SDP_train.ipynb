{
 "cells": [
  {
   "cell_type": "code",
   "execution_count": 1,
   "id": "3d749363-34e5-4720-87c6-c626b2c53d21",
   "metadata": {
    "tags": []
   },
   "outputs": [
    {
     "name": "stdout",
     "output_type": "stream",
     "text": [
      "Tue Feb  8 02:20:31 2022       \n",
      "+-----------------------------------------------------------------------------+\n",
      "| NVIDIA-SMI 495.44       Driver Version: 495.44       CUDA Version: 11.5     |\n",
      "|-------------------------------+----------------------+----------------------+\n",
      "| GPU  Name        Persistence-M| Bus-Id        Disp.A | Volatile Uncorr. ECC |\n",
      "| Fan  Temp  Perf  Pwr:Usage/Cap|         Memory-Usage | GPU-Util  Compute M. |\n",
      "|                               |                      |               MIG M. |\n",
      "|===============================+======================+======================|\n",
      "|   0  NVIDIA A100-PCI...  Off  | 00000000:12:00.0 Off |                    0 |\n",
      "| N/A   43C    P0    41W / 250W |      0MiB / 40536MiB |      0%      Default |\n",
      "|                               |                      |             Disabled |\n",
      "+-------------------------------+----------------------+----------------------+\n",
      "|   1  NVIDIA A100-PCI...  Off  | 00000000:13:00.0 Off |                    0 |\n",
      "| N/A   41C    P0    34W / 250W |      0MiB / 40536MiB |      0%      Default |\n",
      "|                               |                      |             Disabled |\n",
      "+-------------------------------+----------------------+----------------------+\n",
      "|   2  NVIDIA A100-PCI...  Off  | 00000000:8A:00.0 Off |                    0 |\n",
      "| N/A   42C    P0    38W / 250W |      0MiB / 40536MiB |      0%      Default |\n",
      "|                               |                      |             Disabled |\n",
      "+-------------------------------+----------------------+----------------------+\n",
      "|   3  NVIDIA A100-PCI...  Off  | 00000000:C1:00.0 Off |                    0 |\n",
      "| N/A   41C    P0    36W / 250W |      0MiB / 40536MiB |      0%      Default |\n",
      "|                               |                      |             Disabled |\n",
      "+-------------------------------+----------------------+----------------------+\n",
      "|   4  NVIDIA A100-PCI...  Off  | 00000000:C2:00.0 Off |                    0 |\n",
      "| N/A   42C    P0    39W / 250W |      0MiB / 40536MiB |      2%      Default |\n",
      "|                               |                      |             Disabled |\n",
      "+-------------------------------+----------------------+----------------------+\n",
      "                                                                               \n",
      "+-----------------------------------------------------------------------------+\n",
      "| Processes:                                                                  |\n",
      "|  GPU   GI   CI        PID   Type   Process name                  GPU Memory |\n",
      "|        ID   ID                                                   Usage      |\n",
      "|=============================================================================|\n",
      "|  No running processes found                                                 |\n",
      "+-----------------------------------------------------------------------------+\n"
     ]
    }
   ],
   "source": [
    "!nvidia-smi"
   ]
  },
  {
   "cell_type": "code",
   "execution_count": 2,
   "id": "3eb4ef0b",
   "metadata": {},
   "outputs": [
    {
     "name": "stderr",
     "output_type": "stream",
     "text": [
      "2022-02-08 02:20:35.407776: I tensorflow/stream_executor/platform/default/dso_loader.cc:49] Successfully opened dynamic library libcudart.so.11.0\n"
     ]
    }
   ],
   "source": [
    "import os\n",
    "import gc\n",
    "import glob\n",
    "import random\n",
    "import easydict\n",
    "from copy import deepcopy\n",
    "import math\n",
    "import numpy as np\n",
    "import pandas as pd\n",
    "import xml.etree.ElementTree as ET\n",
    "import matplotlib.pyplot as plt\n",
    "import itertools\n",
    "from sklearn.metrics import accuracy_score, confusion_matrix\n",
    "import openslide\n",
    "from tqdm.notebook import tqdm\n",
    "from PIL import Image\n",
    "import cv2\n",
    "import torch\n",
    "import torch.nn as nn\n",
    "import torch.nn.functional as F\n",
    "from torchvision import transforms\n",
    "from torch.utils.data import Dataset, DataLoader\n",
    "import albumentations as A\n",
    "from albumentations.pytorch.transforms import ToTensorV2\n",
    "import wandb\n",
    "from model import build"
   ]
  },
  {
   "cell_type": "code",
   "execution_count": 3,
   "id": "b75293aa-2a8c-492a-a742-ddf383310aa8",
   "metadata": {},
   "outputs": [],
   "source": [
    "import libtiff\n",
    "libtiff.libtiff_ctypes.suppress_warnings()"
   ]
  },
  {
   "cell_type": "code",
   "execution_count": 4,
   "id": "54653876-7729-495d-a4f8-406f74e2c003",
   "metadata": {},
   "outputs": [
    {
     "name": "stdout",
     "output_type": "stream",
     "text": [
      "Using cuda device\n",
      "Your GPU device name: NVIDIA A100-PCIE-40GB\n"
     ]
    }
   ],
   "source": [
    "device = torch.device('cuda' if torch.cuda.is_available() else 'cpu')\n",
    "gc.collect()\n",
    "torch.cuda.empty_cache()\n",
    "\n",
    "print(f'Using {device} device')\n",
    "if device.type == 'cuda':\n",
    "    print(f'Your GPU device name: {torch.cuda.get_device_name()}')"
   ]
  },
  {
   "cell_type": "code",
   "execution_count": 5,
   "id": "09fcb8c2-1eb7-4afb-a1ad-4b968c7f7bd6",
   "metadata": {},
   "outputs": [],
   "source": [
    "# os.environ['CUDA_VISIBLE_DEVICES'] = '0,1,2,3,4'"
   ]
  },
  {
   "cell_type": "code",
   "execution_count": 6,
   "id": "37377e09-a113-479b-bf53-e6b8eab8a286",
   "metadata": {},
   "outputs": [],
   "source": [
    "Image.MAX_IMAGE_PIXELS = None"
   ]
  },
  {
   "cell_type": "code",
   "execution_count": 7,
   "id": "6a495c5f-fbbd-43ea-b2c4-73d98038a3f1",
   "metadata": {},
   "outputs": [
    {
     "name": "stderr",
     "output_type": "stream",
     "text": [
      "\u001b[34m\u001b[1mwandb\u001b[0m: Currently logged in as: \u001b[33mchangwoomon\u001b[0m (use `wandb login --relogin` to force relogin)\n",
      "\u001b[34m\u001b[1mwandb\u001b[0m: wandb version 0.12.10 is available!  To upgrade, please run:\n",
      "\u001b[34m\u001b[1mwandb\u001b[0m:  $ pip install wandb --upgrade\n",
      "2022-02-08 02:20:42.008213: I tensorflow/stream_executor/platform/default/dso_loader.cc:49] Successfully opened dynamic library libcudart.so.11.0\n"
     ]
    },
    {
     "data": {
      "text/html": [
       "\n",
       "                    Syncing run <strong><a href=\"https://wandb.ai/changwoomon/SDP/runs/192olnzx\" target=\"_blank\">colorful-silence-44</a></strong> to <a href=\"https://wandb.ai/changwoomon/SDP\" target=\"_blank\">Weights & Biases</a> (<a href=\"https://docs.wandb.com/integrations/jupyter.html\" target=\"_blank\">docs</a>).<br/>\n",
       "\n",
       "                "
      ],
      "text/plain": [
       "<IPython.core.display.HTML object>"
      ]
     },
     "metadata": {},
     "output_type": "display_data"
    },
    {
     "data": {
      "text/html": [
       "<button onClick=\"this.nextSibling.style.display='block';this.style.display='none';\">Display W&B run</button><iframe src=\"https://wandb.ai/changwoomon/SDP/runs/192olnzx?jupyter=true\" style=\"border:none;width:100%;height:420px;display:none;\"></iframe>"
      ],
      "text/plain": [
       "<wandb.sdk.wandb_run.Run at 0x7f4ab6cdf3d0>"
      ]
     },
     "execution_count": 7,
     "metadata": {},
     "output_type": "execute_result"
    }
   ],
   "source": [
    "wandb.init(project='SDP')"
   ]
  },
  {
   "cell_type": "code",
   "execution_count": 8,
   "id": "24ecbb0b-8f5c-4ed7-97b5-65d401ab14b2",
   "metadata": {},
   "outputs": [],
   "source": [
    "def seed_everything(random_seed: int):\n",
    "    torch.manual_seed(random_seed)\n",
    "    torch.cuda.manual_seed(random_seed)\n",
    "    torch.cuda.manual_seed_all(random_seed) # if use multi-GPU\n",
    "    torch.backends.cudnn.deterministic = True\n",
    "    torch.backends.cudnn.benchmark = False\n",
    "    np.random.seed(random_seed)\n",
    "    random.seed(random_seed)\n",
    "    os.environ['PYTHONHASHSEED'] = str(random_seed)"
   ]
  },
  {
   "cell_type": "code",
   "execution_count": 9,
   "id": "45fb3025-3f32-4ad9-b43e-20ad4827085b",
   "metadata": {},
   "outputs": [],
   "source": [
    "##### HYPER PARAMETER\n",
    "\n",
    "SEED = 42\n",
    "img_size = (3744, 2496) # width, height\n",
    "patch_size = (32, 32)\n",
    "drop_rate = 0.0\n",
    "EPOCH = 100"
   ]
  },
  {
   "cell_type": "code",
   "execution_count": 10,
   "id": "b62582a9-0a64-471c-b76f-5a1dfd110245",
   "metadata": {},
   "outputs": [],
   "source": [
    "seed_everything(SEED)"
   ]
  },
  {
   "cell_type": "code",
   "execution_count": null,
   "id": "0b29f85c-2ade-4413-b463-e094b7e9e1e2",
   "metadata": {},
   "outputs": [],
   "source": []
  },
  {
   "cell_type": "code",
   "execution_count": 11,
   "id": "e0d5e5eb-71e9-4397-a096-1d78af8001ae",
   "metadata": {},
   "outputs": [],
   "source": [
    "tvt = pd.read_csv('./220124_tvt_pngpath.csv')"
   ]
  },
  {
   "cell_type": "code",
   "execution_count": 12,
   "id": "32bd2888-27be-439c-b113-8015b3041217",
   "metadata": {},
   "outputs": [
    {
     "data": {
      "text/html": [
       "<div>\n",
       "<style scoped>\n",
       "    .dataframe tbody tr th:only-of-type {\n",
       "        vertical-align: middle;\n",
       "    }\n",
       "\n",
       "    .dataframe tbody tr th {\n",
       "        vertical-align: top;\n",
       "    }\n",
       "\n",
       "    .dataframe thead th {\n",
       "        text-align: right;\n",
       "    }\n",
       "</style>\n",
       "<table border=\"1\" class=\"dataframe\">\n",
       "  <thead>\n",
       "    <tr style=\"text-align: right;\">\n",
       "      <th></th>\n",
       "      <th>Name</th>\n",
       "      <th>Split</th>\n",
       "      <th>full_path</th>\n",
       "      <th>label</th>\n",
       "      <th>png_path</th>\n",
       "    </tr>\n",
       "  </thead>\n",
       "  <tbody>\n",
       "    <tr>\n",
       "      <th>0</th>\n",
       "      <td>A100_00001_02_stm_c0.svs</td>\n",
       "      <td>train</td>\n",
       "      <td>../data2/A100_data/20210824_stomach_c_normal/A...</td>\n",
       "      <td>c0</td>\n",
       "      <td>../data1/A100_data_png/20210824_stomach_c_norm...</td>\n",
       "    </tr>\n",
       "    <tr>\n",
       "      <th>1</th>\n",
       "      <td>A100_00003_02_stm_c0.svs</td>\n",
       "      <td>train</td>\n",
       "      <td>../data2/A100_data/20210824_stomach_c_normal/A...</td>\n",
       "      <td>c0</td>\n",
       "      <td>../data1/A100_data_png/20210824_stomach_c_norm...</td>\n",
       "    </tr>\n",
       "    <tr>\n",
       "      <th>2</th>\n",
       "      <td>A100_00006_02_stm_c0.svs</td>\n",
       "      <td>train</td>\n",
       "      <td>../data2/A100_data/20210824_stomach_c_normal/A...</td>\n",
       "      <td>c0</td>\n",
       "      <td>../data1/A100_data_png/20210824_stomach_c_norm...</td>\n",
       "    </tr>\n",
       "    <tr>\n",
       "      <th>3</th>\n",
       "      <td>A100_00007_02_stm_c0.svs</td>\n",
       "      <td>train</td>\n",
       "      <td>../data2/A100_data/20210824_stomach_c_normal/A...</td>\n",
       "      <td>c0</td>\n",
       "      <td>../data1/A100_data_png/20210824_stomach_c_norm...</td>\n",
       "    </tr>\n",
       "    <tr>\n",
       "      <th>4</th>\n",
       "      <td>A100_00009_02_stm_c0.svs</td>\n",
       "      <td>train</td>\n",
       "      <td>../data2/A100_data/20210824_stomach_c_normal/A...</td>\n",
       "      <td>c0</td>\n",
       "      <td>../data1/A100_data_png/20210824_stomach_c_norm...</td>\n",
       "    </tr>\n",
       "    <tr>\n",
       "      <th>...</th>\n",
       "      <td>...</td>\n",
       "      <td>...</td>\n",
       "      <td>...</td>\n",
       "      <td>...</td>\n",
       "      <td>...</td>\n",
       "    </tr>\n",
       "    <tr>\n",
       "      <th>4889</th>\n",
       "      <td>A100_01266_01_stm_c0.svs</td>\n",
       "      <td>test</td>\n",
       "      <td>../data2/A100_data/20220120_stomach_c_normal/A...</td>\n",
       "      <td>c0</td>\n",
       "      <td>../data1/A100_data_png/20220120_stomach_c_norm...</td>\n",
       "    </tr>\n",
       "    <tr>\n",
       "      <th>4890</th>\n",
       "      <td>A100_01266_02_stm_c0.svs</td>\n",
       "      <td>test</td>\n",
       "      <td>../data2/A100_data/20220120_stomach_c_normal/A...</td>\n",
       "      <td>c0</td>\n",
       "      <td>../data1/A100_data_png/20220120_stomach_c_norm...</td>\n",
       "    </tr>\n",
       "    <tr>\n",
       "      <th>4891</th>\n",
       "      <td>A100_01266_03_stm_c0.svs</td>\n",
       "      <td>test</td>\n",
       "      <td>../data2/A100_data/20220120_stomach_c_normal/A...</td>\n",
       "      <td>c0</td>\n",
       "      <td>../data1/A100_data_png/20220120_stomach_c_norm...</td>\n",
       "    </tr>\n",
       "    <tr>\n",
       "      <th>4892</th>\n",
       "      <td>A100_01266_04_stm_c0.svs</td>\n",
       "      <td>test</td>\n",
       "      <td>../data2/A100_data/20220120_stomach_c_normal/A...</td>\n",
       "      <td>c0</td>\n",
       "      <td>../data1/A100_data_png/20220120_stomach_c_norm...</td>\n",
       "    </tr>\n",
       "    <tr>\n",
       "      <th>4893</th>\n",
       "      <td>A100_01266_05_stm_c0.svs</td>\n",
       "      <td>test</td>\n",
       "      <td>../data2/A100_data/20220120_stomach_c_normal/A...</td>\n",
       "      <td>c0</td>\n",
       "      <td>../data1/A100_data_png/20220120_stomach_c_norm...</td>\n",
       "    </tr>\n",
       "  </tbody>\n",
       "</table>\n",
       "<p>4894 rows × 5 columns</p>\n",
       "</div>"
      ],
      "text/plain": [
       "                          Name  Split  \\\n",
       "0     A100_00001_02_stm_c0.svs  train   \n",
       "1     A100_00003_02_stm_c0.svs  train   \n",
       "2     A100_00006_02_stm_c0.svs  train   \n",
       "3     A100_00007_02_stm_c0.svs  train   \n",
       "4     A100_00009_02_stm_c0.svs  train   \n",
       "...                        ...    ...   \n",
       "4889  A100_01266_01_stm_c0.svs   test   \n",
       "4890  A100_01266_02_stm_c0.svs   test   \n",
       "4891  A100_01266_03_stm_c0.svs   test   \n",
       "4892  A100_01266_04_stm_c0.svs   test   \n",
       "4893  A100_01266_05_stm_c0.svs   test   \n",
       "\n",
       "                                              full_path label  \\\n",
       "0     ../data2/A100_data/20210824_stomach_c_normal/A...    c0   \n",
       "1     ../data2/A100_data/20210824_stomach_c_normal/A...    c0   \n",
       "2     ../data2/A100_data/20210824_stomach_c_normal/A...    c0   \n",
       "3     ../data2/A100_data/20210824_stomach_c_normal/A...    c0   \n",
       "4     ../data2/A100_data/20210824_stomach_c_normal/A...    c0   \n",
       "...                                                 ...   ...   \n",
       "4889  ../data2/A100_data/20220120_stomach_c_normal/A...    c0   \n",
       "4890  ../data2/A100_data/20220120_stomach_c_normal/A...    c0   \n",
       "4891  ../data2/A100_data/20220120_stomach_c_normal/A...    c0   \n",
       "4892  ../data2/A100_data/20220120_stomach_c_normal/A...    c0   \n",
       "4893  ../data2/A100_data/20220120_stomach_c_normal/A...    c0   \n",
       "\n",
       "                                               png_path  \n",
       "0     ../data1/A100_data_png/20210824_stomach_c_norm...  \n",
       "1     ../data1/A100_data_png/20210824_stomach_c_norm...  \n",
       "2     ../data1/A100_data_png/20210824_stomach_c_norm...  \n",
       "3     ../data1/A100_data_png/20210824_stomach_c_norm...  \n",
       "4     ../data1/A100_data_png/20210824_stomach_c_norm...  \n",
       "...                                                 ...  \n",
       "4889  ../data1/A100_data_png/20220120_stomach_c_norm...  \n",
       "4890  ../data1/A100_data_png/20220120_stomach_c_norm...  \n",
       "4891  ../data1/A100_data_png/20220120_stomach_c_norm...  \n",
       "4892  ../data1/A100_data_png/20220120_stomach_c_norm...  \n",
       "4893  ../data1/A100_data_png/20220120_stomach_c_norm...  \n",
       "\n",
       "[4894 rows x 5 columns]"
      ]
     },
     "execution_count": 12,
     "metadata": {},
     "output_type": "execute_result"
    }
   ],
   "source": [
    "tvt"
   ]
  },
  {
   "cell_type": "code",
   "execution_count": 13,
   "id": "f8aaba4c-3d93-4ff6-8ed3-506234e1040d",
   "metadata": {},
   "outputs": [],
   "source": [
    "train_list = tvt.loc[tvt['Split']=='train', 'png_path'].tolist()\n",
    "valid_list = tvt.loc[tvt['Split']=='valid', 'png_path'].tolist()\n",
    "test_list = tvt.loc[tvt['Split']=='test', 'png_path'].tolist()\n",
    "\n",
    "train_label = tvt.loc[tvt['Split']=='train', 'label'].apply(lambda x: x[-1]).astype(int).tolist()\n",
    "valid_label = tvt.loc[tvt['Split']=='valid', 'label'].apply(lambda x: x[-1]).astype(int).tolist()\n",
    "test_label = tvt.loc[tvt['Split']=='test', 'label'].apply(lambda x: x[-1]).astype(int).tolist()"
   ]
  },
  {
   "cell_type": "code",
   "execution_count": 14,
   "id": "73d52343-2bf0-4935-8029-781cb3022130",
   "metadata": {},
   "outputs": [
    {
     "data": {
      "text/html": [
       "<div>\n",
       "<style scoped>\n",
       "    .dataframe tbody tr th:only-of-type {\n",
       "        vertical-align: middle;\n",
       "    }\n",
       "\n",
       "    .dataframe tbody tr th {\n",
       "        vertical-align: top;\n",
       "    }\n",
       "\n",
       "    .dataframe thead th {\n",
       "        text-align: right;\n",
       "    }\n",
       "</style>\n",
       "<table border=\"1\" class=\"dataframe\">\n",
       "  <thead>\n",
       "    <tr style=\"text-align: right;\">\n",
       "      <th></th>\n",
       "      <th></th>\n",
       "      <th>Name</th>\n",
       "    </tr>\n",
       "    <tr>\n",
       "      <th>Split</th>\n",
       "      <th>label</th>\n",
       "      <th></th>\n",
       "    </tr>\n",
       "  </thead>\n",
       "  <tbody>\n",
       "    <tr>\n",
       "      <th rowspan=\"2\" valign=\"top\">test</th>\n",
       "      <th>c0</th>\n",
       "      <td>447</td>\n",
       "    </tr>\n",
       "    <tr>\n",
       "      <th>c1</th>\n",
       "      <td>563</td>\n",
       "    </tr>\n",
       "    <tr>\n",
       "      <th rowspan=\"2\" valign=\"top\">train</th>\n",
       "      <th>c0</th>\n",
       "      <td>1336</td>\n",
       "    </tr>\n",
       "    <tr>\n",
       "      <th>c1</th>\n",
       "      <td>1976</td>\n",
       "    </tr>\n",
       "    <tr>\n",
       "      <th rowspan=\"2\" valign=\"top\">valid</th>\n",
       "      <th>c0</th>\n",
       "      <td>170</td>\n",
       "    </tr>\n",
       "    <tr>\n",
       "      <th>c1</th>\n",
       "      <td>402</td>\n",
       "    </tr>\n",
       "  </tbody>\n",
       "</table>\n",
       "</div>"
      ],
      "text/plain": [
       "             Name\n",
       "Split label      \n",
       "test  c0      447\n",
       "      c1      563\n",
       "train c0     1336\n",
       "      c1     1976\n",
       "valid c0      170\n",
       "      c1      402"
      ]
     },
     "execution_count": 14,
     "metadata": {},
     "output_type": "execute_result"
    }
   ],
   "source": [
    "tvt.groupby(['Split', 'label']).agg({'Name': 'count'})"
   ]
  },
  {
   "cell_type": "code",
   "execution_count": null,
   "id": "6b5011e4-b400-428e-b489-4103951e4227",
   "metadata": {},
   "outputs": [],
   "source": []
  },
  {
   "cell_type": "code",
   "execution_count": 15,
   "id": "56423cb9",
   "metadata": {},
   "outputs": [],
   "source": [
    "transform = transforms.Compose([\n",
    "    transforms.Resize(img_size),\n",
    "    transforms.RandomHorizontalFlip(),\n",
    "    transforms.RandomVerticalFlip(),\n",
    "    transforms.ToTensor(),\n",
    "    # transforms.Normalize(mean=[0.5, 0.5, 0.5], std=[0.5, 0.5, 0.5],),\n",
    "    transforms.Normalize(mean=[0.485, 0.456, 0.406], std=[0.229, 0.224, 0.225],),\n",
    "])"
   ]
  },
  {
   "cell_type": "code",
   "execution_count": 16,
   "id": "62718488",
   "metadata": {},
   "outputs": [],
   "source": [
    "## Image level: Laica's image index\n",
    "DCT_LAICA_CONF = {\n",
    "    0:0,\n",
    "    2:1,\n",
    "    4:2\n",
    "}"
   ]
  },
  {
   "cell_type": "code",
   "execution_count": 17,
   "id": "ccee5a6b",
   "metadata": {},
   "outputs": [],
   "source": [
    "class SlideDataset(Dataset):\n",
    "    def __init__(self, file_list, label_list, transform=None):\n",
    "        self.file_list = file_list\n",
    "        self.label_list = label_list\n",
    "        self.transform = transform\n",
    "\n",
    "    def __len__(self):\n",
    "        return len(self.file_list)\n",
    "\n",
    "    def __getitem__(self, idx):\n",
    "        try:\n",
    "            img_path = self.file_list[idx]\n",
    "            img = Image.open(img_path)\n",
    "\n",
    "            img_transformed = self.transform(img)\n",
    "            label = self.label_list[idx]\n",
    "            return img_transformed, label\n",
    "    \n",
    "        except Exception as ex:\n",
    "            print(idx)\n",
    "            print(ex)"
   ]
  },
  {
   "cell_type": "code",
   "execution_count": 18,
   "id": "f386d3d4",
   "metadata": {},
   "outputs": [],
   "source": [
    "train_data = SlideDataset(train_list, train_label, transform)\n",
    "valid_data = SlideDataset(valid_list, valid_label, transform)\n",
    "test_data = SlideDataset(test_list, test_label, transform)"
   ]
  },
  {
   "cell_type": "code",
   "execution_count": 19,
   "id": "c17c5082",
   "metadata": {},
   "outputs": [],
   "source": [
    "train_dataloader = DataLoader(train_data, batch_size=1, shuffle=True, num_workers=0)\n",
    "valid_dataloader = DataLoader(valid_data, batch_size=1, shuffle=False, num_workers=0)\n",
    "test_dataloader = DataLoader(test_data, batch_size=1, shuffle=False, num_workers=0)"
   ]
  },
  {
   "cell_type": "code",
   "execution_count": null,
   "id": "fc004f75-70d1-49cf-a7d4-9e8530d85094",
   "metadata": {},
   "outputs": [],
   "source": []
  },
  {
   "cell_type": "code",
   "execution_count": 20,
   "id": "cb1b7685-c32c-44a4-be1d-f7c7380d24b8",
   "metadata": {},
   "outputs": [],
   "source": [
    "args = easydict.EasyDict({\n",
    "    'arch': 'vit',\n",
    "    'model_name': 'vit_base_patch32_224',\n",
    "    'pretrained': True,\n",
    "    'img_height': img_size[0],\n",
    "    'img_width': img_size[1],\n",
    "    'patch_height': patch_size[0],\n",
    "    'patch_width': patch_size[1],\n",
    "    'drop_rate': drop_rate,\n",
    "    # 'attn_drop_rate': drop_rate,\n",
    "    'num_classes': 2,\n",
    "})"
   ]
  },
  {
   "cell_type": "code",
   "execution_count": 21,
   "id": "08fd217e-5bb6-4180-8050-f91eda8df108",
   "metadata": {},
   "outputs": [
    {
     "name": "stdout",
     "output_type": "stream",
     "text": [
      "\"act_layer\":           None\n",
      "\"applied_blocks\":      None\n",
      "\"arch\":                vit\n",
      "\"args_linattn\":        {}\n",
      "\"attn_drop_rate\":      0.0\n",
      "\"depth\":               12\n",
      "\"distilled\":           False\n",
      "\"drop_path_rate\":      0.0\n",
      "\"drop_rate\":           0.0\n",
      "\"embed_dim\":           768\n",
      "\"embed_layer\":         <class 'timm.models.layers.patch_embed.PatchEmbed'>\n",
      "\"img_height\":          3744\n",
      "\"img_size\":            (3744, 2496)\n",
      "\"img_width\":           2496\n",
      "\"in_chans\":            3\n",
      "\"islinformer\":         False\n",
      "\"isperformer\":         False\n",
      "\"mlp_ratio\":           4.0\n",
      "\"model_name\":          vit_base_patch32_224\n",
      "\"norm_layer\":          None\n",
      "\"num_classes\":         2\n",
      "\"num_heads\":           12\n",
      "\"patch_height\":        32\n",
      "\"patch_size\":          (32, 32)\n",
      "\"patch_width\":         32\n",
      "\"pretrained\":          True\n",
      "\"qkv_bias\":            True\n",
      "\"representation_size\": None\n",
      "\"weight_init\":         \n"
     ]
    },
    {
     "name": "stderr",
     "output_type": "stream",
     "text": [
      "/opt/conda/lib/python3.7/site-packages/torch/nn/functional.py:3635: UserWarning: Default upsampling behavior when mode=bilinear is changed to align_corners=False since 0.4.0. Please specify align_corners=True if the old behavior is desired. See the documentation of nn.Upsample for details.\n",
      "  \"See the documentation of nn.Upsample for details.\".format(mode)\n"
     ]
    },
    {
     "name": "stdout",
     "output_type": "stream",
     "text": [
      "Load timm model 'vit_base_patch32_224' | pretrained : True\n",
      "\n"
     ]
    }
   ],
   "source": [
    "backbone = build.build_module(args).model\n",
    "backbone\n",
    "print()"
   ]
  },
  {
   "cell_type": "code",
   "execution_count": null,
   "id": "b358ceaf-8afd-41c5-8867-fc205e2a38b7",
   "metadata": {},
   "outputs": [],
   "source": []
  },
  {
   "cell_type": "code",
   "execution_count": null,
   "id": "36d02e6f-3d81-4414-bf8d-a198491446d9",
   "metadata": {},
   "outputs": [],
   "source": [
    "class Trainer(nn.Module):\n",
    "    def __init__(self, _backbone):\n",
    "        super().__init__()\n",
    "        \n",
    "        backbone = deepcopy(_backbone)\n",
    "        self.divided_model = nn.ModuleList([\n",
    "            backbone.patch_embed.to(0),\n",
    "            backbone.pos_drop.to(0),\n",
    "            backbone.blocks[:3].to(0),\n",
    "            \n",
    "            backbone.blocks[3:6].to(1),\n",
    "            backbone.blocks[6:8].to(2),\n",
    "            backbone.blocks[8:10].to(3),\n",
    "            \n",
    "            backbone.blocks[10:].to(4),\n",
    "            backbone.norm.to(4),\n",
    "            backbone.pre_logits.to(4),\n",
    "            backbone.head.to(4),\n",
    "        ])\n",
    "        self.cls_token = backbone.cls_token\n",
    "        self.dist_token = backbone.dist_token\n",
    "        self.pos_embed = backbone.pos_embed\n",
    "\n",
    "    def forward(self, x):\n",
    "        idx = 0\n",
    "        for i, m in enumerate(self.divided_model):\n",
    "            try:\n",
    "                idx = next(m.parameters()).device.index\n",
    "            except:\n",
    "                if i == 8: # LayerNorm 다음 Identity index로 지정해야함\n",
    "                    # https://github.com/rwightman/pytorch-image-models/blob/master/timm/models/vision_transformer.py#:~:text=self.norm(x)-,if%20self.dist_token%20is%20None%3A,return%20self.pre_logits(x%5B%3A%2C%200%5D),-else%3A\n",
    "                    x = m(x[:, 0].to(idx))\n",
    "                else:\n",
    "                    x = m(x)\n",
    "                    \n",
    "                if isinstance(self.divided_model[i], nn.AdaptiveAvgPool2d):\n",
    "                    x = torch.flatten(x, 1)\n",
    "                continue\n",
    "            \n",
    "            try:\n",
    "                x = m(x.to(idx))\n",
    "            except RuntimeError as e:\n",
    "                if istest:\n",
    "                    return idx\n",
    "                    \n",
    "                print(idx, x.shape, m)\n",
    "                raise e\n",
    "            \n",
    "        return x"
   ]
  },
  {
   "cell_type": "code",
   "execution_count": 23,
   "id": "b88449e8-a17a-4017-b636-a95a4be2bf5c",
   "metadata": {},
   "outputs": [
    {
     "name": "stdout",
     "output_type": "stream",
     "text": [
      "\n"
     ]
    }
   ],
   "source": [
    "model = Trainer(backbone)\n",
    "model\n",
    "print()"
   ]
  },
  {
   "cell_type": "code",
   "execution_count": null,
   "id": "012e871a-4b3c-4ec8-9cbb-f575d6880eeb",
   "metadata": {},
   "outputs": [],
   "source": []
  },
  {
   "cell_type": "code",
   "execution_count": 24,
   "id": "db130324",
   "metadata": {},
   "outputs": [],
   "source": [
    "criterion = nn.CrossEntropyLoss()\n",
    "optimizer = torch.optim.Adam(model.parameters(), lr=1e-6, weight_decay=1e-5)"
   ]
  },
  {
   "cell_type": "code",
   "execution_count": null,
   "id": "c9edd180-5099-4f16-bb42-814e91b99830",
   "metadata": {},
   "outputs": [],
   "source": []
  },
  {
   "cell_type": "code",
   "execution_count": 25,
   "id": "c0e78f3d-20ad-47ee-8d79-e0aec8103cb8",
   "metadata": {},
   "outputs": [],
   "source": [
    "def plot_confusion_matrix(cm, classes, normalize=False, title='Confusion matrix', cmap=plt.cm.Blues):\n",
    "    if normalize:\n",
    "        cm = cm.astype('float') / cm.sum(axis=1)[:, np.newaxis]\n",
    "        print(\"Normalized confusion matrix\")\n",
    "    else:\n",
    "        print('Confusion matrix, without normalization')\n",
    "\n",
    "    print(cm)\n",
    "    plt.imshow(cm, interpolation='nearest', cmap=cmap)\n",
    "    plt.title(title)\n",
    "    plt.colorbar()\n",
    "    tick_marks = np.arange(len(classes))\n",
    "    plt.xticks(tick_marks, classes, rotation=45)\n",
    "    plt.yticks(tick_marks, classes)\n",
    "\n",
    "    fmt = '.2f' if normalize else 'd'\n",
    "    thresh = cm.max() / 2.\n",
    "    for i, j in itertools.product(range(cm.shape[0]), range(cm.shape[1])):\n",
    "        plt.text(j, i, format(cm[i, j], fmt), horizontalalignment=\"center\", color=\"white\" if cm[i, j] > thresh else \"black\")\n",
    "\n",
    "    plt.tight_layout()\n",
    "    plt.ylabel('True label')\n",
    "    plt.xlabel('Predicted label')"
   ]
  },
  {
   "cell_type": "code",
   "execution_count": 26,
   "id": "601b6bde-39c9-47f4-b9b1-bb3fa1aec5ea",
   "metadata": {
    "tags": []
   },
   "outputs": [
    {
     "data": {
      "application/vnd.jupyter.widget-view+json": {
       "model_id": "",
       "version_major": 2,
       "version_minor": 0
      },
      "text/plain": [
       "  0%|          | 0/100 [00:00<?, ?it/s]"
      ]
     },
     "metadata": {},
     "output_type": "display_data"
    },
    {
     "name": "stdout",
     "output_type": "stream",
     "text": [
      "Epoch: 0\n"
     ]
    },
    {
     "data": {
      "application/vnd.jupyter.widget-view+json": {
       "model_id": "",
       "version_major": 2,
       "version_minor": 0
      },
      "text/plain": [
       "  0%|          | 0/3312 [00:00<?, ?it/s]"
      ]
     },
     "metadata": {},
     "output_type": "display_data"
    },
    {
     "name": "stdout",
     "output_type": "stream",
     "text": [
      "loss: 0.5389\tacc: 0.7304\n",
      "0.7303743961352657\n",
      "Confusion matrix, without normalization\n",
      "[[ 840  496]\n",
      " [ 397 1579]]\n"
     ]
    },
    {
     "data": {
      "image/png": "[encoded data removed]",
      "text/plain": [
       "<Figure size 432x288 with 2 Axes>"
      ]
     },
     "metadata": {
      "needs_background": "light"
     },
     "output_type": "display_data"
    },
    {
     "data": {
      "application/vnd.jupyter.widget-view+json": {
       "model_id": "",
       "version_major": 2,
       "version_minor": 0
      },
      "text/plain": [
       "  0%|          | 0/572 [00:00<?, ?it/s]"
      ]
     },
     "metadata": {},
     "output_type": "display_data"
    },
    {
     "name": "stdout",
     "output_type": "stream",
     "text": [
      "valid_loss: 0.4365\tvalid_acc: 0.7727\n",
      "0.7727272727272727\n",
      "Confusion matrix, without normalization\n",
      "[[103  67]\n",
      " [ 63 339]]\n"
     ]
    },
    {
     "data": {
      "image/png": "[encoded data removed]",
      "text/plain": [
       "<Figure size 432x288 with 2 Axes>"
      ]
     },
     "metadata": {
      "needs_background": "light"
     },
     "output_type": "display_data"
    },
    {
     "name": "stdout",
     "output_type": "stream",
     "text": [
      "\n",
      "Epoch: 1\n"
     ]
    },
    {
     "data": {
      "application/vnd.jupyter.widget-view+json": {
       "model_id": "",
       "version_major": 2,
       "version_minor": 0
      },
      "text/plain": [
       "  0%|          | 0/3312 [00:00<?, ?it/s]"
      ]
     },
     "metadata": {},
     "output_type": "display_data"
    },
    {
     "name": "stdout",
     "output_type": "stream",
     "text": [
      "loss: 0.4556\tacc: 0.7811\n",
      "0.7810990338164251\n",
      "Confusion matrix, without normalization\n",
      "[[ 941  395]\n",
      " [ 330 1646]]\n"
     ]
    },
    {
     "data": {
      "image/png": "[encoded data removed]",
      "text/plain": [
       "<Figure size 432x288 with 2 Axes>"
      ]
     },
     "metadata": {
      "needs_background": "light"
     },
     "output_type": "display_data"
    },
    {
     "data": {
      "application/vnd.jupyter.widget-view+json": {
       "model_id": "",
       "version_major": 2,
       "version_minor": 0
      },
      "text/plain": [
       "  0%|          | 0/572 [00:00<?, ?it/s]"
      ]
     },
     "metadata": {},
     "output_type": "display_data"
    },
    {
     "name": "stdout",
     "output_type": "stream",
     "text": [
      "valid_loss: 0.4819\tvalid_acc: 0.7675\n",
      "0.7674825174825175\n",
      "Confusion matrix, without normalization\n",
      "[[143  27]\n",
      " [106 296]]\n"
     ]
    },
    {
     "data": {
      "image/png": "[encoded data removed]",
      "text/plain": [
       "<Figure size 432x288 with 2 Axes>"
      ]
     },
     "metadata": {
      "needs_background": "light"
     },
     "output_type": "display_data"
    },
    {
     "name": "stdout",
     "output_type": "stream",
     "text": [
      "\n",
      "Epoch: 2\n"
     ]
    },
    {
     "data": {
      "application/vnd.jupyter.widget-view+json": {
       "model_id": "",
       "version_major": 2,
       "version_minor": 0
      },
      "text/plain": [
       "  0%|          | 0/3312 [00:00<?, ?it/s]"
      ]
     },
     "metadata": {},
     "output_type": "display_data"
    },
    {
     "name": "stdout",
     "output_type": "stream",
     "text": [
      "loss: 0.4066\tacc: 0.8020\n",
      "0.8019323671497585\n",
      "Confusion matrix, without normalization\n",
      "[[1011  325]\n",
      " [ 331 1645]]\n"
     ]
    },
    {
     "data": {
      "image/png": "[encoded data removed]",
      "text/plain": [
       "<Figure size 432x288 with 2 Axes>"
      ]
     },
     "metadata": {
      "needs_background": "light"
     },
     "output_type": "display_data"
    },
    {
     "data": {
      "application/vnd.jupyter.widget-view+json": {
       "model_id": "",
       "version_major": 2,
       "version_minor": 0
      },
      "text/plain": [
       "  0%|          | 0/572 [00:00<?, ?it/s]"
      ]
     },
     "metadata": {},
     "output_type": "display_data"
    },
    {
     "name": "stdout",
     "output_type": "stream",
     "text": [
      "valid_loss: 0.5055\tvalid_acc: 0.7727\n",
      "0.7727272727272727\n",
      "Confusion matrix, without normalization\n",
      "[[155  15]\n",
      " [115 287]]\n"
     ]
    },
    {
     "data": {
      "image/png": "[encoded data removed]",
      "text/plain": [
       "<Figure size 432x288 with 2 Axes>"
      ]
     },
     "metadata": {
      "needs_background": "light"
     },
     "output_type": "display_data"
    },
    {
     "name": "stdout",
     "output_type": "stream",
     "text": [
      "\n",
      "Epoch: 3\n"
     ]
    },
    {
     "data": {
      "application/vnd.jupyter.widget-view+json": {
       "model_id": "",
       "version_major": 2,
       "version_minor": 0
      },
      "text/plain": [
       "  0%|          | 0/3312 [00:00<?, ?it/s]"
      ]
     },
     "metadata": {},
     "output_type": "display_data"
    },
    {
     "name": "stdout",
     "output_type": "stream",
     "text": [
      "loss: 0.3719\tacc: 0.8312\n",
      "0.831219806763285\n",
      "Confusion matrix, without normalization\n",
      "[[1054  282]\n",
      " [ 277 1699]]\n"
     ]
    },
    {
     "data": {
      "image/png": "[encoded data removed]",
      "text/plain": [
       "<Figure size 432x288 with 2 Axes>"
      ]
     },
     "metadata": {
      "needs_background": "light"
     },
     "output_type": "display_data"
    },
    {
     "data": {
      "application/vnd.jupyter.widget-view+json": {
       "model_id": "",
       "version_major": 2,
       "version_minor": 0
      },
      "text/plain": [
       "  0%|          | 0/572 [00:00<?, ?it/s]"
      ]
     },
     "metadata": {},
     "output_type": "display_data"
    },
    {
     "name": "stdout",
     "output_type": "stream",
     "text": [
      "valid_loss: 0.4373\tvalid_acc: 0.8042\n",
      "0.8041958041958042\n",
      "Confusion matrix, without normalization\n",
      "[[140  30]\n",
      " [ 82 320]]\n"
     ]
    },
    {
     "data": {
      "image/png": "[encoded data removed]",
      "text/plain": [
       "<Figure size 432x288 with 2 Axes>"
      ]
     },
     "metadata": {
      "needs_background": "light"
     },
     "output_type": "display_data"
    },
    {
     "name": "stdout",
     "output_type": "stream",
     "text": [
      "\n",
      "Epoch: 4\n"
     ]
    },
    {
     "data": {
      "application/vnd.jupyter.widget-view+json": {
       "model_id": "",
       "version_major": 2,
       "version_minor": 0
      },
      "text/plain": [
       "  0%|          | 0/3312 [00:00<?, ?it/s]"
      ]
     },
     "metadata": {},
     "output_type": "display_data"
    },
    {
     "name": "stdout",
     "output_type": "stream",
     "text": [
      "loss: 0.3375\tacc: 0.8491\n",
      "0.8490338164251208\n",
      "Confusion matrix, without normalization\n",
      "[[1094  242]\n",
      " [ 258 1718]]\n"
     ]
    },
    {
     "data": {
      "image/png": "[encoded data removed]",
      "text/plain": [
       "<Figure size 432x288 with 2 Axes>"
      ]
     },
     "metadata": {
      "needs_background": "light"
     },
     "output_type": "display_data"
    },
    {
     "data": {
      "application/vnd.jupyter.widget-view+json": {
       "model_id": "",
       "version_major": 2,
       "version_minor": 0
      },
      "text/plain": [
       "  0%|          | 0/572 [00:00<?, ?it/s]"
      ]
     },
     "metadata": {},
     "output_type": "display_data"
    },
    {
     "name": "stdout",
     "output_type": "stream",
     "text": [
      "valid_loss: 0.4085\tvalid_acc: 0.8164\n",
      "0.8164335664335665\n",
      "Confusion matrix, without normalization\n",
      "[[128  42]\n",
      " [ 63 339]]\n"
     ]
    },
    {
     "data": {
      "image/png": "[encoded data removed]",
      "text/plain": [
       "<Figure size 432x288 with 2 Axes>"
      ]
     },
     "metadata": {
      "needs_background": "light"
     },
     "output_type": "display_data"
    },
    {
     "name": "stdout",
     "output_type": "stream",
     "text": [
      "\n",
      "Epoch: 5\n"
     ]
    },
    {
     "data": {
      "application/vnd.jupyter.widget-view+json": {
       "model_id": "",
       "version_major": 2,
       "version_minor": 0
      },
      "text/plain": [
       "  0%|          | 0/3312 [00:00<?, ?it/s]"
      ]
     },
     "metadata": {},
     "output_type": "display_data"
    },
    {
     "name": "stdout",
     "output_type": "stream",
     "text": [
      "loss: 0.3031\tacc: 0.8657\n",
      "0.8656400966183575\n",
      "Confusion matrix, without normalization\n",
      "[[1123  213]\n",
      " [ 232 1744]]\n"
     ]
    },
    {
     "data": {
      "image/png": "[encoded data removed]",
      "text/plain": [
       "<Figure size 432x288 with 2 Axes>"
      ]
     },
     "metadata": {
      "needs_background": "light"
     },
     "output_type": "display_data"
    },
    {
     "data": {
      "application/vnd.jupyter.widget-view+json": {
       "model_id": "",
       "version_major": 2,
       "version_minor": 0
      },
      "text/plain": [
       "  0%|          | 0/572 [00:00<?, ?it/s]"
      ]
     },
     "metadata": {},
     "output_type": "display_data"
    },
    {
     "name": "stdout",
     "output_type": "stream",
     "text": [
      "valid_loss: 0.3608\tvalid_acc: 0.8409\n",
      "0.8409090909090909\n",
      "Confusion matrix, without normalization\n",
      "[[138  32]\n",
      " [ 59 343]]\n"
     ]
    },
    {
     "data": {
      "image/png": "[encoded data removed]",
      "text/plain": [
       "<Figure size 432x288 with 2 Axes>"
      ]
     },
     "metadata": {
      "needs_background": "light"
     },
     "output_type": "display_data"
    },
    {
     "name": "stdout",
     "output_type": "stream",
     "text": [
      "\n",
      "Epoch: 6\n"
     ]
    },
    {
     "data": {
      "application/vnd.jupyter.widget-view+json": {
       "model_id": "",
       "version_major": 2,
       "version_minor": 0
      },
      "text/plain": [
       "  0%|          | 0/3312 [00:00<?, ?it/s]"
      ]
     },
     "metadata": {},
     "output_type": "display_data"
    },
    {
     "name": "stdout",
     "output_type": "stream",
     "text": [
      "loss: 0.2791\tacc: 0.8759\n",
      "0.8759057971014492\n",
      "Confusion matrix, without normalization\n",
      "[[1149  187]\n",
      " [ 224 1752]]\n"
     ]
    },
    {
     "data": {
      "image/png": "[encoded data removed]",
      "text/plain": [
       "<Figure size 432x288 with 2 Axes>"
      ]
     },
     "metadata": {
      "needs_background": "light"
     },
     "output_type": "display_data"
    },
    {
     "data": {
      "application/vnd.jupyter.widget-view+json": {
       "model_id": "",
       "version_major": 2,
       "version_minor": 0
      },
      "text/plain": [
       "  0%|          | 0/572 [00:00<?, ?it/s]"
      ]
     },
     "metadata": {},
     "output_type": "display_data"
    },
    {
     "name": "stdout",
     "output_type": "stream",
     "text": [
      "valid_loss: 0.3652\tvalid_acc: 0.8357\n",
      "0.8356643356643356\n",
      "Confusion matrix, without normalization\n",
      "[[142  28]\n",
      " [ 66 336]]\n"
     ]
    },
    {
     "data": {
      "image/png": "[encoded data removed]",
      "text/plain": [
       "<Figure size 432x288 with 2 Axes>"
      ]
     },
     "metadata": {
      "needs_background": "light"
     },
     "output_type": "display_data"
    },
    {
     "name": "stdout",
     "output_type": "stream",
     "text": [
      "\n",
      "Epoch: 7\n"
     ]
    },
    {
     "data": {
      "application/vnd.jupyter.widget-view+json": {
       "model_id": "",
       "version_major": 2,
       "version_minor": 0
      },
      "text/plain": [
       "  0%|          | 0/3312 [00:00<?, ?it/s]"
      ]
     },
     "metadata": {},
     "output_type": "display_data"
    },
    {
     "name": "stdout",
     "output_type": "stream",
     "text": [
      "loss: 0.2504\tacc: 0.8937\n",
      "0.893719806763285\n",
      "Confusion matrix, without normalization\n",
      "[[1169  167]\n",
      " [ 185 1791]]\n"
     ]
    },
    {
     "data": {
      "image/png": "[encoded data removed]",
      "text/plain": [
       "<Figure size 432x288 with 2 Axes>"
      ]
     },
     "metadata": {
      "needs_background": "light"
     },
     "output_type": "display_data"
    },
    {
     "data": {
      "application/vnd.jupyter.widget-view+json": {
       "model_id": "",
       "version_major": 2,
       "version_minor": 0
      },
      "text/plain": [
       "  0%|          | 0/572 [00:00<?, ?it/s]"
      ]
     },
     "metadata": {},
     "output_type": "display_data"
    },
    {
     "name": "stdout",
     "output_type": "stream",
     "text": [
      "valid_loss: 0.3605\tvalid_acc: 0.8427\n",
      "0.8426573426573427\n",
      "Confusion matrix, without normalization\n",
      "[[102  68]\n",
      " [ 22 380]]\n"
     ]
    },
    {
     "data": {
      "image/png": "[encoded data removed]",
      "text/plain": [
       "<Figure size 432x288 with 2 Axes>"
      ]
     },
     "metadata": {
      "needs_background": "light"
     },
     "output_type": "display_data"
    },
    {
     "name": "stdout",
     "output_type": "stream",
     "text": [
      "\n",
      "Epoch: 8\n"
     ]
    },
    {
     "data": {
      "application/vnd.jupyter.widget-view+json": {
       "model_id": "",
       "version_major": 2,
       "version_minor": 0
      },
      "text/plain": [
       "  0%|          | 0/3312 [00:00<?, ?it/s]"
      ]
     },
     "metadata": {},
     "output_type": "display_data"
    },
    {
     "name": "stdout",
     "output_type": "stream",
     "text": [
      "loss: 0.2296\tacc: 0.9004\n",
      "0.9003623188405797\n",
      "Confusion matrix, without normalization\n",
      "[[1191  145]\n",
      " [ 185 1791]]\n"
     ]
    },
    {
     "data": {
      "image/png": "[encoded data removed]",
      "text/plain": [
       "<Figure size 432x288 with 2 Axes>"
      ]
     },
     "metadata": {
      "needs_background": "light"
     },
     "output_type": "display_data"
    },
    {
     "data": {
      "application/vnd.jupyter.widget-view+json": {
       "model_id": "",
       "version_major": 2,
       "version_minor": 0
      },
      "text/plain": [
       "  0%|          | 0/572 [00:00<?, ?it/s]"
      ]
     },
     "metadata": {},
     "output_type": "display_data"
    },
    {
     "name": "stdout",
     "output_type": "stream",
     "text": [
      "valid_loss: 0.3631\tvalid_acc: 0.8462\n",
      "0.8461538461538461\n",
      "Confusion matrix, without normalization\n",
      "[[150  20]\n",
      " [ 68 334]]\n"
     ]
    },
    {
     "data": {
      "image/png": "[encoded data removed]",
      "text/plain": [
       "<Figure size 432x288 with 2 Axes>"
      ]
     },
     "metadata": {
      "needs_background": "light"
     },
     "output_type": "display_data"
    },
    {
     "name": "stdout",
     "output_type": "stream",
     "text": [
      "\n",
      "Epoch: 9\n"
     ]
    },
    {
     "data": {
      "application/vnd.jupyter.widget-view+json": {
       "model_id": "",
       "version_major": 2,
       "version_minor": 0
      },
      "text/plain": [
       "  0%|          | 0/3312 [00:00<?, ?it/s]"
      ]
     },
     "metadata": {},
     "output_type": "display_data"
    },
    {
     "name": "stdout",
     "output_type": "stream",
     "text": [
      "loss: 0.2061\tacc: 0.9191\n",
      "0.9190821256038647\n",
      "Confusion matrix, without normalization\n",
      "[[1226  110]\n",
      " [ 158 1818]]\n"
     ]
    },
    {
     "data": {
      "image/png": "[encoded data removed]",
      "text/plain": [
       "<Figure size 432x288 with 2 Axes>"
      ]
     },
     "metadata": {
      "needs_background": "light"
     },
     "output_type": "display_data"
    },
    {
     "data": {
      "application/vnd.jupyter.widget-view+json": {
       "model_id": "",
       "version_major": 2,
       "version_minor": 0
      },
      "text/plain": [
       "  0%|          | 0/572 [00:00<?, ?it/s]"
      ]
     },
     "metadata": {},
     "output_type": "display_data"
    },
    {
     "name": "stdout",
     "output_type": "stream",
     "text": [
      "valid_loss: 0.3439\tvalid_acc: 0.8549\n",
      "0.8548951048951049\n",
      "Confusion matrix, without normalization\n",
      "[[152  18]\n",
      " [ 65 337]]\n"
     ]
    },
    {
     "data": {
      "image/png": "[encoded data removed]",
      "text/plain": [
       "<Figure size 432x288 with 2 Axes>"
      ]
     },
     "metadata": {
      "needs_background": "light"
     },
     "output_type": "display_data"
    },
    {
     "name": "stdout",
     "output_type": "stream",
     "text": [
      "\n",
      "Epoch: 10\n"
     ]
    },
    {
     "data": {
      "application/vnd.jupyter.widget-view+json": {
       "model_id": "",
       "version_major": 2,
       "version_minor": 0
      },
      "text/plain": [
       "  0%|          | 0/3312 [00:00<?, ?it/s]"
      ]
     },
     "metadata": {},
     "output_type": "display_data"
    },
    {
     "name": "stdout",
     "output_type": "stream",
     "text": [
      "loss: 0.1849\tacc: 0.9255\n",
      "0.9254227053140096\n",
      "Confusion matrix, without normalization\n",
      "[[1228  108]\n",
      " [ 139 1837]]\n"
     ]
    },
    {
     "data": {
      "image/png": "[encoded data removed]",
      "text/plain": [
       "<Figure size 432x288 with 2 Axes>"
      ]
     },
     "metadata": {
      "needs_background": "light"
     },
     "output_type": "display_data"
    },
    {
     "data": {
      "application/vnd.jupyter.widget-view+json": {
       "model_id": "",
       "version_major": 2,
       "version_minor": 0
      },
      "text/plain": [
       "  0%|          | 0/572 [00:00<?, ?it/s]"
      ]
     },
     "metadata": {},
     "output_type": "display_data"
    },
    {
     "name": "stdout",
     "output_type": "stream",
     "text": [
      "valid_loss: 0.3183\tvalid_acc: 0.8601\n",
      "0.8601398601398601\n",
      "Confusion matrix, without normalization\n",
      "[[139  31]\n",
      " [ 49 353]]\n"
     ]
    },
    {
     "data": {
      "image/png": "[encoded data removed]",
      "text/plain": [
       "<Figure size 432x288 with 2 Axes>"
      ]
     },
     "metadata": {
      "needs_background": "light"
     },
     "output_type": "display_data"
    },
    {
     "name": "stdout",
     "output_type": "stream",
     "text": [
      "\n",
      "Epoch: 11\n"
     ]
    },
    {
     "data": {
      "application/vnd.jupyter.widget-view+json": {
       "model_id": "",
       "version_major": 2,
       "version_minor": 0
      },
      "text/plain": [
       "  0%|          | 0/3312 [00:00<?, ?it/s]"
      ]
     },
     "metadata": {},
     "output_type": "display_data"
    },
    {
     "name": "stdout",
     "output_type": "stream",
     "text": [
      "loss: 0.1745\tacc: 0.9285\n",
      "0.9284420289855072\n",
      "Confusion matrix, without normalization\n",
      "[[1242   94]\n",
      " [ 143 1833]]\n"
     ]
    },
    {
     "data": {
      "image/png": "[encoded data removed]",
      "text/plain": [
       "<Figure size 432x288 with 2 Axes>"
      ]
     },
     "metadata": {
      "needs_background": "light"
     },
     "output_type": "display_data"
    },
    {
     "data": {
      "application/vnd.jupyter.widget-view+json": {
       "model_id": "",
       "version_major": 2,
       "version_minor": 0
      },
      "text/plain": [
       "  0%|          | 0/572 [00:00<?, ?it/s]"
      ]
     },
     "metadata": {},
     "output_type": "display_data"
    },
    {
     "name": "stdout",
     "output_type": "stream",
     "text": [
      "valid_loss: 0.3944\tvalid_acc: 0.8217\n",
      "0.8216783216783217\n",
      "Confusion matrix, without normalization\n",
      "[[146  24]\n",
      " [ 78 324]]\n"
     ]
    },
    {
     "data": {
      "image/png": "[encoded data removed]",
      "text/plain": [
       "<Figure size 432x288 with 2 Axes>"
      ]
     },
     "metadata": {
      "needs_background": "light"
     },
     "output_type": "display_data"
    },
    {
     "name": "stdout",
     "output_type": "stream",
     "text": [
      "\n",
      "Epoch: 12\n"
     ]
    },
    {
     "data": {
      "application/vnd.jupyter.widget-view+json": {
       "model_id": "",
       "version_major": 2,
       "version_minor": 0
      },
      "text/plain": [
       "  0%|          | 0/3312 [00:00<?, ?it/s]"
      ]
     },
     "metadata": {},
     "output_type": "display_data"
    },
    {
     "name": "stdout",
     "output_type": "stream",
     "text": [
      "loss: 0.1500\tacc: 0.9439\n",
      "0.9438405797101449\n",
      "Confusion matrix, without normalization\n",
      "[[1261   75]\n",
      " [ 111 1865]]\n"
     ]
    },
    {
     "data": {
      "image/png": "[encoded data removed]",
      "text/plain": [
       "<Figure size 432x288 with 2 Axes>"
      ]
     },
     "metadata": {
      "needs_background": "light"
     },
     "output_type": "display_data"
    },
    {
     "data": {
      "application/vnd.jupyter.widget-view+json": {
       "model_id": "",
       "version_major": 2,
       "version_minor": 0
      },
      "text/plain": [
       "  0%|          | 0/572 [00:00<?, ?it/s]"
      ]
     },
     "metadata": {},
     "output_type": "display_data"
    },
    {
     "name": "stdout",
     "output_type": "stream",
     "text": [
      "valid_loss: 0.3684\tvalid_acc: 0.8427\n",
      "0.8426573426573427\n",
      "Confusion matrix, without normalization\n",
      "[[141  29]\n",
      " [ 61 341]]\n"
     ]
    },
    {
     "data": {
      "image/png": "[encoded data removed]",
      "text/plain": [
       "<Figure size 432x288 with 2 Axes>"
      ]
     },
     "metadata": {
      "needs_background": "light"
     },
     "output_type": "display_data"
    },
    {
     "name": "stdout",
     "output_type": "stream",
     "text": [
      "\n",
      "Epoch: 13\n"
     ]
    },
    {
     "data": {
      "application/vnd.jupyter.widget-view+json": {
       "model_id": "",
       "version_major": 2,
       "version_minor": 0
      },
      "text/plain": [
       "  0%|          | 0/3312 [00:00<?, ?it/s]"
      ]
     },
     "metadata": {},
     "output_type": "display_data"
    },
    {
     "name": "stdout",
     "output_type": "stream",
     "text": [
      "loss: 0.1435\tacc: 0.9430\n",
      "0.9429347826086957\n",
      "Confusion matrix, without normalization\n",
      "[[1265   71]\n",
      " [ 118 1858]]\n"
     ]
    },
    {
     "data": {
      "image/png": "[encoded data removed]",
      "text/plain": [
       "<Figure size 432x288 with 2 Axes>"
      ]
     },
     "metadata": {
      "needs_background": "light"
     },
     "output_type": "display_data"
    },
    {
     "data": {
      "application/vnd.jupyter.widget-view+json": {
       "model_id": "",
       "version_major": 2,
       "version_minor": 0
      },
      "text/plain": [
       "  0%|          | 0/572 [00:00<?, ?it/s]"
      ]
     },
     "metadata": {},
     "output_type": "display_data"
    },
    {
     "name": "stdout",
     "output_type": "stream",
     "text": [
      "valid_loss: 0.3779\tvalid_acc: 0.8357\n",
      "0.8356643356643356\n",
      "Confusion matrix, without normalization\n",
      "[[142  28]\n",
      " [ 66 336]]\n"
     ]
    },
    {
     "data": {
      "image/png": "[encoded data removed]",
      "text/plain": [
       "<Figure size 432x288 with 2 Axes>"
      ]
     },
     "metadata": {
      "needs_background": "light"
     },
     "output_type": "display_data"
    },
    {
     "name": "stdout",
     "output_type": "stream",
     "text": [
      "\n",
      "Epoch: 14\n"
     ]
    },
    {
     "data": {
      "application/vnd.jupyter.widget-view+json": {
       "model_id": "",
       "version_major": 2,
       "version_minor": 0
      },
      "text/plain": [
       "  0%|          | 0/3312 [00:00<?, ?it/s]"
      ]
     },
     "metadata": {},
     "output_type": "display_data"
    },
    {
     "name": "stdout",
     "output_type": "stream",
     "text": [
      "loss: 0.1281\tacc: 0.9505\n",
      "0.9504830917874396\n",
      "Confusion matrix, without normalization\n",
      "[[1259   77]\n",
      " [  87 1889]]\n"
     ]
    },
    {
     "data": {
      "image/png": "[encoded data removed]",
      "text/plain": [
       "<Figure size 432x288 with 2 Axes>"
      ]
     },
     "metadata": {
      "needs_background": "light"
     },
     "output_type": "display_data"
    },
    {
     "data": {
      "application/vnd.jupyter.widget-view+json": {
       "model_id": "",
       "version_major": 2,
       "version_minor": 0
      },
      "text/plain": [
       "  0%|          | 0/572 [00:00<?, ?it/s]"
      ]
     },
     "metadata": {},
     "output_type": "display_data"
    },
    {
     "name": "stdout",
     "output_type": "stream",
     "text": [
      "valid_loss: 0.4578\tvalid_acc: 0.8339\n",
      "0.833916083916084\n",
      "Confusion matrix, without normalization\n",
      "[[150  20]\n",
      " [ 75 327]]\n"
     ]
    },
    {
     "data": {
      "image/png": "[encoded data removed]",
      "text/plain": [
       "<Figure size 432x288 with 2 Axes>"
      ]
     },
     "metadata": {
      "needs_background": "light"
     },
     "output_type": "display_data"
    },
    {
     "name": "stdout",
     "output_type": "stream",
     "text": [
      "\n",
      "Epoch: 15\n"
     ]
    },
    {
     "data": {
      "application/vnd.jupyter.widget-view+json": {
       "model_id": "",
       "version_major": 2,
       "version_minor": 0
      },
      "text/plain": [
       "  0%|          | 0/3312 [00:00<?, ?it/s]"
      ]
     },
     "metadata": {},
     "output_type": "display_data"
    },
    {
     "name": "stdout",
     "output_type": "stream",
     "text": [
      "loss: 0.1156\tacc: 0.9572\n",
      "0.9571256038647343\n",
      "Confusion matrix, without normalization\n",
      "[[1284   52]\n",
      " [  90 1886]]\n"
     ]
    },
    {
     "data": {
      "image/png": "[encoded data removed]",
      "text/plain": [
       "<Figure size 432x288 with 2 Axes>"
      ]
     },
     "metadata": {
      "needs_background": "light"
     },
     "output_type": "display_data"
    },
    {
     "data": {
      "application/vnd.jupyter.widget-view+json": {
       "model_id": "",
       "version_major": 2,
       "version_minor": 0
      },
      "text/plain": [
       "  0%|          | 0/572 [00:00<?, ?it/s]"
      ]
     },
     "metadata": {},
     "output_type": "display_data"
    },
    {
     "name": "stdout",
     "output_type": "stream",
     "text": [
      "valid_loss: 0.3671\tvalid_acc: 0.8392\n",
      "0.8391608391608392\n",
      "Confusion matrix, without normalization\n",
      "[[143  27]\n",
      " [ 65 337]]\n"
     ]
    },
    {
     "data": {
      "image/png": "[encoded data removed]",
      "text/plain": [
       "<Figure size 432x288 with 2 Axes>"
      ]
     },
     "metadata": {
      "needs_background": "light"
     },
     "output_type": "display_data"
    },
    {
     "name": "stdout",
     "output_type": "stream",
     "text": [
      "\n",
      "Epoch: 16\n"
     ]
    },
    {
     "data": {
      "application/vnd.jupyter.widget-view+json": {
       "model_id": "",
       "version_major": 2,
       "version_minor": 0
      },
      "text/plain": [
       "  0%|          | 0/3312 [00:00<?, ?it/s]"
      ]
     },
     "metadata": {},
     "output_type": "display_data"
    },
    {
     "name": "stdout",
     "output_type": "stream",
     "text": [
      "loss: 0.0980\tacc: 0.9656\n",
      "0.9655797101449275\n",
      "Confusion matrix, without normalization\n",
      "[[1293   43]\n",
      " [  71 1905]]\n"
     ]
    },
    {
     "data": {
      "image/png": "[encoded data removed]",
      "text/plain": [
       "<Figure size 432x288 with 2 Axes>"
      ]
     },
     "metadata": {
      "needs_background": "light"
     },
     "output_type": "display_data"
    },
    {
     "data": {
      "application/vnd.jupyter.widget-view+json": {
       "model_id": "",
       "version_major": 2,
       "version_minor": 0
      },
      "text/plain": [
       "  0%|          | 0/572 [00:00<?, ?it/s]"
      ]
     },
     "metadata": {},
     "output_type": "display_data"
    },
    {
     "name": "stdout",
     "output_type": "stream",
     "text": [
      "valid_loss: 0.3943\tvalid_acc: 0.8532\n",
      "0.8531468531468531\n",
      "Confusion matrix, without normalization\n",
      "[[141  29]\n",
      " [ 55 347]]\n"
     ]
    },
    {
     "data": {
      "image/png": "[encoded data removed]",
      "text/plain": [
       "<Figure size 432x288 with 2 Axes>"
      ]
     },
     "metadata": {
      "needs_background": "light"
     },
     "output_type": "display_data"
    },
    {
     "name": "stdout",
     "output_type": "stream",
     "text": [
      "\n",
      "Epoch: 17\n"
     ]
    },
    {
     "data": {
      "application/vnd.jupyter.widget-view+json": {
       "model_id": "",
       "version_major": 2,
       "version_minor": 0
      },
      "text/plain": [
       "  0%|          | 0/3312 [00:00<?, ?it/s]"
      ]
     },
     "metadata": {},
     "output_type": "display_data"
    },
    {
     "name": "stdout",
     "output_type": "stream",
     "text": [
      "loss: 0.0875\tacc: 0.9674\n",
      "0.967391304347826\n",
      "Confusion matrix, without normalization\n",
      "[[1295   41]\n",
      " [  67 1909]]\n"
     ]
    },
    {
     "data": {
      "image/png": "[encoded data removed]",
      "text/plain": [
       "<Figure size 432x288 with 2 Axes>"
      ]
     },
     "metadata": {
      "needs_background": "light"
     },
     "output_type": "display_data"
    },
    {
     "data": {
      "application/vnd.jupyter.widget-view+json": {
       "model_id": "",
       "version_major": 2,
       "version_minor": 0
      },
      "text/plain": [
       "  0%|          | 0/572 [00:00<?, ?it/s]"
      ]
     },
     "metadata": {},
     "output_type": "display_data"
    },
    {
     "name": "stdout",
     "output_type": "stream",
     "text": [
      "valid_loss: 0.3737\tvalid_acc: 0.8706\n",
      "0.8706293706293706\n",
      "Confusion matrix, without normalization\n",
      "[[136  34]\n",
      " [ 40 362]]\n"
     ]
    },
    {
     "data": {
      "image/png": "[encoded data removed]",
      "text/plain": [
       "<Figure size 432x288 with 2 Axes>"
      ]
     },
     "metadata": {
      "needs_background": "light"
     },
     "output_type": "display_data"
    },
    {
     "name": "stdout",
     "output_type": "stream",
     "text": [
      "\n",
      "Epoch: 18\n"
     ]
    },
    {
     "data": {
      "application/vnd.jupyter.widget-view+json": {
       "model_id": "",
       "version_major": 2,
       "version_minor": 0
      },
      "text/plain": [
       "  0%|          | 0/3312 [00:00<?, ?it/s]"
      ]
     },
     "metadata": {},
     "output_type": "display_data"
    },
    {
     "name": "stdout",
     "output_type": "stream",
     "text": [
      "loss: 0.0798\tacc: 0.9710\n",
      "0.9710144927536232\n",
      "Confusion matrix, without normalization\n",
      "[[1300   36]\n",
      " [  60 1916]]\n"
     ]
    },
    {
     "data": {
      "image/png": "[encoded data removed]",
      "text/plain": [
       "<Figure size 432x288 with 2 Axes>"
      ]
     },
     "metadata": {
      "needs_background": "light"
     },
     "output_type": "display_data"
    },
    {
     "data": {
      "application/vnd.jupyter.widget-view+json": {
       "model_id": "",
       "version_major": 2,
       "version_minor": 0
      },
      "text/plain": [
       "  0%|          | 0/572 [00:00<?, ?it/s]"
      ]
     },
     "metadata": {},
     "output_type": "display_data"
    },
    {
     "name": "stdout",
     "output_type": "stream",
     "text": [
      "valid_loss: 0.4301\tvalid_acc: 0.8532\n",
      "0.8531468531468531\n",
      "Confusion matrix, without normalization\n",
      "[[148  22]\n",
      " [ 62 340]]\n"
     ]
    },
    {
     "data": {
      "image/png": "[encoded data removed]",
      "text/plain": [
       "<Figure size 432x288 with 2 Axes>"
      ]
     },
     "metadata": {
      "needs_background": "light"
     },
     "output_type": "display_data"
    },
    {
     "name": "stdout",
     "output_type": "stream",
     "text": [
      "\n",
      "Epoch: 19\n"
     ]
    },
    {
     "data": {
      "application/vnd.jupyter.widget-view+json": {
       "model_id": "",
       "version_major": 2,
       "version_minor": 0
      },
      "text/plain": [
       "  0%|          | 0/3312 [00:00<?, ?it/s]"
      ]
     },
     "metadata": {},
     "output_type": "display_data"
    },
    {
     "name": "stdout",
     "output_type": "stream",
     "text": [
      "loss: 0.0739\tacc: 0.9729\n",
      "0.9728260869565217\n",
      "Confusion matrix, without normalization\n",
      "[[1300   36]\n",
      " [  54 1922]]\n"
     ]
    },
    {
     "data": {
      "image/png": "[encoded data removed]",
      "text/plain": [
       "<Figure size 432x288 with 2 Axes>"
      ]
     },
     "metadata": {
      "needs_background": "light"
     },
     "output_type": "display_data"
    },
    {
     "data": {
      "application/vnd.jupyter.widget-view+json": {
       "model_id": "",
       "version_major": 2,
       "version_minor": 0
      },
      "text/plain": [
       "  0%|          | 0/572 [00:00<?, ?it/s]"
      ]
     },
     "metadata": {},
     "output_type": "display_data"
    },
    {
     "name": "stdout",
     "output_type": "stream",
     "text": [
      "valid_loss: 0.4278\tvalid_acc: 0.8601\n",
      "0.8601398601398601\n",
      "Confusion matrix, without normalization\n",
      "[[140  30]\n",
      " [ 50 352]]\n"
     ]
    },
    {
     "data": {
      "image/png": "[encoded data removed]",
      "text/plain": [
       "<Figure size 432x288 with 2 Axes>"
      ]
     },
     "metadata": {
      "needs_background": "light"
     },
     "output_type": "display_data"
    },
    {
     "name": "stdout",
     "output_type": "stream",
     "text": [
      "\n",
      "Epoch: 20\n"
     ]
    },
    {
     "data": {
      "application/vnd.jupyter.widget-view+json": {
       "model_id": "",
       "version_major": 2,
       "version_minor": 0
      },
      "text/plain": [
       "  0%|          | 0/3312 [00:00<?, ?it/s]"
      ]
     },
     "metadata": {},
     "output_type": "display_data"
    },
    {
     "ename": "KeyboardInterrupt",
     "evalue": "",
     "output_type": "error",
     "traceback": [
      "\u001b[0;31m---------------------------------------------------------------------------\u001b[0m",
      "\u001b[0;31mKeyboardInterrupt\u001b[0m                         Traceback (most recent call last)",
      "\u001b[0;32m/tmp/ipykernel_19340/3944743633.py\u001b[0m in \u001b[0;36m<module>\u001b[0;34m\u001b[0m\n\u001b[1;32m     19\u001b[0m         \u001b[0moutput\u001b[0m \u001b[0;34m=\u001b[0m \u001b[0mmodel\u001b[0m\u001b[0;34m(\u001b[0m\u001b[0mdata\u001b[0m\u001b[0;34m)\u001b[0m\u001b[0;34m.\u001b[0m\u001b[0mto\u001b[0m\u001b[0;34m(\u001b[0m\u001b[0;36m0\u001b[0m\u001b[0;34m)\u001b[0m\u001b[0;34m\u001b[0m\u001b[0;34m\u001b[0m\u001b[0m\n\u001b[1;32m     20\u001b[0m \u001b[0;34m\u001b[0m\u001b[0m\n\u001b[0;32m---> 21\u001b[0;31m         \u001b[0mtrain_label\u001b[0m\u001b[0;34m.\u001b[0m\u001b[0mextend\u001b[0m\u001b[0;34m(\u001b[0m\u001b[0mlabel\u001b[0m\u001b[0;34m.\u001b[0m\u001b[0mdetach\u001b[0m\u001b[0;34m(\u001b[0m\u001b[0;34m)\u001b[0m\u001b[0;34m.\u001b[0m\u001b[0mcpu\u001b[0m\u001b[0;34m(\u001b[0m\u001b[0;34m)\u001b[0m\u001b[0;34m.\u001b[0m\u001b[0mnumpy\u001b[0m\u001b[0;34m(\u001b[0m\u001b[0;34m)\u001b[0m\u001b[0;34m)\u001b[0m\u001b[0;34m\u001b[0m\u001b[0;34m\u001b[0m\u001b[0m\n\u001b[0m\u001b[1;32m     22\u001b[0m         \u001b[0mtrain_pred\u001b[0m\u001b[0;34m.\u001b[0m\u001b[0mextend\u001b[0m\u001b[0;34m(\u001b[0m\u001b[0moutput\u001b[0m\u001b[0;34m.\u001b[0m\u001b[0margmax\u001b[0m\u001b[0;34m(\u001b[0m\u001b[0maxis\u001b[0m\u001b[0;34m=\u001b[0m\u001b[0;36m1\u001b[0m\u001b[0;34m)\u001b[0m\u001b[0;34m.\u001b[0m\u001b[0mdetach\u001b[0m\u001b[0;34m(\u001b[0m\u001b[0;34m)\u001b[0m\u001b[0;34m.\u001b[0m\u001b[0mcpu\u001b[0m\u001b[0;34m(\u001b[0m\u001b[0;34m)\u001b[0m\u001b[0;34m.\u001b[0m\u001b[0mnumpy\u001b[0m\u001b[0;34m(\u001b[0m\u001b[0;34m)\u001b[0m\u001b[0;34m)\u001b[0m\u001b[0;34m\u001b[0m\u001b[0;34m\u001b[0m\u001b[0m\n\u001b[1;32m     23\u001b[0m \u001b[0;34m\u001b[0m\u001b[0m\n",
      "\u001b[0;31mKeyboardInterrupt\u001b[0m: "
     ]
    },
    {
     "data": {
      "text/html": [
       "<br/>Waiting for W&B process to finish, PID 19436... <strong style=\"color:green\">(success).</strong>"
      ],
      "text/plain": [
       "<IPython.core.display.HTML object>"
      ]
     },
     "metadata": {},
     "output_type": "display_data"
    }
   ],
   "source": [
    "wandb.watch(model)\n",
    "seed_everything(SEED)\n",
    "\n",
    "for epoch in tqdm(range(EPOCH)):\n",
    "    print(f'Epoch: {epoch}')\n",
    "    \n",
    "    epoch_loss = 0\n",
    "    epoch_accuracy = 0\n",
    "    train_label = []\n",
    "    train_pred = []\n",
    "\n",
    "    model.train()\n",
    "    for data, label in tqdm(train_dataloader):\n",
    "        data = data.to(0)\n",
    "        label = label.to(0)\n",
    "        \n",
    "        optimizer.zero_grad()\n",
    "        \n",
    "        output = model(data).to(0)\n",
    "        \n",
    "        train_label.extend(label.detach().cpu().numpy())\n",
    "        train_pred.extend(output.argmax(axis=1).detach().cpu().numpy())\n",
    "        \n",
    "        loss = criterion(output, label)\n",
    "        \n",
    "        loss.backward()\n",
    "        optimizer.step()\n",
    "\n",
    "        acc = (output.argmax(axis=1) == label).float().mean()\n",
    "        epoch_accuracy += acc / len(train_dataloader)\n",
    "        epoch_loss += loss / len(train_dataloader)\n",
    "        \n",
    "    # scheduler.step()\n",
    "    \n",
    "    print(f'loss: {epoch_loss:.4f}\\tacc: {epoch_accuracy:.4f}')\n",
    "    print(accuracy_score(train_label, train_pred))\n",
    "    plot_confusion_matrix(confusion_matrix(train_label, train_pred), classes=['0', '1'], title='train')\n",
    "    plt.show()\n",
    "    \n",
    "    # model save\n",
    "    torch.save([model.state_dict(), model.pos_embed], f'epoch_{epoch}.pt')\n",
    "        \n",
    "    model.eval()\n",
    "    with torch.no_grad():\n",
    "        epoch_val_accuracy = 0\n",
    "        epoch_val_loss = 0\n",
    "        valid_label = []\n",
    "        valid_pred = []\n",
    "        for data, label in tqdm(valid_dataloader):\n",
    "            data = data.to(0)\n",
    "            label = label.to(0)\n",
    "\n",
    "            val_output = model(data).to(0)\n",
    "            \n",
    "            valid_label.extend(label.detach().cpu().numpy())\n",
    "            valid_pred.extend(val_output.argmax(axis=1).detach().cpu().numpy())\n",
    "            \n",
    "            val_loss = criterion(val_output, label)\n",
    "\n",
    "            acc = (val_output.argmax(axis=1) == label).float().mean()\n",
    "            epoch_val_accuracy += acc / len(valid_dataloader)\n",
    "            epoch_val_loss += val_loss / len(valid_dataloader)\n",
    "    \n",
    "    print(f'valid_loss: {epoch_val_loss:.4f}\\tvalid_acc: {epoch_val_accuracy:.4f}')\n",
    "    plot_confusion_matrix(confusion_matrix(valid_label, valid_pred), classes=['0', '1'], title='valid')\n",
    "    plt.show()\n",
    "    \n",
    "    wandb.log({\n",
    "        'epoch': epoch,\n",
    "        'loss': epoch_loss,\n",
    "        'acc': epoch_accuracy,\n",
    "        'valid_loss': epoch_val_loss,\n",
    "        'valid_acc': epoch_val_accuracy,\n",
    "    })\n",
    "    \n",
    "    print()"
   ]
  },
  {
   "cell_type": "code",
   "execution_count": null,
   "id": "1098f5c3-77cd-425d-9e2d-35d5d987245e",
   "metadata": {},
   "outputs": [],
   "source": []
  }
 ],
 "metadata": {
  "kernelspec": {
   "display_name": "Python 3 (ipykernel)",
   "language": "python",
   "name": "python3"
  },
  "language_info": {
   "codemirror_mode": {
    "name": "ipython",
    "version": 3
   },
   "file_extension": ".py",
   "mimetype": "text/x-python",
   "name": "python",
   "nbconvert_exporter": "python",
   "pygments_lexer": "ipython3",
   "version": "3.7.11"
  }
 },
 "nbformat": 4,
 "nbformat_minor": 5
}
