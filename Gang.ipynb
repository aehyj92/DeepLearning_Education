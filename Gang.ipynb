{
  "nbformat": 4,
  "nbformat_minor": 0,
  "metadata": {
    "colab": {
      "name": "Untitled3.ipynb",
      "provenance": [],
      "authorship_tag": "ABX9TyOzLQfqRU+ws4Yq8kHeHieb",
      "include_colab_link": true
    },
    "kernelspec": {
      "name": "python3",
      "display_name": "Python 3"
    },
    "language_info": {
      "name": "python"
    }
  },
  "cells": [
    {
      "cell_type": "markdown",
      "metadata": {
        "id": "view-in-github",
        "colab_type": "text"
      },
      "source": [
        "<a href=\"https://colab.research.google.com/github/aehyj92/DeepLearning_Education/blob/main/Gang.ipynb\" target=\"_parent\"><img src=\"https://colab.research.google.com/assets/colab-badge.svg\" alt=\"Open In Colab\"/></a>"
      ]
    },
    {
      "cell_type": "code",
      "execution_count": 1,
      "metadata": {
        "id": "v7-Ded6NzTob"
      },
      "outputs": [],
      "source": [
        "import numpy as np\n",
        "from sklearn.model_selection import train_test_split\n",
        "from sklearn.neural_network import MLPRegressor\n",
        "from sklearn.metrics import r2_score"
      ]
    },
    {
      "cell_type": "code",
      "source": [
        "x = np.loadtxt('x.csv', delimiter=',', dtype=np.float32)\n",
        "y = np.loadtxt('y.csv', delimiter=',', dtype=np.float32)"
      ],
      "metadata": {
        "id": "LevhEkZezcsm"
      },
      "execution_count": 2,
      "outputs": []
    },
    {
      "cell_type": "code",
      "source": [
        "x_train, x_test, y_train, y_test = train_test_split(x, y, train_size=0.7, test_size=0.3)"
      ],
      "metadata": {
        "id": "AoVDYXZ-ziAd"
      },
      "execution_count": 3,
      "outputs": []
    },
    {
      "cell_type": "code",
      "source": [
        "model = MLPRegressor(hidden_layer_sizes=[64, 256, 1024], max_iter=5000, alpha=0.005)\n",
        "model.fit(x_train, y_train)"
      ],
      "metadata": {
        "colab": {
          "base_uri": "https://localhost:8080/"
        },
        "id": "UAEaPmrlzkkl",
        "outputId": "8a454d87-85e9-4b5e-ef73-a1c46c9dfbf1"
      },
      "execution_count": 4,
      "outputs": [
        {
          "output_type": "execute_result",
          "data": {
            "text/plain": [
              "MLPRegressor(alpha=0.005, hidden_layer_sizes=[64, 256, 1024], max_iter=5000)"
            ]
          },
          "metadata": {},
          "execution_count": 4
        }
      ]
    },
    {
      "cell_type": "code",
      "source": [
        "print(model.__class__)\n",
        "print(r2_score(y_train, model.predict(x_train)))\n",
        "print(r2_score(y_test, model.predict(x_test)))"
      ],
      "metadata": {
        "colab": {
          "base_uri": "https://localhost:8080/"
        },
        "id": "9zklJ36Y0xyN",
        "outputId": "354aa7c0-3461-488f-e3c2-9941079ef3d3"
      },
      "execution_count": 5,
      "outputs": [
        {
          "output_type": "stream",
          "name": "stdout",
          "text": [
            "<class 'sklearn.neural_network._multilayer_perceptron.MLPRegressor'>\n",
            "0.9010356073478697\n",
            "0.038399797094166375\n"
          ]
        }
      ]
    },
    {
      "cell_type": "code",
      "source": [
        "from joblib import dump\n",
        "dump(model, 'ctrl.joblib')"
      ],
      "metadata": {
        "colab": {
          "base_uri": "https://localhost:8080/"
        },
        "id": "T24Rbx0l0209",
        "outputId": "1c03db9b-1e7d-4c9b-b09a-b0d417b2803d"
      },
      "execution_count": 6,
      "outputs": [
        {
          "output_type": "execute_result",
          "data": {
            "text/plain": [
              "['ctrl.joblib']"
            ]
          },
          "metadata": {},
          "execution_count": 6
        }
      ]
    },
    {
      "cell_type": "code",
      "source": [
        "A = np.array([[0.8189, 0.0863, 0.0900, 0.0813],\n",
        "              [0.2524, 1.0033, 0.0313, 0.2004],\n",
        "              [-0.0545, 0.0102, 0.7901, -0.2580],\n",
        "              [-0.1918, -0.1034, 0.1602, 0.8604]])\n",
        "Bu = np.array([[0.0045, 0.0044],[0.1001, 0.0100],[0.0003, -0.0136],[-0.0051, 0.0936]])\n",
        "\n",
        "N = 100\n",
        "x = np.zeros((4, N+1))\n",
        "u = np.zeros((2, N+1))\n",
        "\n",
        "lb, ub = -1, 1\n",
        "x[:,0] = lb + (ub-lb)*np.random.rand(4,)\n",
        "print(x[:,0])"
      ],
      "metadata": {
        "colab": {
          "base_uri": "https://localhost:8080/"
        },
        "id": "nsUAc-hp1QbF",
        "outputId": "8446b26f-125d-4a9d-971c-88e698ecfd9d"
      },
      "execution_count": 7,
      "outputs": [
        {
          "output_type": "stream",
          "name": "stdout",
          "text": [
            "[ 0.75600946  0.92711379  0.78537669 -0.72277964]\n"
          ]
        }
      ]
    },
    {
      "cell_type": "code",
      "source": [
        "x0 = np.array(x[0:3,0])\n",
        "x0 = np.append(x0, np.array([0, 0]))\n",
        "p = model.predict(x0.reshape(1,5))\n",
        "u[:,0] = p[:,1:3];\n",
        "for k in range(0, N):\n",
        "    x[:,k+1] = A @ x[:,k] + Bu @ u[:,k]\n",
        "    xk = np.array(x[0:3,k+1])\n",
        "    xk = np.append(xk, u[:,k])\n",
        "    p = model.predict(xk.reshape(1,5))\n",
        "    u[:,k+1] = p[:,1:3];"
      ],
      "metadata": {
        "id": "Dfa68wID1TgU"
      },
      "execution_count": 8,
      "outputs": []
    },
    {
      "cell_type": "code",
      "source": [
        "%matplotlib inline\n",
        "import matplotlib.pyplot as plt\n",
        "\n",
        "t = np.linspace(0, N, N + 1)\n",
        "plt.plot(t, x[0,:])\n",
        "plt.plot(t, x[1,:])\n",
        "plt.plot(t, x[2,:])\n",
        "plt.plot(t, x[3,:])\n",
        "plt.legend([\"x1\", \"x2\", \"x3\", \"x4\"])"
      ],
      "metadata": {
        "colab": {
          "base_uri": "https://localhost:8080/",
          "height": 287
        },
        "id": "z9ChducH1XCV",
        "outputId": "031fb8ef-5eae-4791-b47f-e4d968adc653"
      },
      "execution_count": 9,
      "outputs": [
        {
          "output_type": "execute_result",
          "data": {
            "text/plain": [
              "<matplotlib.legend.Legend at 0x7f095a688350>"
            ]
          },
          "metadata": {},
          "execution_count": 9
        },
        {
          "output_type": "display_data",
          "data": {
            "text/plain": [
              "<Figure size 432x288 with 1 Axes>"
            ],
            "image/png": "[encoded data removed]"
          },
          "metadata": {
            "needs_background": "light"
          }
        }
      ]
    },
    {
      "cell_type": "code",
      "source": [
        "import tensorflow as tf\n",
        "from tensorflow import keras\n",
        "from tensorflow.keras import layers"
      ],
      "metadata": {
        "id": "Xp7IhwAP4bIe"
      },
      "execution_count": 10,
      "outputs": []
    },
    {
      "cell_type": "code",
      "source": [
        "model = keras.Sequential()\n",
        "model.add(layers.Dense(64, input_dim=5))\n",
        "model.add(layers.Dense(256))\n",
        "model.add(layers.Dense(1024))\n",
        "model.add(layers.Dense(3))\n",
        "model.summary()"
      ],
      "metadata": {
        "colab": {
          "base_uri": "https://localhost:8080/"
        },
        "id": "xXEMxCU957zG",
        "outputId": "d7df7308-2085-48d7-acac-7226d7287200"
      },
      "execution_count": 14,
      "outputs": [
        {
          "output_type": "stream",
          "name": "stdout",
          "text": [
            "Model: \"sequential_1\"\n",
            "_________________________________________________________________\n",
            " Layer (type)                Output Shape              Param #   \n",
            "=================================================================\n",
            " dense_3 (Dense)             (None, 64)                384       \n",
            "                                                                 \n",
            " dense_4 (Dense)             (None, 256)               16640     \n",
            "                                                                 \n",
            " dense_5 (Dense)             (None, 1024)              263168    \n",
            "                                                                 \n",
            " dense_6 (Dense)             (None, 3)                 3075      \n",
            "                                                                 \n",
            "=================================================================\n",
            "Total params: 283,267\n",
            "Trainable params: 283,267\n",
            "Non-trainable params: 0\n",
            "_________________________________________________________________\n"
          ]
        }
      ]
    },
    {
      "cell_type": "code",
      "source": [
        "class PrintDot(keras.callbacks.Callback):\n",
        "  def on_epoch_end(self, epoch, logs):\n",
        "    if epoch % 100 == 0: print('')\n",
        "    print('.', end='')\n",
        "\n",
        "optimizer = tf.keras.optimizers.RMSprop(0.001)\n",
        "model.compile(loss='mse', optimizer=optimizer, metrics=['mae', 'mse'])\n",
        "model.fit(x_train, y_train, epochs=5000, verbose=0, callbacks=[PrintDot()])"
      ],
      "metadata": {
        "colab": {
          "base_uri": "https://localhost:8080/"
        },
        "id": "Ou2v29C47Ub3",
        "outputId": "c08a337b-af61-4401-dd4e-bdf690b303cc"
      },
      "execution_count": null,
      "outputs": [
        {
          "output_type": "stream",
          "name": "stdout",
          "text": [
            "\n",
            "....................................................................................................\n",
            "....................................................................................................\n",
            "....................................................................................................\n",
            "....................................................................................................\n",
            "....................................................................................................\n",
            "....................................................................................................\n",
            "....................................................................................................\n",
            "....................................................................................................\n",
            "....................................................................................................\n",
            "....................................................................................................\n",
            "....................................................................................................\n",
            "....................................................................................................\n",
            "....................................................................................................\n",
            "....................................................................................................\n",
            "....................................................................................................\n",
            "....................................................................................................\n",
            "..............................."
          ]
        }
      ]
    }
  ]
}