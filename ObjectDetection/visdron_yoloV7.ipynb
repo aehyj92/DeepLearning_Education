{
  "nbformat": 4,
  "nbformat_minor": 0,
  "metadata": {
    "colab": {
      "name": "Untitled2.ipynb",
      "provenance": [],
      "authorship_tag": "ABX9TyOH9ziX5KXuEZU9dXulaoOk",
      "include_colab_link": true
    },
    "kernelspec": {
      "name": "python3",
      "display_name": "Python 3"
    },
    "language_info": {
      "name": "python"
    }
  },
  "cells": [
    {
      "cell_type": "markdown",
      "metadata": {
        "id": "view-in-github",
        "colab_type": "text"
      },
      "source": [
        "<a href=\"https://colab.research.google.com/github/aehyj92/DeepLearning_Education/blob/main/ObjectDetection/visdron_yoloV7.ipynb\" target=\"_parent\"><img src=\"https://colab.research.google.com/assets/colab-badge.svg\" alt=\"Open In Colab\"/></a>"
      ]
    },
    {
      "cell_type": "code",
      "execution_count": null,
      "metadata": {
        "id": "o7Q211Abn-aI"
      },
      "outputs": [],
      "source": [
        "https://colab.research.google.com/drive/1xpqi3DbBla8AyvTEtbKFL_w_NS7SbfiK#scrollTo=s9W1JKBZ7tU4"
      ]
    }
  ]
}